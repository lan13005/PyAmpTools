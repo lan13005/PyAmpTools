{
 "cells": [
  {
   "cell_type": "markdown",
   "metadata": {},
   "source": [
    "# Loading Libraries"
   ]
  },
  {
   "cell_type": "markdown",
   "metadata": {},
   "source": [
    "The standard way to load libraries is through the `atiSetup` module. Some environment variables can be set (like MPI/GPU) to specify which libraries should be loaded. Some aliasing and pythonization of the c++ wrapped class is performed to simplify syntax as they all live within the `PyROOT` namespace."
   ]
  },
  {
   "cell_type": "code",
   "execution_count": null,
   "metadata": {},
   "outputs": [],
   "source": [
    "from pyamptools import atiSetup\n",
    "import ROOT"
   ]
  },
  {
   "cell_type": "markdown",
   "metadata": {},
   "source": [
    "The main module to load the necessary libraries is `atiSetup`, in particular its `setup` function.\n",
    "\n",
    "**Dynamic loading** - Depending on who calls the python function (i.e. `bash`, `mpiexec`, ...) CPU or MPI libraries will be loaded. GPU libraries will be loaded if `nvidia-smi` can be found in `PATH`. We can also explictly load a particular cpu/mpi/gpu/mpi+gpu libraries by passing an accelerator string.\n",
    "\n",
    "We can also decide to load FSRoot or gen_amp (simulation program) now. See [atiSetup](https://lan13005.github.io/PyAmpTools/api/atiSetup.html) for API and source code."
   ]
  },
  {
   "cell_type": "code",
   "execution_count": null,
   "metadata": {},
   "outputs": [],
   "source": [
    "############## SET ENVIRONMENT VARIABLES ##############\n",
    "USE_MPI, USE_GPU, RANK_MPI = atiSetup.setup(globals())  # RANK_MPI defaults to 0 even if not using MPI"
   ]
  },
  {
   "cell_type": "markdown",
   "metadata": {},
   "source": [
    "Lets try and load `FSRoot` and `gen_amp` libraries also"
   ]
  },
  {
   "cell_type": "code",
   "execution_count": null,
   "metadata": {},
   "outputs": [],
   "source": [
    "############## SET ENVIRONMENT VARIABLES ##############\n",
    "USE_MPI, USE_GPU, RANK_MPI = atiSetup.setup(globals(), use_fsroot=True, use_genamp=True)  # RANK_MPI defaults to 0 even if not using MPI"
   ]
  },
  {
   "cell_type": "markdown",
   "metadata": {},
   "source": [
    "Since all wrapped classes live under `PyROOT` it can be convenient to set aliases"
   ]
  },
  {
   "cell_type": "code",
   "execution_count": null,
   "metadata": {},
   "outputs": [],
   "source": [
    "################ SET ADDITIONAL ALIAS ###################\n",
    "AmplitudeInfo = ROOT.AmplitudeInfo\n",
    "TH1 = ROOT.TH1"
   ]
  },
  {
   "cell_type": "code",
   "execution_count": null,
   "metadata": {},
   "outputs": [],
   "source": []
  },
  {
   "cell_type": "code",
   "execution_count": null,
   "metadata": {},
   "outputs": [],
   "source": []
  }
 ],
 "metadata": {
  "kernelspec": {
   "display_name": "pyamptools",
   "language": "python",
   "name": "python3"
  },
  "language_info": {
   "name": "python",
   "version": "3.9.18"
  }
 },
 "nbformat": 4,
 "nbformat_minor": 2
}

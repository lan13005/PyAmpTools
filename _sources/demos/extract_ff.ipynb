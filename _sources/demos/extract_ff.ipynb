{
 "cells": [
  {
   "cell_type": "markdown",
   "metadata": {},
   "source": [
    "# Extracting Fit Fractions"
   ]
  },
  {
   "cell_type": "code",
   "execution_count": null,
   "metadata": {},
   "outputs": [],
   "source": [
    "import os\n",
    "\n",
    "PYAMPTOOLS_HOME = os.environ[\"PYAMPTOOLS_HOME\"]\n",
    "SRC = f\"{PYAMPTOOLS_HOME}/src/pyamptools\"\n",
    "fit_results = f\"{PYAMPTOOLS_HOME}/tests/samples/SIMPLE_EXAMPLE/result.fit\"\n",
    "output_file = f\"{PYAMPTOOLS_HOME}/tests/ff.txt\"\n",
    "\n",
    "def test_extract_ff():\n",
    "    cmd = [\n",
    "        \"pa fitfrac\",\n",
    "        fit_results,\n",
    "        \"--outputfileName\",\n",
    "        output_file,\n",
    "        \"--regex_merge\",\n",
    "        \"'.*::(.*)::.*~>\\\\1'\",\n",
    "        \"'.*(.)$~>\\\\1'\",\n",
    "    ]\n",
    "    cmd = \" \".join(cmd)\n",
    "    print(cmd)\n",
    "    os.system(cmd)\n",
    "    with open(output_file, \"r\") as f:\n",
    "        print(f.readlines())\n",
    "    assert os.path.exists(output_file) and os.path.getsize(output_file) > 0\n",
    "    os.system(f\"rm {output_file}\")"
   ]
  },
  {
   "cell_type": "markdown",
   "metadata": {},
   "source": []
  }
 ],
 "metadata": {
  "kernelspec": {
   "display_name": "Python 3",
   "language": "python",
   "name": "python3"
  },
  "language_info": {
   "codemirror_mode": {
    "name": "ipython",
    "version": 3
   },
   "file_extension": ".py",
   "mimetype": "text/x-python",
   "name": "python",
   "nbconvert_exporter": "python",
   "pygments_lexer": "ipython3",
   "version": "3.9.20"
  }
 },
 "nbformat": 4,
 "nbformat_minor": 2
}

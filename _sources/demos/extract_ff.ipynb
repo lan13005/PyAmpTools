{
 "cells": [
  {
   "cell_type": "markdown",
   "metadata": {},
   "source": [
    "# Extracting Fit Fractions"
   ]
  },
  {
   "cell_type": "markdown",
   "metadata": {},
   "source": [
    "A fit results file (read in using AmpTools.FitResults) is dumped after an AmpTools fit is completed. These fit results can be parsed to extract the intensity (or fit fraction) of each amplitude. A typical procedure is to parse the fit results and dump the fit fractions for each unique amplitude and for **user specified coherent sums**. \n",
    "\n",
    "Each **AmpTools** amplitude name takes the form `REACTION::SUM::AMPLITUDE`. Everyone has their own naming schemes so a flexible way to form coherent sums is needed.\n",
    "\n",
    "`pa fitfrac` takes a flag `--regex_merge` which allows a user to specify a substitution pattern to merge amplitudes\n",
    "\n",
    "An additional flag `--test_regex` can be used to test the regex pattern without calling AmpTools to return the intensity as is used everywhere in this tutorial."
   ]
  },
  {
   "cell_type": "markdown",
   "metadata": {},
   "source": [
    "## Docstring: `pa fitfrac`"
   ]
  },
  {
   "cell_type": "code",
   "execution_count": 14,
   "metadata": {},
   "outputs": [
    {
     "name": "stdout",
     "output_type": "stream",
     "text": [
      "Help on function extract_ff in module pyamptools.extract_ff:\n",
      "\n",
      "extract_ff(results, outfileName='', fmt='.5f', test_regex=False, no_phases=False, only=None, regex_merge=None)\n",
      "    Extract fit fractions and phase differences between pairs of waves from a FitResults object.\n",
      "    \n",
      "    Args:\n",
      "        results (FitResults): FitResults object containing fit results\n",
      "        outfileName (str): Output root file name or dump to stdout if empty string\n",
      "        fmt (str): String format for printing numbers\n",
      "        test_regex (bool, optional): If True, only test and print regex grouping without calculating intensities\n",
      "        no_phases (bool, optional): If True, skip calculating phase differences\n",
      "        only (str, optional): Only dump fit fractions for \"acc\" or \"noacc\". Default dumps both.\n",
      "        regex_merge (List[str], optional): List of regex pattern/replace pairs for merging amplitudes.\n",
      "            Pairs are separated by ~>. The substitution happens for all amplitude names.\n",
      "            All amplitudes with same reduced name will be grouped into a list and a combined fit fraction\n",
      "            calculated. See AmpTools' FitResults.intensity method.\n",
      "            Examples:\n",
      "                - '.*::(.*)::.*~>\\1': Captures text between :: and replaces full match\n",
      "                - '.*(.)$~>\\1': Captures last character and replaces full match\n",
      "                - '.*reaction_(000|045|090|135)::(Pos|Neg)(?:Im|Re)::': Removes matched pattern,\n",
      "                  allowing grouping over polarizations and mirrored sums\n",
      "\n"
     ]
    }
   ],
   "source": [
    "import os\n",
    "from pyamptools.extract_ff import extract_ff\n",
    "\n",
    "PYAMPTOOLS_HOME = os.environ[\"PYAMPTOOLS_HOME\"]\n",
    "SRC = f\"{PYAMPTOOLS_HOME}/src/pyamptools\"\n",
    "fit_results = f\"{PYAMPTOOLS_HOME}/tests/samples/SIMPLE_EXAMPLE/result.fit\"\n",
    "output_file = f\"{PYAMPTOOLS_HOME}/tests/ff.txt\"\n",
    "\n",
    "help(extract_ff)"
   ]
  },
  {
   "cell_type": "markdown",
   "metadata": {},
   "source": [
    "## Example 1"
   ]
  },
  {
   "cell_type": "markdown",
   "metadata": {},
   "source": [
    "In this fit results file we have several amplitudes: \n",
    " - etapi::reZ::resAmp1\n",
    " - etapi::imZ::resAmp1\n",
    " - etapi::reZ::resAmp2\n",
    " - etapi::imZ::resAmp2\n",
    " - etapi::reZ::resAmp3\n",
    " - etapi::imZ::resAmp3\n",
    "\n",
    "What if we wanted to calculate intensity for the coherent sums across all amplitudes that share the same SUM\n",
    "\n",
    "`'.*::(.*)::.*~>\\\\1'` will match the form of our amplitude names, capture the SUM, and replace the match with the SUM. `~>` is our delimiter that separates the pattern from its replacement. In this case etapi::reZ::resAmp1 and etapi::reZ::resAmp2 will both reduce to reZ. Amplitudes with same reduced name will be put into a list which will be passed to `AmpTools.FitResults.intensity()`."
   ]
  },
  {
   "cell_type": "code",
   "execution_count": 15,
   "metadata": {},
   "outputs": [
    {
     "name": "stdout",
     "output_type": "stream",
     "text": [
      "pa fitfrac /w/halld-scshelf2101/lng/WORK/PyAmpTools9/tests/samples/SIMPLE_EXAMPLE/result.fit --outputfileName /w/halld-scshelf2101/lng/WORK/PyAmpTools9/tests/ff.txt --test_regex --regex_merge '.*::(.*)::.*~>\\1'\n",
      "atiSetup| pa called python\n",
      "\n",
      "------------------------------------------------\n",
      "atiSetup| MPI is disabled\n",
      "atiSetup| GPU is disabled\n",
      "------------------------------------------------\n",
      "\n",
      "\n",
      "atiSetup| Loading library libIUAmpTools.so ............  ON\n",
      "atiSetup| Loading library libAmpTools.so ..............  ON\n",
      "atiSetup| Loading library libAmpPlotter.so ............  ON\n",
      "atiSetup| Loading library libAmpsDataIO.so ............  ON\n",
      "atiSetup| Loading library libFSRoot.so ................  OFF\n",
      "atiSetup| Loading library libAmpsGen.so ...............  OFF\n",
      "\n",
      "\n",
      "------------------------------------------------\n",
      "------------------------------------------------\n",
      "\n",
      "   =================================================================\n",
      "   |        ^                                                      |\n",
      "   |       / \\             Version:  v0.15.3-2-g0753-dirty         |\n",
      "   |      /---\\                                                    |\n",
      "   |     /     \\           GDouble:  8 bytes                       |\n",
      "   |    /       \\ MP           MPI:  NO                            |\n",
      "   |     -------               GPU:  NO                            |\n",
      "   |        |                                                      |\n",
      "   |        |              doi.org/10.5281/zenodo.5039377          |\n",
      "   |        | OOLS                                                 |\n",
      "   =================================================================\n",
      "\n",
      "All Unique Amplitudes:\n",
      " -> etapi::reZ::resAmp1\n",
      " -> etapi::imZ::resAmp1\n",
      " -> etapi::reZ::resAmp2\n",
      " -> etapi::imZ::resAmp2\n",
      " -> etapi::reZ::resAmp3\n",
      " -> etapi::imZ::resAmp3\n",
      "\n",
      "Merged Amplitude Groups based on regex sub: r'.*::(.*)::.*' -> r'\\1':\n",
      " -> reZ merged 3 amplitudes:\n",
      "     etapi::reZ::resAmp1\n",
      "     etapi::reZ::resAmp2\n",
      "     etapi::reZ::resAmp3\n",
      " -> imZ merged 3 amplitudes:\n",
      "     etapi::imZ::resAmp1\n",
      "     etapi::imZ::resAmp2\n",
      "     etapi::imZ::resAmp3\n"
     ]
    },
    {
     "data": {
      "text/plain": [
       "0"
      ]
     },
     "execution_count": 15,
     "metadata": {},
     "output_type": "execute_result"
    }
   ],
   "source": [
    "cmd = [\n",
    "    \"pa fitfrac\",\n",
    "    fit_results,\n",
    "    \"--outputfileName\",\n",
    "    output_file,\n",
    "    \"--test_regex\",\n",
    "    \"--regex_merge\",\n",
    "    \"'.*::(.*)::.*~>\\\\1'\"\n",
    "]\n",
    "cmd = \" \".join(cmd)\n",
    "print(cmd)\n",
    "os.system(cmd)"
   ]
  },
  {
   "cell_type": "markdown",
   "metadata": {},
   "source": [
    "## Example 2"
   ]
  },
  {
   "cell_type": "markdown",
   "metadata": {},
   "source": [
    "What if we wanted to calculate intensity for the coherent sums: {resAmp1, resAmp2, resAmp3} summing over reaction and sum? \n",
    "\n",
    "`'.*::.*::'` will pattern match the REACTION::SUM part of the amplitude name. Since there is no replacement (i.e. no `~>`) this acts like a substitution with an empty string (or deletion...). In this case etapi::reZ::resAmp1 and etapi::imZ::resAmp1 will both reduce to resAmp1. Amplitudes with same reduced name will be put into a list which will be passed to `AmpTools.FitResults.intensity()`."
   ]
  },
  {
   "cell_type": "code",
   "execution_count": 16,
   "metadata": {},
   "outputs": [
    {
     "name": "stdout",
     "output_type": "stream",
     "text": [
      "pa fitfrac /w/halld-scshelf2101/lng/WORK/PyAmpTools9/tests/samples/SIMPLE_EXAMPLE/result.fit --outputfileName /w/halld-scshelf2101/lng/WORK/PyAmpTools9/tests/ff.txt --test_regex --regex_merge '.*::.*::'\n",
      "atiSetup| pa called python\n",
      "\n",
      "------------------------------------------------\n",
      "atiSetup| MPI is disabled\n",
      "atiSetup| GPU is disabled\n",
      "------------------------------------------------\n",
      "\n",
      "\n",
      "atiSetup| Loading library libIUAmpTools.so ............  ON\n",
      "atiSetup| Loading library libAmpTools.so ..............  ON\n",
      "atiSetup| Loading library libAmpPlotter.so ............  ON\n",
      "atiSetup| Loading library libAmpsDataIO.so ............  ON\n",
      "atiSetup| Loading library libFSRoot.so ................  OFF\n",
      "atiSetup| Loading library libAmpsGen.so ...............  OFF\n",
      "\n",
      "\n",
      "------------------------------------------------\n",
      "------------------------------------------------\n",
      "\n",
      "   =================================================================\n",
      "   |        ^                                                      |\n",
      "   |       / \\             Version:  v0.15.3-2-g0753-dirty         |\n",
      "   |      /---\\                                                    |\n",
      "   |     /     \\           GDouble:  8 bytes                       |\n",
      "   |    /       \\ MP           MPI:  NO                            |\n",
      "   |     -------               GPU:  NO                            |\n",
      "   |        |                                                      |\n",
      "   |        |              doi.org/10.5281/zenodo.5039377          |\n",
      "   |        | OOLS                                                 |\n",
      "   =================================================================\n",
      "\n",
      "All Unique Amplitudes:\n",
      " -> etapi::reZ::resAmp1\n",
      " -> etapi::imZ::resAmp1\n",
      " -> etapi::reZ::resAmp2\n",
      " -> etapi::imZ::resAmp2\n",
      " -> etapi::reZ::resAmp3\n",
      " -> etapi::imZ::resAmp3\n",
      "\n",
      "Merged Amplitude Groups based on regex sub: r'.*::.*::' -> r'':\n",
      " -> resAmp1 merged 2 amplitudes:\n",
      "     etapi::reZ::resAmp1\n",
      "     etapi::imZ::resAmp1\n",
      " -> resAmp2 merged 2 amplitudes:\n",
      "     etapi::reZ::resAmp2\n",
      "     etapi::imZ::resAmp2\n",
      " -> resAmp3 merged 2 amplitudes:\n",
      "     etapi::reZ::resAmp3\n",
      "     etapi::imZ::resAmp3\n"
     ]
    },
    {
     "data": {
      "text/plain": [
       "0"
      ]
     },
     "execution_count": 16,
     "metadata": {},
     "output_type": "execute_result"
    }
   ],
   "source": [
    "cmd = [\n",
    "    \"pa fitfrac\",\n",
    "    fit_results,\n",
    "    \"--outputfileName\",\n",
    "    output_file,\n",
    "    \"--test_regex\",\n",
    "    \"--regex_merge\",\n",
    "    \"'.*::.*::'\"\n",
    "]\n",
    "cmd = \" \".join(cmd)\n",
    "print(cmd)\n",
    "os.system(cmd)"
   ]
  },
  {
   "cell_type": "markdown",
   "metadata": {},
   "source": []
  },
  {
   "cell_type": "markdown",
   "metadata": {},
   "source": []
  }
 ],
 "metadata": {
  "kernelspec": {
   "display_name": "Python 3",
   "language": "python",
   "name": "python3"
  },
  "language_info": {
   "codemirror_mode": {
    "name": "ipython",
    "version": 3
   },
   "file_extension": ".py",
   "mimetype": "text/x-python",
   "name": "python",
   "nbconvert_exporter": "python",
   "pygments_lexer": "ipython3",
   "version": "3.9.20"
  }
 },
 "nbformat": 4,
 "nbformat_minor": 2
}

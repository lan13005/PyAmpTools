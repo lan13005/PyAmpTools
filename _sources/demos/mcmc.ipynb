{
 "cells": [
  {
   "cell_type": "markdown",
   "metadata": {},
   "source": [
    "# Markov Chain Monte Carlo"
   ]
  },
  {
   "cell_type": "markdown",
   "metadata": {},
   "source": [
    "Markov Chain Monte Carlo (MCMC) is another class of techniques to perform interence by sampling directly from the posterior distribution. In this tutorial we will showcase how to use [emcee](https://emcee.readthedocs.io/en/stable/), an *ensemble sampler*. Ensemble samplers uses a set of walkers that move around the parameter space generally spending more time in high probablity regions. Several types of moves are implemented in `emcee` and can be mixed together to form a probabilistic mixture, see [emcee moves documentation](https://emcee.readthedocs.io/en/stable/user/moves/). Accepting or rejecting the move is based on the [Metropolis algorithm](https://en.wikipedia.org/wiki/Metropolis%E2%80%93Hastings_algorithm). "
   ]
  },
  {
   "cell_type": "code",
   "execution_count": null,
   "metadata": {},
   "outputs": [],
   "source": [
    "import ROOT\n",
    "import os\n",
    "\n",
    "############## SET ENVIRONMENT VARIABLES ##############\n",
    "REPO_HOME     = os.environ['REPO_HOME']\n",
    "from pyamptools import atiSetup\n",
    "USE_MPI, USE_GPU, RANK_MPI = atiSetup.setup(globals(), use_genamp=True) # RANK_MPI defaults to 0 even if not using MPI\n",
    "\n",
    "import numpy as np\n",
    "import emcee\n",
    "import matplotlib.pyplot as plt\n",
    "from pyamptools.utility.LoadParameters import LoadParameters\n",
    "import corner\n",
    "from pyamptools.mcmc import mcmcManager\n",
    "\n",
    "from pyamptools.utility.utils import PrintSourceCode"
   ]
  },
  {
   "cell_type": "markdown",
   "metadata": {},
   "source": [
    "Lets start with the general setup first. We first have to define the location of the `AmpTools` configuration file that defines the fit model and datasets. We also need to define some folder names and file names to dump the results to. "
   ]
  },
  {
   "cell_type": "code",
   "execution_count": null,
   "metadata": {},
   "outputs": [],
   "source": [
    "cfgfile = f'{REPO_HOME}/tests/samples/SIMPLE_EXAMPLE/fit.cfg'\n",
    "overwrite_ofile = True\n",
    "ofile = 'mcmc/mcmc.h5'\n",
    "corner_ofile = 'corner.png'"
   ]
  },
  {
   "cell_type": "markdown",
   "metadata": {},
   "source": [
    "The main components to this algorithm are shown below. We have to define how many walkers, `nwalkers`, we wish to sample the posterior distribution with. \n",
    "\n",
    "A `burnIn` phase is typically performed before keeping any accepted samples. Depending on the setup, this phase can remove the dependence on initial conditions and helps ensure that the accepted samples are mixed. \n",
    "\n",
    "`nsamples` dictate how many accepted samples we should obtain for each walker.\n",
    "\n",
    "As we are simplying sampling around a MLE we will ignore *burn in* for now and request a small number of samples for lighter computation and cleaner output."
   ]
  },
  {
   "cell_type": "code",
   "execution_count": null,
   "metadata": {},
   "outputs": [],
   "source": [
    "nwalkers = 32\n",
    "burnIn = 0\n",
    "nsamples = 200\n",
    "overwrite_ofile = True # whether we should always overwrite the output file\n",
    "seed = 42 # for reproducibility"
   ]
  },
  {
   "cell_type": "code",
   "execution_count": null,
   "metadata": {},
   "outputs": [],
   "source": [
    "print(\"\\n ====================================================================================\")\n",
    "print(f\" cfgfile: {cfgfile}\")\n",
    "print(f\" ofile: {ofile}\")\n",
    "print(f\" corner_ofile: {corner_ofile}\")\n",
    "print(f\" nwalkers: {nwalkers}\")\n",
    "print(f\" burnIn: {burnIn}\")\n",
    "print(f\" nsamples: {nsamples}\")\n",
    "print(f\" overwrite_ofile: {overwrite_ofile}\")\n",
    "print(f\" seed: {seed}\")\n",
    "print(\" ====================================================================================\\n\")"
   ]
  },
  {
   "cell_type": "markdown",
   "metadata": {},
   "source": [
    "We also have to define the *Posterior distribution*. In practice this means we have to define the *likelihood* (which is taken from `AmpTools`) and a *prior* distribution. For now, we will ignore the *prior* and run the `emcee` sampler for the *likelihood* distribution. The definition of the log posterior probability used in this tutorial is shown below. A `mcmcManager` class is used to store the probability distributions' definitions, perform the sampling, and drawing the corner plot. We will initialize this manager in a little bit."
   ]
  },
  {
   "cell_type": "code",
   "execution_count": null,
   "metadata": {},
   "outputs": [],
   "source": [
    "PrintSourceCode(mcmcManager.LogProb)"
   ]
  },
  {
   "cell_type": "code",
   "execution_count": null,
   "metadata": {},
   "outputs": [],
   "source": [
    "############## PREPARE FOR SAMPLER ##############\n",
    "assert( os.path.exists(cfgfile) ), 'Config file does not exist at specified path'\n",
    "if os.path.isfile(f'{ofile}') and overwrite_ofile:\n",
    "    os.system(f'rm {ofile}')\n",
    "    print(\"Overwriting existing output file!\")\n",
    "if '/' in ofile:\n",
    "    ofolder = ofile[:ofile.rfind(\"/\")]\n",
    "    os.system(f'mkdir -p {ofolder}')"
   ]
  },
  {
   "cell_type": "markdown",
   "metadata": {},
   "source": [
    "Lets parse the configuration file and display the contents as we had done in the [fit tutorial](https://lan13005.github.io/PyAmpTools/notebooks/mle.html)."
   ]
  },
  {
   "cell_type": "code",
   "execution_count": null,
   "metadata": {},
   "outputs": [],
   "source": [
    "############## LOAD CONFIGURATION FILE ##############\n",
    "parser = ConfigFileParser(cfgfile)\n",
    "cfgInfo: ConfigurationInfo = parser.getConfigurationInfo()\n",
    "cfgInfo.display()\n",
    "\n",
    "############## REGISTER OBJECTS FOR AMPTOOLS ##############\n",
    "AmpToolsInterface.registerAmplitude( Zlm() )\n",
    "AmpToolsInterface.registerDataReader( DataReader() )\n",
    "\n",
    "ati = AmpToolsInterface( cfgInfo )"
   ]
  },
  {
   "cell_type": "markdown",
   "metadata": {},
   "source": [
    "`AmpTools` uses a `ParameterManager` to manage the fit parameters (amplitudes and production coefficients). Production coefficients are complex numbers and optimization is generally performed on *real* numbers. Complex production coefficients have to be flattened first, splitting them up into their real and imaginary parts. The `LoadParameters` class reads in a [FitResults](https://github.com/mashephe/AmpTools/blob/master/AmpTools/IUAmpTools/FitResults.h) file or a [ConfigurationInfo](https://github.com/mashephe/AmpTools/blob/master/AmpTools/IUAmpTools/ConfigurationInfo.h) object and extracts the free parameters. If a FitResults file is given, the MLE values used instead of the values set with the `initialize` keyword in the cfg file. This class can also perform flattening of complex parameters or unflattening to aggregate real/imaginary components again. "
   ]
  },
  {
   "cell_type": "code",
   "execution_count": null,
   "metadata": {},
   "outputs": [],
   "source": [
    "LoadParametersSampler = LoadParameters(cfgInfo)"
   ]
  },
  {
   "cell_type": "markdown",
   "metadata": {},
   "source": [
    "We can now run the mcmc sampler. See [perform_mcmc](https://lan13005.github.io/PyAmpTools/api/mcmc.html#mcmc.perform_mcmc) for the API and source code."
   ]
  },
  {
   "cell_type": "code",
   "execution_count": null,
   "metadata": {},
   "outputs": [],
   "source": [
    "############## RUN MCMC ##############\n",
    "np.random.seed(seed)\n",
    "\n",
    "atis = [ati] # list of AmpToolsInterface objects to run MCMC on\n",
    "LoadParametersSamplers = [LoadParametersSampler] # list of LoadParameters objects to run MCMC on\n",
    "\n",
    "[ ati.parameterManager().setDoCovarianceUpdate(False) for ati in atis ] # No internal Minuit fit = no covariance matrix\n",
    "\n",
    "mcmcMgr = mcmcManager(atis, LoadParametersSamplers, ofile)\n",
    "\n",
    "mcmcMgr.perform_mcmc(\n",
    "    nwalkers = nwalkers,\n",
    "    burnIn   = burnIn,\n",
    "    nsamples = nsamples,\n",
    "    sampler_kwargs = {'progress': False},  # turn off progress bar for cleaner output\n",
    ")\n",
    "\n",
    "print(f\"Fit time: {mcmcMgr.elapsed_fit_time} seconds\")"
   ]
  },
  {
   "cell_type": "markdown",
   "metadata": {},
   "source": [
    "A [corner](https://corner.readthedocs.io/en/latest/) plot shows pair-wise parameter correlations along with the parameter PDFs along the diagonal. Uncertainties can be extracted from the posterior distribution samples. [draw_corner](https://lan13005.github.io/PyAmpTools/api/mcmc.html#mcmc.draw_corner) wraps `corner` for axis formatting and plotting the Maximum a Posterior (MAP) solution (shown as blue lines) and the initial MLE values (shown as green lines).\n",
    "\n",
    "The configuration file has been seeded with the MLE fit (using the *include* keyword at the bottom of the cfg file pointing to the *seed* file outputted by `fit`). By running the `emcee` sampler this way gives an estimate of the local posterior distribution "
   ]
  },
  {
   "cell_type": "code",
   "execution_count": null,
   "metadata": {},
   "outputs": [],
   "source": [
    "mcmcMgr.draw_corner(f'{ofolder}/{corner_ofile}')"
   ]
  },
  {
   "cell_type": "markdown",
   "metadata": {},
   "source": [
    "We can see that the parameters are correlated. In this cfg file `resAmp1` is set to be real while `resAmp2` and `resAmp3` are freely floating complex numbers. It can be seen that resAmp1 is negatively correlated with the other parameters. The other parameters are uniformly positively correlated with each other."
   ]
  },
  {
   "cell_type": "markdown",
   "metadata": {},
   "source": [
    "# Additional arguments to `perform_mcmc`:\n",
    "1. `params_dict` - provides ranges or initial values to initialize the walkers with. If you wish to understand the uncertainties around a MLE value, you can pass a dictionary of values: {parameter: value} and the walkers will be initialized around a N-dimensional Gaussian ball around. If you pass a range of values, then the walkers will be uniformly randomized on these intervals. \n",
    "2. `move_mixture` - The mixture of moves can have a significant effect on the results. Each move has a set of hyperparameters and an associated probability to be performed. In general, these moves attempt to create a balance between exploring the parameter space and exploiting (or local sampling) regions of high probability."
   ]
  },
  {
   "cell_type": "code",
   "execution_count": null,
   "metadata": {},
   "outputs": [],
   "source": [
    "# Lets perform some cleanup again\n",
    "!rm -r mcmc"
   ]
  },
  {
   "cell_type": "markdown",
   "metadata": {},
   "source": []
  },
  {
   "cell_type": "markdown",
   "metadata": {},
   "source": []
  }
 ],
 "metadata": {
  "kernelspec": {
   "display_name": "pyamptools",
   "language": "python",
   "name": "python3"
  },
  "language_info": {
   "name": "python",
   "version": "3.9.18"
  }
 },
 "nbformat": 4,
 "nbformat_minor": 2
}

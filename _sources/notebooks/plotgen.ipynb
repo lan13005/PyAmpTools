{
 "cells": [
  {
   "cell_type": "markdown",
   "metadata": {},
   "source": [
    "# Plotting Fit Results"
   ]
  },
  {
   "cell_type": "code",
   "execution_count": 1,
   "metadata": {},
   "outputs": [
    {
     "name": "stdout",
     "output_type": "stream",
     "text": [
      "Welcome to JupyROOT 6.28/06\n",
      "\n",
      "------------------------------------------------\n",
      "MPI is disabled\n",
      "GPU is disabled\n",
      "Loading library libAmpTools.so .............. ON\n",
      "Loading library libAmpPlotter.so ............ ON\n",
      "Loading library libAmpsDataIO.so ............ ON\n",
      "Loading library libFSRoot.so ................ ON\n",
      "Loading library libAmpsGen.so ............... OFF\n",
      "------------------------------------------------\n",
      "\n",
      "Initializing AMPTOOLS_AMPS_DATAIO for PyROOT...\n",
      "Initializing FSRoot for PyROOT...\n"
     ]
    }
   ],
   "source": [
    "import ROOT\n",
    "import os\n",
    "from typing import List\n",
    "import argparse\n",
    "import numpy as np\n",
    "from utils import remove_all_whitespace\n",
    "from plotgen_utils import book_histogram, turn_on_specifc_waveset\n",
    "import atiSetup\n",
    "\n",
    "REPO_HOME     = os.environ['REPO_HOME']\n",
    "atiSetup.setup(globals(), use_fsroot=True)\n",
    "\n",
    "from PlotGenRDF import draw_histograms"
   ]
  },
  {
   "cell_type": "markdown",
   "metadata": {},
   "source": [
    "After performing a MLE fit a `FitResults` object is created with a `.fit` extension. This file can be read in using the `AmpTools` [PlotGenerator](https://github.com/mashephe/AmpTools/blob/master/AmpTools/IUAmpTools/PlotGenerator.h) class. In this class, Amplitudes can be turned on/off and amplitude weights can be extracted for a particular amplitude combination. These weights can then be used for plotting purposes. \n",
    "\n",
    "This tutorial will go over how we can use `FSRoot` and `RDataFrames` to produce fit results. The `draw_histograms` method of the `PlotGenRDF` module shows an example implementation. `Numpy` is used as an intermediary between `PlotGenerator` and `RDataFrame`. This choice is made so that users can makes plots in the Python ecosystem if they wish instead of going through `ROOT`. It is important to remark that `RDataFrame` does not perform any copying and reads directly from the `Numpy` array.\n",
    "\n",
    "Some *macros* can be loaded ( mirrors `FSRoot` [macros](https://github.com/remitche66/FSRoot/blob/72959ffdc223546377c690873c7759e4e6b901a0/FSBasic/FSTree.h) / [math](https://github.com/remitche66/FSRoot/blob/master/FSBasic/FSMath.h) ) that calculates various kinematic quantites (i.e. *mass* and *helicity angles*). We can load them as follows"
   ]
  },
  {
   "cell_type": "code",
   "execution_count": 2,
   "metadata": {},
   "outputs": [],
   "source": [
    "from RDFmacros import loadMacros\n",
    "loadMacros()"
   ]
  },
  {
   "cell_type": "markdown",
   "metadata": {},
   "source": [
    "We can also use `PyROOT` to load headers files. Here we will load the `gluex_style` and set the plotting style"
   ]
  },
  {
   "cell_type": "code",
   "execution_count": 3,
   "metadata": {},
   "outputs": [],
   "source": [
    "### IF USING ROOT TO PLOT - CAN SET GLUEX STYLE HERE ###\n",
    "gInterpreter.ProcessLine('#include \"gluex_style.h\"')\n",
    "gluex_style = ROOT.gluex_style() # Returns TStyle\n",
    "gluex_style.SetPadRightMargin(0.08)\n",
    "gluex_style.cd()"
   ]
  },
  {
   "cell_type": "markdown",
   "metadata": {},
   "source": [
    "Lets set some additional alias and enable multi-threading for faster results"
   ]
  },
  {
   "cell_type": "code",
   "execution_count": 4,
   "metadata": {},
   "outputs": [],
   "source": [
    "ROOT.ROOT.EnableImplicitMT() # REMOVE THIS WHEN DEBUGGING"
   ]
  },
  {
   "cell_type": "markdown",
   "metadata": {},
   "source": [
    "Lets define the location of the `.fit` file and the name of a `.pdf` file to dump drawn histograms to"
   ]
  },
  {
   "cell_type": "code",
   "execution_count": 5,
   "metadata": {},
   "outputs": [],
   "source": [
    "fit_results = f'{REPO_HOME}/tests/samples/SIMPLE_EXAMPLE/result.fit'\n",
    "hist_output_name = 'result' # dumps results to a pdf file with this name"
   ]
  },
  {
   "cell_type": "markdown",
   "metadata": {},
   "source": [
    "Lets load the `.fit` file into a `FitResults` object"
   ]
  },
  {
   "cell_type": "code",
   "execution_count": 6,
   "metadata": {},
   "outputs": [
    {
     "name": "stdout",
     "output_type": "stream",
     "text": [
      "   =================================================================\n",
      "   |        ^                                                      |\n",
      "   |       / \\             Version:  v0.15.1-dirty                 |\n",
      "   |      /---\\                                                    |\n",
      "   |     /     \\           GDouble:  8 bytes                       |\n",
      "   |    /       \\ MP           MPI:  NO                            |\n",
      "   |     -------               GPU:  NO                            |\n",
      "   |        |                                                      |\n",
      "   |        |              doi.org/10.5281/zenodo.5039377          |\n",
      "   |        | OOLS                                                 |\n",
      "   =================================================================\n"
     ]
    }
   ],
   "source": [
    "results = FitResults( fit_results )\n",
    "if not results.valid():\n",
    "    print(f'Invalid fit result in file: {fit_results}')\n",
    "    exit()"
   ]
  },
  {
   "cell_type": "markdown",
   "metadata": {},
   "source": [
    "As always, we have to register the requested amplitudes and the datareaders. We can then create a `PlotGenerator` instance. The order matters as `PlotGenerator` uses these amplitudes and datareaders."
   ]
  },
  {
   "cell_type": "code",
   "execution_count": 7,
   "metadata": {},
   "outputs": [
    {
     "name": "stdout",
     "output_type": "stream",
     "text": [
      "\n",
      "[ AmplitudeManager ]:\n",
      "\n",
      "\tCreating AmplitudeManager for the reaction:  etapi\n",
      "\t\t particle index assignment:  Beam -> 0\n",
      "\t\t particle index assignment:  Proton -> 1\n",
      "\t\t particle index assignment:  Eta -> 2\n",
      "\t\t particle index assignment:  Pi0 -> 3\n",
      "Resetting source kin in /w/halld-scshelf2101/lng/WORK/PyAmpTools/tests/samples/SIMPLE_EXAMPLE/samples/data_generated_samples.root\n",
      "Resetting source kin in /w/halld-scshelf2101/lng/WORK/PyAmpTools/tests/samples/SIMPLE_EXAMPLE/samples/flat_generated_samples.root\n",
      "Resetting source kin in /w/halld-scshelf2101/lng/WORK/PyAmpTools/tests/samples/SIMPLE_EXAMPLE/samples/flat_generated_samples.root\n"
     ]
    }
   ],
   "source": [
    "AmpToolsInterface.registerAmplitude( Zlm() )\n",
    "AmpToolsInterface.registerDataReader( DataReader() )\n",
    "\n",
    "plotGen = PlotGenerator( results )"
   ]
  },
  {
   "cell_type": "markdown",
   "metadata": {},
   "source": [
    "We can book histograms in the dictionary format shown below. For now, we will just make 1D histograms of several kinematic quantities. We use macros inspired and using `FSRoot` format to compute quantities. The macros are defined in `utils/RDFmacros.py`. \n",
    "\n",
    "For example, `MASS(ETA,PI0)` would compute the invariant mass of the `ETA, PI0` system where `ETA` and `PI0` are defined particles. The order of the `particles` matters and should match what is seen in the configuration file.\n",
    "\n",
    "In `RDataFrame`, histograms are first booked and lazily evaluated, to define as much computation as possible before a request for a result is made. "
   ]
  },
  {
   "cell_type": "code",
   "execution_count": 8,
   "metadata": {},
   "outputs": [],
   "source": [
    "############### BOOKEEPING ################\n",
    "## START WITH 1D HISTS SO WE CAN REUSE FUNCTION VALUES! ##\n",
    "## FOR THIS EXAMPLE, WILL NOT INCLUDE 2D PLOTS SO WE CAN STACK 1D HISTS FOR FIT RESULTS ##\n",
    "HISTS_TO_BOOK = {\n",
    "    # 1D Hists\n",
    "    # HistName: [ xname, Function, title, n_bins, x-min, x-max, drawOptions]\n",
    "    \"Metapi\": [ \"Metapi\", \"MASS(ETA,PI0)\", \";M(#eta#pi);Events\", 50, 1.04, 1.72, \"\" ],\n",
    "    \"Meta\":   [ \"Meta\", \"MASS(ETA)\", \";M(#eta);Events\", 50, 0.49, 0.61, \"\" ],\n",
    "    \"Mpi0\":   [ \"Mpi0\", \"MASS(PI0)\", \";M(#pi^{0});Events\", 50, 0.1, 0.18, \"\" ],\n",
    "    \"cosGJ\":  [ \"cosGJ\", \"GJCOSTHETA(ETA,PI0,RECOIL)\", \";cos(#theta_{GJ});Events\", 50, -1, 1, \"\" ],\n",
    "    \"cosHel\": [ \"cosHel\",\"HELCOSTHETA(ETA,PI0,RECOIL)\", \";cos(#theta_{HEL});Events\", 50, -1, 1, \"\" ],\n",
    "    \"phiHel\": [ \"phiHel\",\"HELPHI(ETA,PI0,RECOIL,GLUEXBEAM)\", \";#phi_{HEL};Events\", 50, -1, 1, \"\" ],\n",
    "\n",
    "    # 2D Hists\n",
    "    # HistName:     [ xname, xfunction, title, nx_bins, x_min, x_max, yname, yfunction, ny_bins, y_min, y_max, drawOptions]\n",
    "    # \"cosHelvsMass\": [ \"Metapi\", \"MASS(ETA,PI0)\", \"M(#eta#pi) vs cos(#theta_{hel})\", 100, 1.04, 1.72, \"cosHel\", \"GJCOSTHETA(ETA,PI0,GLUEXBEAM)\", 100, -1, 1, \"COLZ\"],\n",
    "}\n",
    "\n",
    "############## SETUP ##############\n",
    "particles = ['GLUEXBEAM','RECOIL','ETA','PI0']\n"
   ]
  },
  {
   "cell_type": "markdown",
   "metadata": {},
   "source": [
    "See [draw_histograms API](https://lan13005.github.io/PyAmpTools/api/plotgen.html#PlotGenRDF.draw_histograms) for more information and source code. "
   ]
  },
  {
   "cell_type": "code",
   "execution_count": 9,
   "metadata": {},
   "outputs": [
    {
     "name": "stdout",
     "output_type": "stream",
     "text": [
      " >> Plotting waveset: all\n",
      " >> Plotting waveset: resAmp1\n",
      " >> Plotting waveset: resAmp2\n",
      " >> Plotting waveset: resAmp3\n",
      " >> Plotting waveset: resAmp1;resAmp2\n",
      "\tCreating AmplitudeManager for the reaction:  etapi\n",
      "\t\t particle index assignment:  Beam -> 0\n",
      "\t\t particle index assignment:  Proton -> 1\n",
      "\t\t particle index assignment:  Eta -> 2\n",
      "\t\t particle index assignment:  Pi0 -> 3\n",
      "Resetting source kin in /w/halld-scshelf2101/lng/WORK/PyAmpTools/tests/samples/SIMPLE_EXAMPLE/samples/data_generated_samples.root\n",
      "Resetting source kin in /w/halld-scshelf2101/lng/WORK/PyAmpTools/tests/samples/SIMPLE_EXAMPLE/samples/flat_generated_samples.root\n",
      "Resetting source kin in /w/halld-scshelf2101/lng/WORK/PyAmpTools/tests/samples/SIMPLE_EXAMPLE/samples/flat_generated_samples.root\n"
     ]
    },
    {
     "name": "stderr",
     "output_type": "stream",
     "text": [
      "Info in <TCanvas::Print>: png file result_all.png has been created\n",
      "Info in <TCanvas::Print>: png file result_resAmp1.png has been created\n",
      "Info in <TCanvas::Print>: png file result_resAmp2.png has been created\n",
      "Info in <TCanvas::Print>: png file result_resAmp3.png has been created\n",
      "Info in <TCanvas::Print>: png file result_resAmp1;resAmp2.png has been created\n"
     ]
    }
   ],
   "source": [
    "amplitudes = \"all resAmp1 resAmp2 resAmp3 resAmp1;resAmp2\"\n",
    "draw_histograms(results, hist_output_name, particles, HISTS_TO_BOOK, amplitudes)"
   ]
  },
  {
   "cell_type": "markdown",
   "metadata": {},
   "source": [
    "Overall Fit results\n",
    "\n",
    "![title](result_all.png)"
   ]
  },
  {
   "cell_type": "markdown",
   "metadata": {},
   "source": [
    "Only the L=2 M=0 wave\n",
    "\n",
    "![title](result_resAmp1.png)"
   ]
  },
  {
   "cell_type": "markdown",
   "metadata": {},
   "source": [
    "Only the L=2 M=2 wave\n",
    "\n",
    "![title](result_resAmp1.png)"
   ]
  },
  {
   "cell_type": "markdown",
   "metadata": {},
   "source": [
    "Only the L=0 M=0 wave\n",
    "\n",
    "![title](result_resAmp3.png)"
   ]
  },
  {
   "cell_type": "markdown",
   "metadata": {},
   "source": [
    "Coherent sum of (L=2, M=0) (L=2, M=0) waves\n",
    "\n",
    "![title](result_resAmp1;resAmp2.png)"
   ]
  },
  {
   "cell_type": "code",
   "execution_count": 10,
   "metadata": {},
   "outputs": [],
   "source": [
    "# cleanup again\n",
    "!rm result*.png"
   ]
  }
 ],
 "metadata": {
  "kernelspec": {
   "display_name": "PyAmpTools",
   "language": "python",
   "name": "pyamptools"
  },
  "language_info": {
   "codemirror_mode": {
    "name": "ipython",
    "version": 3
   },
   "file_extension": ".py",
   "mimetype": "text/x-python",
   "name": "python",
   "nbconvert_exporter": "python",
   "pygments_lexer": "ipython3",
   "version": "3.9.18"
  }
 },
 "nbformat": 4,
 "nbformat_minor": 2
}

{
 "cells": [
  {
   "cell_type": "markdown",
   "metadata": {},
   "source": [
    "# Generating Data"
   ]
  },
  {
   "cell_type": "markdown",
   "metadata": {},
   "source": [
    "In PyAmpTools, `gen_amp` is a class that uses `AmpTools` to generate events based on some set of amplitudes. `gen_amp` is originally a compiled program, [source](https://github.com/JeffersonLab/halld_sim/blob/master/src/programs/Simulation/gen_amp/gen_amp.cc). AmpTools uses a configuration file to specify the model and dataset to be fitted.\n",
    "\n",
    "\n",
    "In order to use `gen_amp` within PyAmpTools you must first build the library. Simply go to `external/AMPTOOLS_GENERATORS` and run `make`"
   ]
  },
  {
   "cell_type": "code",
   "execution_count": 1,
   "metadata": {},
   "outputs": [
    {
     "name": "stdout",
     "output_type": "stream",
     "text": [
      "Welcome to JupyROOT 6.28/06\n",
      "atiSetup| jupyter-noteboo called python3.9\n",
      "\n",
      "------------------------------------------------\n",
      "atiSetup| MPI is disabled\n",
      "atiSetup| GPU is disabled\n",
      "------------------------------------------------\n",
      "\n",
      "\n",
      "atiSetup| Loading library libAmpTools.so ..............  ON\n",
      "atiSetup| Loading library libAmpPlotter.so ............  ON\n",
      "atiSetup| Loading library libAmpsDataIO.so ............  ON\n",
      "atiSetup| Loading library libFSRoot.so ................  OFF\n",
      "atiSetup| Loading library libAmpsGen.so ...............  ON\n",
      "\n",
      "\n",
      "------------------------------------------------\n",
      "------------------------------------------------\n",
      "\n",
      "Initializing AMPTOOLS_AMPS_DATAIO for PyROOT...\n"
     ]
    }
   ],
   "source": [
    "import ROOT\n",
    "import os\n",
    "\n",
    "############## SET ENVIRONMENT VARIABLES ##############\n",
    "REPO_HOME     = os.environ['REPO_HOME']\n",
    "import atiSetup\n",
    "USE_MPI, USE_GPU, RANK_MPI = atiSetup.setup(globals(), use_genamp=True) # RANK_MPI defaults to 0 even if not using MPI\n",
    "\n",
    "from cfgGenerator import generate_zlm_cfg\n",
    "gen_amp = ROOT.gen_amp\n",
    "\n",
    "TFile = ROOT.TFile"
   ]
  },
  {
   "cell_type": "markdown",
   "metadata": {},
   "source": [
    "## Configuration File"
   ]
  },
  {
   "cell_type": "markdown",
   "metadata": {},
   "source": [
    "A configuration file contains the specifications of the model (and data) and contains all the information needed by `AmpTools` to generate Monte Carlo data and to perform fits. \n",
    "\n",
    "In AmpTools, an amplitude belongs in a coherent sum which itself belongs in to reaction. A unique name for an amplitude follows the format ~ `reactionName::sumName::ampName` where double colons are used to separate the terms. \n",
    "\n",
    "If the construction of the amplitudes is complicated with many repeating formats, then a configuration file generator could be used. See [cfgGenerator](https://lan13005.github.io/PyAmpTools/api/cfgGenerator.html) for API and source code.\n",
    "\n",
    "For now, we can use this generated cfg file"
   ]
  },
  {
   "cell_type": "code",
   "execution_count": 2,
   "metadata": {},
   "outputs": [],
   "source": [
    "cfgfile = f'{REPO_HOME}/tests/samples/SIMPLE_EXAMPLE/fit.cfg'"
   ]
  },
  {
   "cell_type": "code",
   "execution_count": 3,
   "metadata": {},
   "outputs": [
    {
     "name": "stdout",
     "output_type": "stream",
     "text": [
      "#####################################\n",
      "####    THIS IS A CONFIG FILE    ####\n",
      "#####################################\n",
      "##\n",
      "##  Blank lines or lines beginning with a \"#\" are ignored.\n",
      "##\n",
      "##  Double colons (::) are treated like a space.\n",
      "##     This is sometimes useful for grouping (for example,\n",
      "##     grouping strings like \"reaction::sum::amplitudeName\")\n",
      "##\n",
      "##  All non-comment lines must begin with one of the following keywords.\n",
      "##\n",
      "##  (note:  <word> means necessary\n",
      "##          (word) means optional)\n",
      "##\n",
      "##  include       <file>\n",
      "##  define        <word> (defn1) (defn2) (defn3) ...\n",
      "##  fit           <fitname>\n",
      "##  keyword       <keyword> <min arguments> <max arguments>\n",
      "##  reaction      <reaction> <particle1> <particle2> (particle3) ...\n",
      "##  data          <reaction> <class> (arg1) (arg2) (arg3) ...\n",
      "##  genmc         <reaction> <class> (arg1) (arg2) (arg3) ...\n",
      "##  accmc         <reaction> <class> (arg1) (arg2) (arg3) ...\n",
      "##  normintfile   <reaction> <file>\n",
      "##  sum           <reaction> <sum> (sum2) (sum3) ...\n",
      "##  amplitude     <reaction> <sum> <amp> <class> (arg1) (arg2) ([par]) ...\n",
      "##  initialize    <reaction> <sum> <amp> <\"events\"/\"polar\"/\"cartesian\">\n",
      "##                  <value1> <value2> (\"fixed\"/\"real\")\n",
      "##  scale         <reaction> <sum> <amp> <value or [parameter]>\n",
      "##  constrain     <reaction1> <sum1> <amp1> <reaction2> <sum2> <amp2> ...\n",
      "##  permute       <reaction> <sum> <amp> <index1> <index2> ...\n",
      "##  parameter     <par> <value> (\"fixed\"/\"bounded\"/\"gaussian\")\n",
      "##                  (lower/central) (upper/error)\n",
      "##    DEPRECATED:\n",
      "##  datafile      <reaction> <file> (file2) (file3) ...\n",
      "##  genmcfile     <reaction> <file> (file2) (file3) ...\n",
      "##  accmcfile     <reaction> <file> (file2) (file3) ...\n",
      "##\n",
      "#####################################\n",
      "\n",
      "reaction etapi  Beam Proton Eta Pi0\n",
      "\n",
      "############# FOR FITTING #############\n",
      "fit result\n",
      "normintfile etapi normint\n",
      "genmc etapi ROOTDataReader /w/halld-scshelf2101/lng/WORK/PyAmpTools/tests/samples/SIMPLE_EXAMPLE/samples/flat_generated_samples.root\n",
      "accmc etapi ROOTDataReader /w/halld-scshelf2101/lng/WORK/PyAmpTools/tests/samples/SIMPLE_EXAMPLE/samples/flat_generated_samples.root\n",
      "data  etapi ROOTDataReader /w/halld-scshelf2101/lng/WORK/PyAmpTools/tests/samples/SIMPLE_EXAMPLE/samples/data_generated_samples.root\n",
      "#######################################\n",
      "\n",
      "# polarization information -- use 100% polarization to enhance visual effect\n",
      "define polVal 1.0\n",
      "define polAngleDeg 0.0\n",
      "define polInfo polAngleDeg polVal\n",
      "\n",
      "### Amplitude LM projections\n",
      "define wave1 2 0\n",
      "define wave2 2 2\n",
      "define wave3 0 0\n",
      "\n",
      "# create two sums needed in the amplitude -- as long as we use\n",
      "# a single reflectivity, then two sums are sufficient\n",
      "sum etapi reZ\n",
      "sum etapi imZ\n",
      "\n",
      "# kinematic/angular dependence given by Zlm (GlueX-doc 4094)\n",
      "# (choose one of the two pairs below and comment out the other)\n",
      "\n",
      "### Define amplitudes\n",
      "amplitude etapi::reZ::resAmp1 Zlm wave1 +1 +1 polInfo\n",
      "amplitude etapi::imZ::resAmp1 Zlm wave1 -1 -1 polInfo\n",
      "amplitude etapi::reZ::resAmp2 Zlm wave2 +1 +1 polInfo\n",
      "amplitude etapi::imZ::resAmp2 Zlm wave2 -1 -1 polInfo\n",
      "amplitude etapi::reZ::resAmp3 Zlm wave3 +1 +1 polInfo\n",
      "amplitude etapi::imZ::resAmp3 Zlm wave3 -1 -1 polInfo\n",
      "\n",
      "# Initialize and constrain\n",
      "initialize etapi::reZ::resAmp1 cartesian 10 0 real\n",
      "constrain etapi::reZ::resAmp1 etapi::imZ::resAmp1\n",
      "initialize etapi::reZ::resAmp2 cartesian 10 0\n",
      "constrain etapi::reZ::resAmp2 etapi::imZ::resAmp2\n",
      "initialize etapi::reZ::resAmp3 cartesian 10 0\n",
      "constrain etapi::reZ::resAmp3 etapi::imZ::resAmp3\n",
      "\n",
      "include /w/halld-scshelf2101/lng/WORK/PyAmpTools/tests/samples/SIMPLE_EXAMPLE/mle.txt\n"
     ]
    }
   ],
   "source": [
    "%cat $cfgfile"
   ]
  },
  {
   "cell_type": "markdown",
   "metadata": {},
   "source": [
    "Some things to note. The head of the cfg file contains available keywords that provide some specific functionality. See [AmpTools Documentation](https://github.com/mashephe/AmpTools/blob/master/AmpTools_User_Guide.pdf) for more information. The amplitudes used here are known as the Zlm amplitudes. See here for the [Zlm amplitude implementation](https://halldweb.jlab.org/DocDB/0040/004094/003/amptools_polarization.pdf). These complex parameters are initialized in cartesian coordinates. Polar coordinates are are possible"
   ]
  },
  {
   "cell_type": "markdown",
   "metadata": {},
   "source": [
    "## Generating Events"
   ]
  },
  {
   "cell_type": "markdown",
   "metadata": {},
   "source": [
    "With the configuration file we can request `gen_amp` to make some simulations.  Not all lines in the above cfg file is needed for generation, for instance the dataset locations, but will be used during fitting.\n",
    "\n",
    "Here, `gen_amp` is class, and requires instantiation"
   ]
  },
  {
   "cell_type": "code",
   "execution_count": 4,
   "metadata": {},
   "outputs": [],
   "source": [
    "generator = gen_amp()"
   ]
  },
  {
   "cell_type": "markdown",
   "metadata": {},
   "source": [
    "`gen_amp` contains many variables to condition the generator. We can see these attribute below"
   ]
  },
  {
   "cell_type": "code",
   "execution_count": 5,
   "metadata": {},
   "outputs": [
    {
     "name": "stdout",
     "output_type": "stream",
     "text": [
      "\n",
      "Simulation attributes:\n",
      "\n",
      "----- General -----\n",
      "configfile:    Configuration file\n",
      "outname:       Output file name\n",
      "nEvents:       Number of events to generate\n",
      "----- Kinematics -----\n",
      "genFlat:       Generate flat in M(X) (no physics)\n",
      "lowMass:       Lower edge of mass range (GeV)\n",
      "highMass:      Upper edge of mass range (GeV)\n",
      "beamMaxE:      Electron beam energy (or photon energy endpoint)\n",
      "beamPeakE:     Coherent peak photon energy\n",
      "beamLowE:      Minimum photon energy to simulate events\n",
      "beamHighE:     Maximum photon energy to simulate events\n",
      "slope:         Momentum transfer slope\n",
      "lowT:          Minimum momentum transfer\n",
      "highT:         Maximum momentum transfer\n",
      "----- Output and Conditioning -----\n",
      "runNum:        Run number assigned to generated events\n",
      "seed:          Random number seed initialization\n",
      "diag:          Plot only diagnostic histograms\n",
      "fsRootFormat:  Enable output in FSRoot format\n"
     ]
    }
   ],
   "source": [
    "generator.print_help()"
   ]
  },
  {
   "cell_type": "markdown",
   "metadata": {},
   "source": [
    "A good way to set these data members is to create a dictionary to store our specifications (and save if we wish for reproducibility/referencing) and condition our generator as follows. \n",
    "\n",
    "These data members requires modification\n",
    "1. configfile\n",
    "2. outname"
   ]
  },
  {
   "cell_type": "code",
   "execution_count": 6,
   "metadata": {},
   "outputs": [],
   "source": [
    "outfile = 'test.root'\n",
    "\n",
    "conditions = {\n",
    "    'configfile': cfgfile,\n",
    "    'outname': outfile,\n",
    "    'nEvents': 15000,\n",
    "}\n",
    "\n",
    "for k, v in conditions.items():\n",
    "    setattr(generator, k, v)"
   ]
  },
  {
   "cell_type": "markdown",
   "metadata": {},
   "source": [
    "To see the values of all the datamembers (most contain some default values):"
   ]
  },
  {
   "cell_type": "code",
   "execution_count": 7,
   "metadata": {},
   "outputs": [
    {
     "name": "stdout",
     "output_type": "stream",
     "text": [
      "centeredVertex       1\n",
      "diag                 0\n",
      "genFlat              0\n",
      "fsRootFormat         0\n",
      "lowMass              0.2\n",
      "highMass             2.0\n",
      "beamMaxE             12.0\n",
      "beamPeakE            9.0\n",
      "beamLowE             3.0\n",
      "beamHighE            12.0\n",
      "runNum               30731\n",
      "seed                 0\n",
      "lowT                 0.0\n",
      "highT                12.0\n",
      "slope                6.0\n",
      "nEvents              15000\n",
      "batchSize            10000\n",
      "configfile           /w/halld-scshelf2101/lng/WORK/PyAmpTools/tests/samples/SIMPLE_EXAMPLE/fit.cfg\n",
      "outname              test.root\n",
      "hddmname             \n"
     ]
    }
   ],
   "source": [
    "for member in generator.data_members:\n",
    "    member = str(member)\n",
    "    print(f'{member:<20} {getattr(generator, member )}' )"
   ]
  },
  {
   "cell_type": "markdown",
   "metadata": {},
   "source": [
    "After conditioning the generator, simulations can be performed!"
   ]
  },
  {
   "cell_type": "code",
   "execution_count": 8,
   "metadata": {},
   "outputs": [
    {
     "name": "stdout",
     "output_type": "stream",
     "text": [
      "   =================================================================\n",
      "   |        ^                                                      |\n",
      "   |       / \\             Version:  v0.15.1-5-g4c36-dirty         |\n",
      "   |      /---\\                                                    |\n",
      "   |     /     \\           GDouble:  8 bytes                       |\n",
      "   |    /       \\ MP           MPI:  NO                            |\n",
      "   |     -------               GPU:  NO                            |\n",
      "   |        |                                                      |\n",
      "   |        |              doi.org/10.5281/zenodo.5039377          |\n",
      "   |        | OOLS                                                 |\n",
      "   =================================================================\n",
      "ConfigFileParser WARNING:  no known resonance found, seed with mass = width = 1GeV\n",
      "TRandom3 Seed : 4032336773\n",
      "\n",
      "[ AmplitudeManager ]:\n",
      "\n",
      "\tCreating AmplitudeManager for the reaction:  etapi\n",
      "\t\t particle index assignment:  Beam -> 0\n",
      "\t\t particle index assignment:  Proton -> 1\n",
      "\t\t particle index assignment:  Eta -> 2\n",
      "\t\t particle index assignment:  Pi0 -> 3\n",
      "WARNING: Couldn't find beam configuration file -- write local version\n",
      "\n",
      "BeamProperties: Parsing config file local_beam.conf\n",
      "BeamProperties WARNING:  generateCombrems parameter Emittance missing: using default = 2.5e-09\n",
      "BeamProperties WARNING:  generateCombrems parameter RadiatorThickness missing: using default = 5e-05\n",
      "BeamProperties WARNING:  generateCombrems parameter CollimatorDiameter missing: using default = 0.005\n",
      "BeamProperties WARNING:  generateCombrems parameter CollimatorDistance missing: using default = 76\n",
      "\n",
      "Initialization for coherent bremsstralung calculation\n",
      " electron beam energy: 12 GeV\n",
      " primary coherent edge: 9 GeV\n",
      "ConfigFileParser WARNING:  Minimum photon energy not high enough to guarantee flat mass distribution!\n",
      "Generating four-vectors...\n",
      "Processing events...\n",
      "411 events were processed.\n",
      "Generating four-vectors...\n",
      "Processing events...\n",
      "859 events were processed.\n",
      "Generating four-vectors...\n",
      "Processing events...\n",
      "1309 events were processed.\n",
      "Generating four-vectors...\n",
      "Processing events...\n",
      "1763 events were processed.\n",
      "Generating four-vectors...\n",
      "Processing events...\n",
      "2233 events were processed.\n",
      "Generating four-vectors...\n",
      "Processing events...\n",
      "2634 events were processed.\n",
      "Generating four-vectors...\n",
      "Processing events...\n",
      "3055 events were processed.\n",
      "Generating four-vectors...\n",
      "Processing events...\n",
      "3405 events were processed.\n",
      "Generating four-vectors...\n",
      "Processing events...\n",
      "3835 events were processed.\n",
      "Generating four-vectors...\n",
      "Processing events...\n",
      "4260 events were processed.\n",
      "Generating four-vectors...\n",
      "Processing events...\n",
      "4638 events were processed.\n",
      "Generating four-vectors...\n",
      "Processing events...\n",
      "5104 events were processed.\n",
      "Generating four-vectors...\n",
      "Processing events...\n",
      "5548 events were processed.\n",
      "Generating four-vectors...\n",
      "Processing events...\n",
      "5979 events were processed.\n",
      "Generating four-vectors...\n",
      "Processing events...\n",
      "6404 events were processed.\n",
      "Generating four-vectors...\n",
      "Processing events...\n",
      "6784 events were processed.\n",
      "Generating four-vectors...\n",
      "Processing events...\n",
      "7180 events were processed.\n",
      "Generating four-vectors...\n",
      "Processing events...\n",
      "7566 events were processed.\n",
      "Generating four-vectors...\n",
      "Processing events...\n",
      "8008 events were processed.\n",
      "Generating four-vectors...\n",
      "Processing events...\n",
      "8444 events were processed.\n",
      "Generating four-vectors...\n",
      "Processing events...\n",
      "8843 events were processed.\n",
      "Generating four-vectors...\n",
      "Processing events...\n",
      "9285 events were processed.\n",
      "Generating four-vectors...\n",
      "Processing events...\n",
      "9695 events were processed.\n",
      "Generating four-vectors...\n",
      "Processing events...\n",
      "10074 events were processed.\n",
      "Generating four-vectors...\n",
      "Processing events...\n",
      "10496 events were processed.\n",
      "Generating four-vectors...\n",
      "Processing events...\n",
      "10940 events were processed.\n",
      "Generating four-vectors...\n",
      "Processing events...\n",
      "11359 events were processed.\n",
      "Generating four-vectors...\n",
      "Processing events...\n",
      "11776 events were processed.\n",
      "Generating four-vectors...\n",
      "Processing events...\n",
      "12226 events were processed.\n",
      "Generating four-vectors...\n",
      "Processing events...\n",
      "12619 events were processed.\n",
      "Generating four-vectors...\n",
      "Processing events...\n",
      "13071 events were processed.\n",
      "Generating four-vectors...\n",
      "Processing events...\n",
      "13530 events were processed.\n",
      "Generating four-vectors...\n",
      "Processing events...\n",
      "13942 events were processed.\n",
      "Generating four-vectors...\n",
      "Processing events...\n",
      "14350 events were processed.\n",
      "Generating four-vectors...\n",
      "Processing events...\n",
      "14833 events were processed.\n",
      "Generating four-vectors...\n",
      "Processing events...\n",
      "15000 events were processed.\n"
     ]
    }
   ],
   "source": [
    "generator.generate()"
   ]
  },
  {
   "cell_type": "markdown",
   "metadata": {},
   "source": [
    "A `*diagnostic.root` is also created containing a variety of mass and angular histograms. A file called `test.root` should have been created containing the 4-momentum components for all particles. To understand physical data collected by a detector, simulations like this one would have to then be passed through a simulation of detector to produce realistic data. We can use `PyROOT` to quickly glance at the contents of the file."
   ]
  },
  {
   "cell_type": "code",
   "execution_count": 9,
   "metadata": {},
   "outputs": [],
   "source": [
    "file = ROOT.TFile(outfile)\n",
    "tree = file.kin"
   ]
  },
  {
   "cell_type": "code",
   "execution_count": 10,
   "metadata": {},
   "outputs": [
    {
     "name": "stdout",
     "output_type": "stream",
     "text": [
      "******************************************************************************\n",
      "*Tree    :kin       : Kinematics                                             *\n",
      "*Entries :    15000 : Total =         1269353 bytes  File  Size =     869192 *\n",
      "*        :          : Tree compression factor =   1.46                       *\n",
      "******************************************************************************\n",
      "*Br    0 :NumFinalState : NumFinalState/I                                    *\n",
      "*Entries :    15000 : Total  Size=      60675 bytes  File Size  =        521 *\n",
      "*Baskets :        2 : Basket Size=      32000 bytes  Compression= 115.47     *\n",
      "*............................................................................*\n",
      "*Br    1 :E_FinalState : E_FinalState[NumFinalState]/F                       *\n",
      "*Entries :    15000 : Total  Size=     241516 bytes  File Size  =     185633 *\n",
      "*Baskets :       10 : Basket Size=      32000 bytes  Compression=   1.30     *\n",
      "*............................................................................*\n",
      "*Br    2 :Px_FinalState : Px_FinalState[NumFinalState]/F                     *\n",
      "*Entries :    15000 : Total  Size=     241530 bytes  File Size  =     192008 *\n",
      "*Baskets :       10 : Basket Size=      32000 bytes  Compression=   1.25     *\n",
      "*............................................................................*\n",
      "*Br    3 :Py_FinalState : Py_FinalState[NumFinalState]/F                     *\n",
      "*Entries :    15000 : Total  Size=     241530 bytes  File Size  =     192793 *\n",
      "*Baskets :       10 : Basket Size=      32000 bytes  Compression=   1.25     *\n",
      "*............................................................................*\n",
      "*Br    4 :Pz_FinalState : Pz_FinalState[NumFinalState]/F                     *\n",
      "*Entries :    15000 : Total  Size=     241530 bytes  File Size  =     189441 *\n",
      "*Baskets :       10 : Basket Size=      32000 bytes  Compression=   1.27     *\n",
      "*............................................................................*\n",
      "*Br    5 :E_Beam    : E_Beam/F                                               *\n",
      "*Entries :    15000 : Total  Size=      60633 bytes  File Size  =      53257 *\n",
      "*Baskets :        2 : Basket Size=      32000 bytes  Compression=   1.13     *\n",
      "*............................................................................*\n",
      "*Br    6 :Px_Beam   : Px_Beam/F                                              *\n",
      "*Entries :    15000 : Total  Size=      60639 bytes  File Size  =        472 *\n",
      "*Baskets :        2 : Basket Size=      32000 bytes  Compression= 127.43     *\n",
      "*............................................................................*\n",
      "*Br    7 :Py_Beam   : Py_Beam/F                                              *\n",
      "*Entries :    15000 : Total  Size=      60639 bytes  File Size  =        472 *\n",
      "*Baskets :        2 : Basket Size=      32000 bytes  Compression= 127.43     *\n",
      "*............................................................................*\n",
      "*Br    8 :Pz_Beam   : Pz_Beam/F                                              *\n",
      "*Entries :    15000 : Total  Size=      60639 bytes  File Size  =      53259 *\n",
      "*Baskets :        2 : Basket Size=      32000 bytes  Compression=   1.13     *\n",
      "*............................................................................*\n"
     ]
    }
   ],
   "source": [
    "tree.Print()"
   ]
  },
  {
   "cell_type": "markdown",
   "metadata": {},
   "source": [
    "Lets clean up these generated files as we do not actually need them"
   ]
  },
  {
   "cell_type": "code",
   "execution_count": 11,
   "metadata": {},
   "outputs": [],
   "source": [
    "# Free the file handle first so we can clean up\n",
    "del tree\n",
    "del file\n",
    "\n",
    "!rm gen_amp_diagnostic.root\n",
    "!rm test.root\n",
    "!rm local_beam.conf"
   ]
  },
  {
   "cell_type": "code",
   "execution_count": null,
   "metadata": {},
   "outputs": [],
   "source": []
  }
 ],
 "metadata": {
  "kernelspec": {
   "display_name": "PyAmpTools",
   "language": "python",
   "name": "pyamptools"
  }
 },
 "nbformat": 4,
 "nbformat_minor": 2
}

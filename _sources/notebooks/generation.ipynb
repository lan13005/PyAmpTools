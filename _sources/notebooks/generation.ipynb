{
 "cells": [
  {
   "cell_type": "markdown",
   "metadata": {},
   "source": [
    "# Generating Data"
   ]
  },
  {
   "cell_type": "markdown",
   "metadata": {},
   "source": []
  },
  {
   "cell_type": "code",
   "execution_count": 1,
   "metadata": {},
   "outputs": [
    {
     "name": "stdout",
     "output_type": "stream",
     "text": [
      "Welcome to JupyROOT 6.28/06\n"
     ]
    }
   ],
   "source": [
    "    ############## SET ENVIRONMENT VARIABLES ##############\n",
    "    REPO_HOME     = os.environ['REPO_HOME']\n",
    "    os.environ['ATI_USE_MPI'] = \"0\" # set to 1 to use MPI libraries\n",
    "    os.environ['ATI_USE_GPU'] = \"0\"\n",
    "    from atiSetup import *\n",
    "\n",
    "    ################ SET ADDITIONAL ALIAS ###################\n",
    "    AmplitudeInfo = ROOT.AmplitudeInfo\n",
    "    ParameterInfo = ROOT.ParameterInfo\n",
    "\n",
    "    ############### USER-SPECIFIED VARIABLES ###############\n",
    "    fitName = 'EtaPi'\n",
    "    cfgFileOutputName = 'EtaPi.cfg'\n",
    "    basereactName = 'EtaPi'\n",
    "    particles = ['Beam', 'Proton', 'Eta', 'Pi0']\n",
    "\n",
    "    ### User-specified waveset ###\n",
    "    EJMs = [\n",
    "        [ 1,  2,  2],\n",
    "        [-1,  2,  2],\n",
    "        # [ 1,  0,  0],\n",
    "        # [-1,  0,  0],\n",
    "    ]\n",
    "    realAmps  = set( ['p00', 'm00'] )\n",
    "    fixedAmps = []\n",
    "\n",
    "    ## Load datasets\n",
    "    baseFolder = \"/w/halld-scshelf2101/lng/WORK/PyAmpTools/tests/samples/REAL_MI_EXAMPLE/samples\"\n",
    "\n",
    "    ## Polarization related, reactNames are scaled by the scales parameters\n",
    "    ##   Default: parScale0 is fixed to 1.0\n",
    "    angles    = ['0'        , '45'        , '90'        , '135'        ]\n",
    "    fractions = ['0.3519'   , '0.3374'    , '0.3303'    , '0.3375'     ]\n",
    "\n",
    "    datas  = [f'{baseFolder}/data_{angle:0>3}.root'  for angle in angles]\n",
    "    gens   = [f'{baseFolder}/gen_{angle:0>3}.root'   for angle in angles]\n",
    "    accs   = [f'{baseFolder}/acc_{angle:0>3}.root'   for angle in angles]\n",
    "    bkgnds = [f'{baseFolder}/bkgnd_{angle:0>3}.root' for angle in angles]\n",
    "\n",
    "    generate_zlm_cfg(\n",
    "        EJMs,\n",
    "        angles,\n",
    "        fractions,\n",
    "        datas,\n",
    "        gens,\n",
    "        accs,\n",
    "        bkgnds,\n",
    "        realAmps,\n",
    "        fixedAmps,\n",
    "        fitName,\n",
    "        cfgFileOutputName,\n",
    "        basereactName,\n",
    "        particles,\n",
    "    )"
   ]
  },
  {
   "cell_type": "code",
   "execution_count": null,
   "metadata": {},
   "outputs": [],
   "source": []
  }
 ],
 "metadata": {
  "kernelspec": {
   "display_name": "PyAmpTools",
   "language": "python",
   "name": "pyamptools"
  }
 },
 "nbformat": 4,
 "nbformat_minor": 2
}

{
 "cells": [
  {
   "cell_type": "markdown",
   "metadata": {},
   "source": [
    "# Loading Libraries"
   ]
  },
  {
   "cell_type": "markdown",
   "metadata": {},
   "source": [
    "The standard way to load libraries is through the `atiSetup` module. Some environment variables can be set (like MPI/GPU) to specify which libraries should be loaded. Some aliasing and pythonization of the c++ wrapped class is performed to simplify syntax as they all live within the `PyROOT` namespace."
   ]
  },
  {
   "cell_type": "code",
   "execution_count": 1,
   "metadata": {},
   "outputs": [
    {
     "name": "stdout",
     "output_type": "stream",
     "text": [
      "Welcome to JupyROOT 6.28/06\n"
     ]
    }
   ],
   "source": [
    "import os\n",
    "import atiSetup\n",
    "import ROOT"
   ]
  },
  {
   "cell_type": "markdown",
   "metadata": {},
   "source": [
    "The main module to load the necessary libraries is `atiSetup`, in particular its `setup` function. We can load mpi /gpu libraries by passing an accelerator string. We can also decide to load FSRoot or gen_amp (simulation program) now. See [atiSetup](https://lan13005.github.io/PyAmpTools/api/atiSetup.html) for API and source code."
   ]
  },
  {
   "cell_type": "code",
   "execution_count": 2,
   "metadata": {},
   "outputs": [
    {
     "name": "stdout",
     "output_type": "stream",
     "text": [
      "atiSetup| jupyter-lab called python3.9\n",
      "\n",
      "------------------------------------------------\n",
      "atiSetup| MPI is disabled\n",
      "atiSetup| GPU is disabled\n",
      "------------------------------------------------\n",
      "\n",
      "\n",
      "atiSetup| Loading library libAmpTools.so ..............  ON\n",
      "atiSetup| Loading library libAmpPlotter.so ............  ON\n",
      "atiSetup| Loading library libAmpsDataIO.so ............  ON\n",
      "atiSetup| Loading library libFSRoot.so ................  OFF\n",
      "atiSetup| Loading library libAmpsGen.so ...............  OFF\n",
      "\n",
      "\n",
      "------------------------------------------------\n",
      "------------------------------------------------\n",
      "\n",
      "Initializing AMPTOOLS_AMPS_DATAIO for PyROOT...\n"
     ]
    }
   ],
   "source": [
    "############## SET ENVIRONMENT VARIABLES ##############\n",
    "USE_MPI, USE_GPU, RANK_MPI = atiSetup.setup(globals()) # RANK_MPI defaults to 0 even if not using MPI"
   ]
  },
  {
   "cell_type": "markdown",
   "metadata": {},
   "source": [
    "Lets try and load `FSRoot` and `gen_amp` libraries also"
   ]
  },
  {
   "cell_type": "code",
   "execution_count": 3,
   "metadata": {},
   "outputs": [
    {
     "name": "stdout",
     "output_type": "stream",
     "text": [
      "atiSetup| jupyter-lab called python3.9\n",
      "\n",
      "------------------------------------------------\n",
      "atiSetup| MPI is disabled\n",
      "atiSetup| GPU is disabled\n",
      "------------------------------------------------\n",
      "\n",
      "\n",
      "atiSetup| Loading library libAmpTools.so ..............  ON\n",
      "atiSetup| Loading library libAmpPlotter.so ............  ON\n",
      "atiSetup| Loading library libAmpsDataIO.so ............  ON\n",
      "atiSetup| Loading library libFSRoot.so ................  ON\n",
      "atiSetup| Loading library libAmpsGen.so ...............  ON\n",
      "\n",
      "\n",
      "------------------------------------------------\n"
     ]
    },
    {
     "ename": "AttributeError",
     "evalue": "Failed to get attribute initialize_fsroot from ROOT",
     "output_type": "error",
     "traceback": [
      "\u001b[0;31m---------------------------------------------------------------------------\u001b[0m",
      "\u001b[0;31mAttributeError\u001b[0m                            Traceback (most recent call last)",
      "\u001b[1;32m/home/lng/WORK/WORK/PyAmpTools/docs/notebooks/libraryLoading.ipynb Cell 7\u001b[0m line \u001b[0;36m2\n\u001b[1;32m      <a href='vscode-notebook-cell://ssh-remote%2Bifarm/home/lng/WORK/WORK/PyAmpTools/docs/notebooks/libraryLoading.ipynb#W6sdnNjb2RlLXJlbW90ZQ%3D%3D?line=0'>1</a>\u001b[0m \u001b[39m############## SET ENVIRONMENT VARIABLES ##############\u001b[39;00m\n\u001b[0;32m----> <a href='vscode-notebook-cell://ssh-remote%2Bifarm/home/lng/WORK/WORK/PyAmpTools/docs/notebooks/libraryLoading.ipynb#W6sdnNjb2RlLXJlbW90ZQ%3D%3D?line=1'>2</a>\u001b[0m USE_MPI, USE_GPU, RANK_MPI \u001b[39m=\u001b[39m atiSetup\u001b[39m.\u001b[39;49msetup(\u001b[39mglobals\u001b[39;49m(), use_fsroot\u001b[39m=\u001b[39;49m\u001b[39mTrue\u001b[39;49;00m, use_genamp\u001b[39m=\u001b[39;49m\u001b[39mTrue\u001b[39;49;00m) \u001b[39m# RANK_MPI defaults to 0 even if not using MPI\u001b[39;00m\n",
      "File \u001b[0;32m/w/halld-scshelf2101/lng/Mambaforge/envs/PyAmpTools/lib/python3.9/site-packages/atiSetup.py:26\u001b[0m, in \u001b[0;36msetup\u001b[0;34m(calling_globals, accelerator, use_fsroot, use_genamp)\u001b[0m\n\u001b[1;32m     16\u001b[0m \u001b[39mdef\u001b[39;00m \u001b[39msetup\u001b[39m(calling_globals, accelerator\u001b[39m=\u001b[39m\u001b[39m'\u001b[39m\u001b[39mmpigpu\u001b[39m\u001b[39m'\u001b[39m, use_fsroot\u001b[39m=\u001b[39m\u001b[39mFalse\u001b[39;00m, use_genamp\u001b[39m=\u001b[39m\u001b[39mFalse\u001b[39;00m):\n\u001b[1;32m     17\u001b[0m \u001b[39m    \u001b[39m\u001b[39m'''\u001b[39;00m\n\u001b[1;32m     18\u001b[0m \u001b[39m    Performs basic setup, loading libraries and setting aliases\u001b[39;00m\n\u001b[1;32m     19\u001b[0m \n\u001b[0;32m   (...)\u001b[0m\n\u001b[1;32m     24\u001b[0m \u001b[39m        use_genamp (bool): True if GenAmp library should be loaded\u001b[39;00m\n\u001b[1;32m     25\u001b[0m \u001b[39m    '''\u001b[39;00m\n\u001b[0;32m---> 26\u001b[0m     USE_MPI, USE_GPU, RANK_MPI \u001b[39m=\u001b[39m loadLibraries(accelerator, use_fsroot, use_genamp)\n\u001b[1;32m     27\u001b[0m     set_aliases(calling_globals, USE_MPI)\n\u001b[1;32m     29\u001b[0m     \u001b[39mreturn\u001b[39;00m USE_MPI, USE_GPU, RANK_MPI\n",
      "File \u001b[0;32m/w/halld-scshelf2101/lng/Mambaforge/envs/PyAmpTools/lib/python3.9/site-packages/atiSetup.py:55\u001b[0m, in \u001b[0;36mloadLibraries\u001b[0;34m(accelerator, use_fsroot, use_genamp)\u001b[0m\n\u001b[1;32m     53\u001b[0m \u001b[39mif\u001b[39;00m RANK_MPI \u001b[39m==\u001b[39m \u001b[39m0\u001b[39m: \u001b[39mprint\u001b[39m(\u001b[39m\"\u001b[39m\u001b[39m\\n\u001b[39;00m\u001b[39m\\n\u001b[39;00m\u001b[39m------------------------------------------------\u001b[39m\u001b[39m\"\u001b[39m)\n\u001b[1;32m     54\u001b[0m ROOT\u001b[39m.\u001b[39minitialize( RANK_MPI \u001b[39m==\u001b[39m \u001b[39m0\u001b[39m )\n\u001b[0;32m---> 55\u001b[0m \u001b[39mif\u001b[39;00m use_fsroot: ROOT\u001b[39m.\u001b[39;49minitialize_fsroot( RANK_MPI \u001b[39m==\u001b[39m \u001b[39m0\u001b[39m )\n\u001b[1;32m     56\u001b[0m \u001b[39mif\u001b[39;00m RANK_MPI \u001b[39m==\u001b[39m \u001b[39m0\u001b[39m: \u001b[39mprint\u001b[39m(\u001b[39m\"\u001b[39m\u001b[39m------------------------------------------------\u001b[39m\u001b[39m\\n\u001b[39;00m\u001b[39m\"\u001b[39m)\n\u001b[1;32m     58\u001b[0m \u001b[39mreturn\u001b[39;00m USE_MPI, USE_GPU, RANK_MPI\n",
      "File \u001b[0;32m/w/halld-scshelf2101/lng/WORK/PyAmpTools/root/root-6.28.06-gcc9.3.0/lib/ROOT/_facade.py:196\u001b[0m, in \u001b[0;36mROOTFacade._fallback_getattr\u001b[0;34m(self, name)\u001b[0m\n\u001b[1;32m    194\u001b[0m     \u001b[39mif\u001b[39;00m res:\n\u001b[1;32m    195\u001b[0m         \u001b[39mreturn\u001b[39;00m res\n\u001b[0;32m--> 196\u001b[0m \u001b[39mraise\u001b[39;00m \u001b[39mAttributeError\u001b[39;00m(\u001b[39m\"\u001b[39m\u001b[39mFailed to get attribute \u001b[39m\u001b[39m{}\u001b[39;00m\u001b[39m from ROOT\u001b[39m\u001b[39m\"\u001b[39m\u001b[39m.\u001b[39mformat(name))\n",
      "\u001b[0;31mAttributeError\u001b[0m: Failed to get attribute initialize_fsroot from ROOT"
     ]
    },
    {
     "name": "stdout",
     "output_type": "stream",
     "text": [
      "Initializing AMPTOOLS_AMPS_DATAIO for PyROOT...\n"
     ]
    },
    {
     "name": "stderr",
     "output_type": "stream",
     "text": [
      "cling::DynamicLibraryManager::loadLibrary(): /w/halld-scshelf2101/lng/WORK/PyAmpTools/external/FSRoot/lib/libFSRoot.so: undefined symbol: _ZTI17IncPiPiHistograms\n"
     ]
    }
   ],
   "source": [
    "############## SET ENVIRONMENT VARIABLES ##############\n",
    "USE_MPI, USE_GPU, RANK_MPI = atiSetup.setup(globals(), use_fsroot=True, use_genamp=True) # RANK_MPI defaults to 0 even if not using MPI"
   ]
  },
  {
   "cell_type": "markdown",
   "metadata": {},
   "source": [
    "Since all wrapped classes live under `PyROOT` it can be convenient to set aliases"
   ]
  },
  {
   "cell_type": "code",
   "execution_count": null,
   "metadata": {},
   "outputs": [],
   "source": [
    "################ SET ADDITIONAL ALIAS ###################\n",
    "AmplitudeInfo = ROOT.AmplitudeInfo\n",
    "TH1           = ROOT.TH1"
   ]
  },
  {
   "cell_type": "code",
   "execution_count": null,
   "metadata": {},
   "outputs": [],
   "source": []
  },
  {
   "cell_type": "code",
   "execution_count": null,
   "metadata": {},
   "outputs": [],
   "source": []
  }
 ],
 "metadata": {
  "kernelspec": {
   "display_name": "PyAmpTools",
   "language": "python",
   "name": "pyamptools"
  },
  "language_info": {
   "codemirror_mode": {
    "name": "ipython",
    "version": 3
   },
   "file_extension": ".py",
   "mimetype": "text/x-python",
   "name": "python",
   "nbconvert_exporter": "python",
   "pygments_lexer": "ipython3",
   "version": "3.9.18"
  }
 },
 "nbformat": 4,
 "nbformat_minor": 2
}

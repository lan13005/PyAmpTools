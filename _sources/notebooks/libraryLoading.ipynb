{
 "cells": [
  {
   "cell_type": "markdown",
   "metadata": {},
   "source": [
    "# Loading Libraries"
   ]
  },
  {
   "cell_type": "markdown",
   "metadata": {},
   "source": [
    "The standard way to load libraries is through the `atiSetup` module. Some environment variables can be set (like MPI/GPU) to specify which libraries should be loaded. Some aliasing and pythonization of the c++ wrapped class is performed to simplify syntax as they all live within the `PyROOT` namespace."
   ]
  },
  {
   "cell_type": "code",
   "execution_count": 8,
   "metadata": {},
   "outputs": [],
   "source": [
    "import os\n",
    "import atiSetup\n",
    "import ROOT"
   ]
  },
  {
   "cell_type": "markdown",
   "metadata": {},
   "source": [
    "The main module to load the necessary libraries is `atiSetup`, in particular its `setup` function. We can load mpi /gpu libraries by passing an accelerator string. We can also decide to load FSRoot or gen_amp (simulation program) now. See [atiSetup](https://lan13005.github.io/PyAmpTools/api/atiSetup.html) for API and source code."
   ]
  },
  {
   "cell_type": "code",
   "execution_count": 10,
   "metadata": {},
   "outputs": [
    {
     "name": "stdout",
     "output_type": "stream",
     "text": [
      "\n",
      "------------------------------------------------\n",
      "MPI is disabled\n",
      "GPU is disabled\n",
      "Loading library libAmpTools.so .............. ON\n",
      "Loading library libAmpPlotter.so ............ ON\n",
      "Loading library libAmpsDataIO.so ............ ON\n",
      "Loading library libFSRoot.so ................ OFF\n",
      "Loading library libAmpsGen.so ............... OFF\n",
      "------------------------------------------------\n",
      "\n",
      "Initializing AMPTOOLS_AMPS_DATAIO for PyROOT...\n"
     ]
    }
   ],
   "source": [
    "############## SET ENVIRONMENT VARIABLES ##############\n",
    "REPO_HOME     = os.environ['REPO_HOME']\n",
    "USE_MPI, USE_GPU, RANK_MPI = atiSetup.setup(globals()) # RANK_MPI defaults to 0 even if not using MPI"
   ]
  },
  {
   "cell_type": "markdown",
   "metadata": {},
   "source": [
    "Lets try and load `FSRoot` and `gen_amp` libraries also"
   ]
  },
  {
   "cell_type": "code",
   "execution_count": null,
   "metadata": {},
   "outputs": [],
   "source": [
    "############## SET ENVIRONMENT VARIABLES ##############\n",
    "REPO_HOME     = os.environ['REPO_HOME']\n",
    "USE_MPI, USE_GPU, RANK_MPI = atiSetup.setup(globals(), use_fsroot=True, use_genamp=True) # RANK_MPI defaults to 0 even if not using MPI"
   ]
  },
  {
   "cell_type": "markdown",
   "metadata": {},
   "source": [
    "Since all wrapped classes live under `PyROOT` it can be convenient to set aliases"
   ]
  },
  {
   "cell_type": "code",
   "execution_count": 11,
   "metadata": {},
   "outputs": [],
   "source": [
    "################ SET ADDITIONAL ALIAS ###################\n",
    "AmplitudeInfo = ROOT.AmplitudeInfo\n",
    "TH1           = ROOT.TH1"
   ]
  },
  {
   "cell_type": "code",
   "execution_count": null,
   "metadata": {},
   "outputs": [],
   "source": []
  }
 ],
 "metadata": {
  "kernelspec": {
   "display_name": "PyAmpTools",
   "language": "python",
   "name": "pyamptools"
  }
 },
 "nbformat": 4,
 "nbformat_minor": 2
}

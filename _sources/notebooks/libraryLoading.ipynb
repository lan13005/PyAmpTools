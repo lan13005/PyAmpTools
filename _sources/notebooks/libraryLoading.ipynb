{
 "cells": [
  {
   "cell_type": "markdown",
   "metadata": {},
   "source": [
    "# Loading Libraries"
   ]
  },
  {
   "cell_type": "code",
   "execution_count": null,
   "metadata": {},
   "outputs": [],
   "source": [
    "(label_name)=\n",
    "# loading_libraries"
   ]
  },
  {
   "cell_type": "markdown",
   "metadata": {},
   "source": [
    "The standard way to load libraries is through `atiSetup` module. Some environment variables can be set (like MPI/GPU) to specify which library should be loaded. Some aliasing and pythonization of the c++ wrapped class is performed to simplify syntax"
   ]
  },
  {
   "cell_type": "code",
   "execution_count": 8,
   "metadata": {},
   "outputs": [],
   "source": [
    "import os\n",
    "import atiSetup\n",
    "import ROOT"
   ]
  },
  {
   "cell_type": "markdown",
   "metadata": {},
   "source": [
    "The main module to load the necessary libraries is `atiSetup`, in particular its `setup` function. We can load mpi /gpu libraries by passing an accelerator string. We can also decide to load FSRoot or gen_amp (simulation program) now. We can print the docstring by doing the following. "
   ]
  },
  {
   "cell_type": "code",
   "execution_count": 9,
   "metadata": {},
   "outputs": [
    {
     "name": "stdout",
     "output_type": "stream",
     "text": [
      "\u001b[0;31mSignature:\u001b[0m\n",
      "\u001b[0matiSetup\u001b[0m\u001b[0;34m.\u001b[0m\u001b[0msetup\u001b[0m\u001b[0;34m(\u001b[0m\u001b[0;34m\u001b[0m\n",
      "\u001b[0;34m\u001b[0m    \u001b[0mcalling_globals\u001b[0m\u001b[0;34m,\u001b[0m\u001b[0;34m\u001b[0m\n",
      "\u001b[0;34m\u001b[0m    \u001b[0maccelerator\u001b[0m\u001b[0;34m=\u001b[0m\u001b[0;34m''\u001b[0m\u001b[0;34m,\u001b[0m\u001b[0;34m\u001b[0m\n",
      "\u001b[0;34m\u001b[0m    \u001b[0muse_fsroot\u001b[0m\u001b[0;34m=\u001b[0m\u001b[0;32mFalse\u001b[0m\u001b[0;34m,\u001b[0m\u001b[0;34m\u001b[0m\n",
      "\u001b[0;34m\u001b[0m    \u001b[0muse_genamp\u001b[0m\u001b[0;34m=\u001b[0m\u001b[0;32mFalse\u001b[0m\u001b[0;34m,\u001b[0m\u001b[0;34m\u001b[0m\n",
      "\u001b[0;34m\u001b[0m\u001b[0;34m)\u001b[0m\u001b[0;34m\u001b[0m\u001b[0;34m\u001b[0m\u001b[0m\n",
      "\u001b[0;31mDocstring:\u001b[0m Performs entire setup \n",
      "\u001b[0;31mSource:\u001b[0m   \n",
      "\u001b[0;32mdef\u001b[0m \u001b[0msetup\u001b[0m\u001b[0;34m(\u001b[0m\u001b[0mcalling_globals\u001b[0m\u001b[0;34m,\u001b[0m \u001b[0maccelerator\u001b[0m\u001b[0;34m=\u001b[0m\u001b[0;34m''\u001b[0m\u001b[0;34m,\u001b[0m \u001b[0muse_fsroot\u001b[0m\u001b[0;34m=\u001b[0m\u001b[0;32mFalse\u001b[0m\u001b[0;34m,\u001b[0m \u001b[0muse_genamp\u001b[0m\u001b[0;34m=\u001b[0m\u001b[0;32mFalse\u001b[0m\u001b[0;34m)\u001b[0m\u001b[0;34m:\u001b[0m\u001b[0;34m\u001b[0m\n",
      "\u001b[0;34m\u001b[0m    \u001b[0;34m''' \u001b[0m\n",
      "\u001b[0;34m    Performs entire setup\u001b[0m\n",
      "\u001b[0;34m    \u001b[0m\n",
      "\u001b[0;34m    Args:\u001b[0m\n",
      "\u001b[0;34m        calling_globals (dict): globals() from the calling function\u001b[0m\n",
      "\u001b[0;34m        accelerator (str): accelerator flag from argparse ~ ['mpi', 'gpu', 'mpigpu', 'gpumpi', '']\u001b[0m\n",
      "\u001b[0;34m        use_fsroot (bool): True if FSRoot library should be loaded\u001b[0m\n",
      "\u001b[0;34m        use_genamp (bool): True if GenAmp library should be loaded\u001b[0m\n",
      "\u001b[0;34m    '''\u001b[0m\u001b[0;34m\u001b[0m\n",
      "\u001b[0;34m\u001b[0m    \u001b[0mUSE_MPI\u001b[0m\u001b[0;34m,\u001b[0m \u001b[0mUSE_GPU\u001b[0m\u001b[0;34m,\u001b[0m \u001b[0mRANK_MPI\u001b[0m \u001b[0;34m=\u001b[0m \u001b[0mloadLibraries\u001b[0m\u001b[0;34m(\u001b[0m\u001b[0maccelerator\u001b[0m\u001b[0;34m,\u001b[0m \u001b[0muse_fsroot\u001b[0m\u001b[0;34m,\u001b[0m \u001b[0muse_genamp\u001b[0m\u001b[0;34m)\u001b[0m\u001b[0;34m\u001b[0m\n",
      "\u001b[0;34m\u001b[0m    \u001b[0mset_aliases\u001b[0m\u001b[0;34m(\u001b[0m\u001b[0mcalling_globals\u001b[0m\u001b[0;34m,\u001b[0m \u001b[0mUSE_MPI\u001b[0m\u001b[0;34m)\u001b[0m\u001b[0;34m\u001b[0m\n",
      "\u001b[0;34m\u001b[0m\u001b[0;34m\u001b[0m\n",
      "\u001b[0;34m\u001b[0m    \u001b[0;32mreturn\u001b[0m \u001b[0mUSE_MPI\u001b[0m\u001b[0;34m,\u001b[0m \u001b[0mUSE_GPU\u001b[0m\u001b[0;34m,\u001b[0m \u001b[0mRANK_MPI\u001b[0m\u001b[0;34m\u001b[0m\u001b[0;34m\u001b[0m\u001b[0m\n",
      "\u001b[0;31mFile:\u001b[0m      /w/halld-scshelf2101/lng/Mambaforge/envs/PyAmpTools/lib/python3.9/site-packages/atiSetup.py\n",
      "\u001b[0;31mType:\u001b[0m      function"
     ]
    }
   ],
   "source": [
    "atiSetup.setup??"
   ]
  },
  {
   "cell_type": "code",
   "execution_count": 10,
   "metadata": {},
   "outputs": [
    {
     "name": "stdout",
     "output_type": "stream",
     "text": [
      "\n",
      "------------------------------------------------\n",
      "MPI is disabled\n",
      "GPU is disabled\n",
      "Loading library libAmpTools.so .............. ON\n",
      "Loading library libAmpPlotter.so ............ ON\n",
      "Loading library libAmpsDataIO.so ............ ON\n",
      "Loading library libFSRoot.so ................ OFF\n",
      "Loading library libAmpsGen.so ............... OFF\n",
      "------------------------------------------------\n",
      "\n",
      "Initializing AMPTOOLS_AMPS_DATAIO for PyROOT...\n"
     ]
    }
   ],
   "source": [
    "############## SET ENVIRONMENT VARIABLES ##############\n",
    "REPO_HOME     = os.environ['REPO_HOME']\n",
    "USE_MPI, USE_GPU, RANK_MPI = atiSetup.setup(globals()) # RANK_MPI defaults to 0 even if not using MPI"
   ]
  },
  {
   "cell_type": "markdown",
   "metadata": {},
   "source": [
    "Since all wrapped classes live under `PyROOT` it can be convenient to set aliases"
   ]
  },
  {
   "cell_type": "code",
   "execution_count": 11,
   "metadata": {},
   "outputs": [],
   "source": [
    "################ SET ADDITIONAL ALIAS ###################\n",
    "AmplitudeInfo = ROOT.AmplitudeInfo\n",
    "TH1           = ROOT.TH1"
   ]
  },
  {
   "cell_type": "code",
   "execution_count": null,
   "metadata": {},
   "outputs": [],
   "source": []
  }
 ],
 "metadata": {
  "kernelspec": {
   "display_name": "PyAmpTools",
   "language": "python",
   "name": "pyamptools"
  }
 },
 "nbformat": 4,
 "nbformat_minor": 2
}

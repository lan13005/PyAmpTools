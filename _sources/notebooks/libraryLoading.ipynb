{
 "cells": [
  {
   "cell_type": "markdown",
   "metadata": {},
   "source": [
    "# Loading Libraries"
   ]
  },
  {
   "cell_type": "markdown",
   "metadata": {},
   "source": [
    "The standard way to load libraries is through `atiSetup` module. Some environment variables can be set (like MPI/GPU) to specify which library should be loaded. Some aliasing and pythonization of the c++ wrapped class is performed to simplify syntax"
   ]
  },
  {
   "cell_type": "code",
   "execution_count": 3,
   "metadata": {},
   "outputs": [
    {
     "name": "stdout",
     "output_type": "stream",
     "text": [
      "\n",
      "------------------------------------------------\n",
      "MPI is disabled\n",
      "GPU is disabled\n",
      "Loading library libAmpTools.so .............. ON\n",
      "Loading library libAmpPlotter.so ............ ON\n",
      "Loading library libAmpsDataIO.so ............ ON\n",
      "Loading library libFSRoot.so ................ OFF\n",
      "------------------------------------------------\n",
      "\n",
      "Initializing AMPTOOLS_AMPS_DATAIO for PyROOT...\n"
     ]
    }
   ],
   "source": [
    "import os\n",
    "from atiSetup import atiSetup\n",
    "import ROOT\n",
    "\n",
    "############## SET ENVIRONMENT VARIABLES ##############\n",
    "REPO_HOME     = os.environ['REPO_HOME']\n",
    "USE_MPI, USE_GPU, RANK_MPI = atiSetup(globals()) # RANK_MPI defaults to 0 even if not using MPI"
   ]
  },
  {
   "cell_type": "markdown",
   "metadata": {},
   "source": [
    "Since all wrapped classes live under `PyROOT` it can be convenient to set aliases"
   ]
  },
  {
   "cell_type": "code",
   "execution_count": 4,
   "metadata": {},
   "outputs": [],
   "source": [
    "################ SET ADDITIONAL ALIAS ###################\n",
    "AmplitudeInfo = ROOT.AmplitudeInfo\n",
    "ParameterInfo = ROOT.ParameterInfo"
   ]
  }
 ],
 "metadata": {
  "kernelspec": {
   "display_name": "PyAmpTools",
   "language": "python",
   "name": "pyamptools"
  }
 },
 "nbformat": 4,
 "nbformat_minor": 2
}

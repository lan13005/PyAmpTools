{
 "cells": [
  {
   "cell_type": "markdown",
   "metadata": {},
   "source": [
    "# Fitting"
   ]
  },
  {
   "cell_type": "markdown",
   "metadata": {},
   "source": [
    "Default AmpTools supports unbinned maximum likelihood estimation. Optimization is performed by [Minuit](https://root.cern.ch/doc/master/classTMinuit.html), a gradient based optimzation procedure.\n",
    "\n",
    "There are many algorithms to perform model inference and can be broken up into two classes, those that require gradients and those that do not. In these tutorials, we will use the standard Minuit infrastructure built into AmpTools and also use Markov Chain Monte Carlo to perform inference."
   ]
  }
 ],
 "metadata": {
  "language_info": {
   "name": "python"
  }
 },
 "nbformat": 4,
 "nbformat_minor": 2
}

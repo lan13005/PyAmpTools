{
 "cells": [
  {
   "cell_type": "markdown",
   "metadata": {},
   "source": [
    "# Markov Chain Monte Carlo"
   ]
  },
  {
   "cell_type": "markdown",
   "metadata": {},
   "source": [
    "Markov Chain Monte Carlo (MCMC) is another class of techniques to perform interence by sampling directly from the posterior distribution. In this tutorial we will showcase how to use [emcee](https://emcee.readthedocs.io/en/stable/), an *ensemble sampler*. Ensemble samplers uses a set of walkers that move around the parameter space generally spending more time in high probablity regions. Several types of moves are implemented in `emcee` and can be mixed together to form a probabilistic mixture, see [emcee moves documentation](https://emcee.readthedocs.io/en/stable/user/moves/). Accepting or rejecting the move is based on the [Metropolis algorithm](https://en.wikipedia.org/wiki/Metropolis%E2%80%93Hastings_algorithm). "
   ]
  },
  {
   "cell_type": "code",
   "execution_count": 1,
   "metadata": {},
   "outputs": [
    {
     "name": "stdout",
     "output_type": "stream",
     "text": [
      "Welcome to JupyROOT 6.28/06\n",
      "\n",
      "------------------------------------------------\n",
      "MPI is disabled\n",
      "GPU is disabled\n",
      "Loading library libAmpTools.so .............. ON\n",
      "Loading library libAmpPlotter.so ............ ON\n",
      "Loading library libAmpsDataIO.so ............ ON\n",
      "Loading library libFSRoot.so ................ OFF\n",
      "Loading library libAmpsGen.so ............... ON\n",
      "------------------------------------------------\n",
      "\n",
      "Initializing AMPTOOLS_AMPS_DATAIO for PyROOT...\n"
     ]
    }
   ],
   "source": [
    "import ROOT\n",
    "import os\n",
    "\n",
    "############## SET ENVIRONMENT VARIABLES ##############\n",
    "REPO_HOME     = os.environ['REPO_HOME']\n",
    "import atiSetup\n",
    "USE_MPI, USE_GPU, RANK_MPI = atiSetup.setup(globals(), use_genamp=True) # RANK_MPI defaults to 0 even if not using MPI\n",
    "\n",
    "import numpy as np\n",
    "import emcee\n",
    "import matplotlib.pyplot as plt\n",
    "from LoadParameters import LoadParameters\n",
    "import corner\n",
    "from mcmc import perform_mcmc, draw_corner, LogProb\n",
    "\n",
    "from utils import PrintSourceCode"
   ]
  },
  {
   "cell_type": "markdown",
   "metadata": {},
   "source": [
    "Lets start with the general setup first. We first have to define the location of the `AmpTools` configuration file that defines the fit model and datasets. We also need to define some folder names and file names to dump the results to. "
   ]
  },
  {
   "cell_type": "code",
   "execution_count": 2,
   "metadata": {},
   "outputs": [],
   "source": [
    "cfgfile = f'{REPO_HOME}/tests/samples/SIMPLE_EXAMPLE/fit.cfg'\n",
    "overwrite_ofile = True\n",
    "ofolder = 'mcmc'\n",
    "ofile = 'mcmc.h5'\n",
    "corner_ofile = 'corner.png'"
   ]
  },
  {
   "cell_type": "markdown",
   "metadata": {},
   "source": [
    "The main components to this algorithm are shown below. We have to define how many walkers, `nwalkers`, we wish to sample the posterior distribution with. \n",
    "\n",
    "A `burnIn` phase is typically performed before keeping any accepted samples. Depending on the setup, this phase can remove the dependence on initial conditions and helps ensure that the accepted samples are mixed. \n",
    "\n",
    "`nsamples` dictate how many accepted samples we should obtain for each walker.\n",
    "\n",
    "As we are simplying sampling around a MLE we will ignore *burn in* for now and request a small number of samples for lighter computation and cleaner output."
   ]
  },
  {
   "cell_type": "code",
   "execution_count": 3,
   "metadata": {},
   "outputs": [],
   "source": [
    "nwalkers = 32\n",
    "burnIn = 0\n",
    "nsamples = 200\n",
    "overwrite_ofile = True # whether we should always overwrite the output file\n",
    "seed = 42 # for reproducibility"
   ]
  },
  {
   "cell_type": "code",
   "execution_count": 4,
   "metadata": {},
   "outputs": [
    {
     "name": "stdout",
     "output_type": "stream",
     "text": [
      "\n",
      " ====================================================================================\n",
      " cfgfile: /w/halld-scshelf2101/lng/WORK/PyAmpTools/tests/samples/SIMPLE_EXAMPLE/fit.cfg\n",
      " ofolder: mcmc\n",
      " ofile: mcmc.h5\n",
      " corner_ofile: corner.png\n",
      " nwalkers: 32\n",
      " burnIn: 0\n",
      " nsamples: 200\n",
      " overwrite_ofile: True\n",
      " seed: 42\n",
      " ====================================================================================\n",
      "\n"
     ]
    }
   ],
   "source": [
    "print(\"\\n ====================================================================================\")\n",
    "print(f\" cfgfile: {cfgfile}\")\n",
    "print(f\" ofolder: {ofolder}\")\n",
    "print(f\" ofile: {ofile}\")\n",
    "print(f\" corner_ofile: {corner_ofile}\")\n",
    "print(f\" nwalkers: {nwalkers}\")\n",
    "print(f\" burnIn: {burnIn}\")\n",
    "print(f\" nsamples: {nsamples}\")\n",
    "print(f\" overwrite_ofile: {overwrite_ofile}\")\n",
    "print(f\" seed: {seed}\")\n",
    "print(\" ====================================================================================\\n\")"
   ]
  },
  {
   "cell_type": "markdown",
   "metadata": {},
   "source": [
    "We also have to define the *Posterior distribution*. In practice this means we have to define the *likelihood* (which is taken from `AmpTools`) and a *prior* distribution. For now, we will ignore the *prior* and run the `emcee` sampler for the *likelihood* distribution. The definition of the log posterior probability used in this tutorial is shown below."
   ]
  },
  {
   "cell_type": "code",
   "execution_count": 5,
   "metadata": {},
   "outputs": [
    {
     "data": {
      "text/html": [
       "<style>pre { line-height: 125%; }\n",
       "td.linenos .normal { color: inherit; background-color: transparent; padding-left: 5px; padding-right: 5px; }\n",
       "span.linenos { color: inherit; background-color: transparent; padding-left: 5px; padding-right: 5px; }\n",
       "td.linenos .special { color: #000000; background-color: #ffffc0; padding-left: 5px; padding-right: 5px; }\n",
       "span.linenos.special { color: #000000; background-color: #ffffc0; padding-left: 5px; padding-right: 5px; }\n",
       ".output_html .hll { background-color: #ffffcc }\n",
       ".output_html { background: #f8f8f8; }\n",
       ".output_html .c { color: #3D7B7B; font-style: italic } /* Comment */\n",
       ".output_html .err { border: 1px solid #FF0000 } /* Error */\n",
       ".output_html .k { color: #008000; font-weight: bold } /* Keyword */\n",
       ".output_html .o { color: #666666 } /* Operator */\n",
       ".output_html .ch { color: #3D7B7B; font-style: italic } /* Comment.Hashbang */\n",
       ".output_html .cm { color: #3D7B7B; font-style: italic } /* Comment.Multiline */\n",
       ".output_html .cp { color: #9C6500 } /* Comment.Preproc */\n",
       ".output_html .cpf { color: #3D7B7B; font-style: italic } /* Comment.PreprocFile */\n",
       ".output_html .c1 { color: #3D7B7B; font-style: italic } /* Comment.Single */\n",
       ".output_html .cs { color: #3D7B7B; font-style: italic } /* Comment.Special */\n",
       ".output_html .gd { color: #A00000 } /* Generic.Deleted */\n",
       ".output_html .ge { font-style: italic } /* Generic.Emph */\n",
       ".output_html .ges { font-weight: bold; font-style: italic } /* Generic.EmphStrong */\n",
       ".output_html .gr { color: #E40000 } /* Generic.Error */\n",
       ".output_html .gh { color: #000080; font-weight: bold } /* Generic.Heading */\n",
       ".output_html .gi { color: #008400 } /* Generic.Inserted */\n",
       ".output_html .go { color: #717171 } /* Generic.Output */\n",
       ".output_html .gp { color: #000080; font-weight: bold } /* Generic.Prompt */\n",
       ".output_html .gs { font-weight: bold } /* Generic.Strong */\n",
       ".output_html .gu { color: #800080; font-weight: bold } /* Generic.Subheading */\n",
       ".output_html .gt { color: #0044DD } /* Generic.Traceback */\n",
       ".output_html .kc { color: #008000; font-weight: bold } /* Keyword.Constant */\n",
       ".output_html .kd { color: #008000; font-weight: bold } /* Keyword.Declaration */\n",
       ".output_html .kn { color: #008000; font-weight: bold } /* Keyword.Namespace */\n",
       ".output_html .kp { color: #008000 } /* Keyword.Pseudo */\n",
       ".output_html .kr { color: #008000; font-weight: bold } /* Keyword.Reserved */\n",
       ".output_html .kt { color: #B00040 } /* Keyword.Type */\n",
       ".output_html .m { color: #666666 } /* Literal.Number */\n",
       ".output_html .s { color: #BA2121 } /* Literal.String */\n",
       ".output_html .na { color: #687822 } /* Name.Attribute */\n",
       ".output_html .nb { color: #008000 } /* Name.Builtin */\n",
       ".output_html .nc { color: #0000FF; font-weight: bold } /* Name.Class */\n",
       ".output_html .no { color: #880000 } /* Name.Constant */\n",
       ".output_html .nd { color: #AA22FF } /* Name.Decorator */\n",
       ".output_html .ni { color: #717171; font-weight: bold } /* Name.Entity */\n",
       ".output_html .ne { color: #CB3F38; font-weight: bold } /* Name.Exception */\n",
       ".output_html .nf { color: #0000FF } /* Name.Function */\n",
       ".output_html .nl { color: #767600 } /* Name.Label */\n",
       ".output_html .nn { color: #0000FF; font-weight: bold } /* Name.Namespace */\n",
       ".output_html .nt { color: #008000; font-weight: bold } /* Name.Tag */\n",
       ".output_html .nv { color: #19177C } /* Name.Variable */\n",
       ".output_html .ow { color: #AA22FF; font-weight: bold } /* Operator.Word */\n",
       ".output_html .w { color: #bbbbbb } /* Text.Whitespace */\n",
       ".output_html .mb { color: #666666 } /* Literal.Number.Bin */\n",
       ".output_html .mf { color: #666666 } /* Literal.Number.Float */\n",
       ".output_html .mh { color: #666666 } /* Literal.Number.Hex */\n",
       ".output_html .mi { color: #666666 } /* Literal.Number.Integer */\n",
       ".output_html .mo { color: #666666 } /* Literal.Number.Oct */\n",
       ".output_html .sa { color: #BA2121 } /* Literal.String.Affix */\n",
       ".output_html .sb { color: #BA2121 } /* Literal.String.Backtick */\n",
       ".output_html .sc { color: #BA2121 } /* Literal.String.Char */\n",
       ".output_html .dl { color: #BA2121 } /* Literal.String.Delimiter */\n",
       ".output_html .sd { color: #BA2121; font-style: italic } /* Literal.String.Doc */\n",
       ".output_html .s2 { color: #BA2121 } /* Literal.String.Double */\n",
       ".output_html .se { color: #AA5D1F; font-weight: bold } /* Literal.String.Escape */\n",
       ".output_html .sh { color: #BA2121 } /* Literal.String.Heredoc */\n",
       ".output_html .si { color: #A45A77; font-weight: bold } /* Literal.String.Interpol */\n",
       ".output_html .sx { color: #008000 } /* Literal.String.Other */\n",
       ".output_html .sr { color: #A45A77 } /* Literal.String.Regex */\n",
       ".output_html .s1 { color: #BA2121 } /* Literal.String.Single */\n",
       ".output_html .ss { color: #19177C } /* Literal.String.Symbol */\n",
       ".output_html .bp { color: #008000 } /* Name.Builtin.Pseudo */\n",
       ".output_html .fm { color: #0000FF } /* Name.Function.Magic */\n",
       ".output_html .vc { color: #19177C } /* Name.Variable.Class */\n",
       ".output_html .vg { color: #19177C } /* Name.Variable.Global */\n",
       ".output_html .vi { color: #19177C } /* Name.Variable.Instance */\n",
       ".output_html .vm { color: #19177C } /* Name.Variable.Magic */\n",
       ".output_html .il { color: #666666 } /* Literal.Number.Integer.Long */</style><div class=\"highlight\"><pre><span></span><span class=\"k\">def</span> <span class=\"nf\">LogProb</span><span class=\"p\">(</span>\n",
       "    <span class=\"n\">par_values</span><span class=\"p\">,</span>\n",
       "    <span class=\"n\">keys</span><span class=\"p\">,</span>\n",
       "    <span class=\"n\">ati</span><span class=\"p\">,</span>\n",
       "    <span class=\"n\">LoadParametersSampler</span>\n",
       "    <span class=\"p\">):</span>\n",
       "<span class=\"w\">    </span><span class=\"sd\">&#39;&#39;&#39;</span>\n",
       "<span class=\"sd\">    Definition of the (Log) Posterior distribution</span>\n",
       "\n",
       "<span class=\"sd\">    Args:</span>\n",
       "<span class=\"sd\">        par_values (float): Flattened (complex-to-Real/Imag) Parameter values. ~ [real1, imag1, real2, imag2, ...]</span>\n",
       "<span class=\"sd\">        keys (str): Flattened Parameter names. ~ [amp1,  amp1,  amp2,  amp2, ...]</span>\n",
       "<span class=\"sd\">        ati (AmpToolsInterface): AmpToolsInterface instance</span>\n",
       "<span class=\"sd\">        LoadParametersSampler (LoadParameters): LoadParameters class to manage parameters</span>\n",
       "\n",
       "<span class=\"sd\">    Returns:</span>\n",
       "<span class=\"sd\">        log_prob (float): Log posterior probability</span>\n",
       "<span class=\"sd\">    &#39;&#39;&#39;</span>\n",
       "\n",
       "    <span class=\"c1\">## Calculate Log likelihood</span>\n",
       "    <span class=\"n\">ll</span> <span class=\"o\">=</span> <span class=\"o\">-</span><span class=\"mf\">1e7</span>\n",
       "    <span class=\"n\">parameters</span> <span class=\"o\">=</span> <span class=\"n\">LoadParametersSampler</span><span class=\"o\">.</span><span class=\"n\">unflatten_parameters</span><span class=\"p\">(</span><span class=\"n\">par_values</span><span class=\"p\">,</span> <span class=\"n\">keys</span><span class=\"p\">)</span>\n",
       "    <span class=\"k\">for</span> <span class=\"n\">name</span><span class=\"p\">,</span> <span class=\"n\">value</span> <span class=\"ow\">in</span> <span class=\"n\">parameters</span><span class=\"o\">.</span><span class=\"n\">items</span><span class=\"p\">():</span>\n",
       "        <span class=\"c1\"># parameterManager has been pythonized to act like a dictionary</span>\n",
       "        <span class=\"n\">ati</span><span class=\"o\">.</span><span class=\"n\">parameterManager</span><span class=\"p\">()[</span><span class=\"n\">name</span><span class=\"p\">]</span> <span class=\"o\">=</span> <span class=\"n\">value</span>\n",
       "    <span class=\"n\">ll</span> <span class=\"o\">=</span> <span class=\"o\">-</span><span class=\"n\">ati</span><span class=\"o\">.</span><span class=\"n\">likelihood</span><span class=\"p\">()</span>\n",
       "\n",
       "    <span class=\"c1\">## Add lasso prior on parameter values we know are small</span>\n",
       "    <span class=\"c1\"># lasso = 0.1</span>\n",
       "    <span class=\"n\">prior</span> <span class=\"o\">=</span> <span class=\"mi\">0</span> <span class=\"c1\"># -lasso * np.sum(np.abs(par_values[PAR_INDICES &gt;= 2]))</span>\n",
       "\n",
       "    <span class=\"n\">log_prob</span> <span class=\"o\">=</span> <span class=\"n\">ll</span> <span class=\"o\">+</span> <span class=\"n\">prior</span>\n",
       "    <span class=\"c1\"># print(f&#39;LogProb: {log_prob} = {ll} + {prior}&#39;)</span>\n",
       "    <span class=\"k\">return</span> <span class=\"n\">log_prob</span>\n",
       "</pre></div>\n"
      ],
      "text/latex": [
       "\\begin{Verbatim}[commandchars=\\\\\\{\\}]\n",
       "\\PY{k}{def} \\PY{n+nf}{LogProb}\\PY{p}{(}\n",
       "    \\PY{n}{par\\PYZus{}values}\\PY{p}{,}\n",
       "    \\PY{n}{keys}\\PY{p}{,}\n",
       "    \\PY{n}{ati}\\PY{p}{,}\n",
       "    \\PY{n}{LoadParametersSampler}\n",
       "    \\PY{p}{)}\\PY{p}{:}\n",
       "\\PY{+w}{    }\\PY{l+s+sd}{\\PYZsq{}\\PYZsq{}\\PYZsq{}}\n",
       "\\PY{l+s+sd}{    Definition of the (Log) Posterior distribution}\n",
       "\n",
       "\\PY{l+s+sd}{    Args:}\n",
       "\\PY{l+s+sd}{        par\\PYZus{}values (float): Flattened (complex\\PYZhy{}to\\PYZhy{}Real/Imag) Parameter values. \\PYZti{} [real1, imag1, real2, imag2, ...]}\n",
       "\\PY{l+s+sd}{        keys (str): Flattened Parameter names. \\PYZti{} [amp1,  amp1,  amp2,  amp2, ...]}\n",
       "\\PY{l+s+sd}{        ati (AmpToolsInterface): AmpToolsInterface instance}\n",
       "\\PY{l+s+sd}{        LoadParametersSampler (LoadParameters): LoadParameters class to manage parameters}\n",
       "\n",
       "\\PY{l+s+sd}{    Returns:}\n",
       "\\PY{l+s+sd}{        log\\PYZus{}prob (float): Log posterior probability}\n",
       "\\PY{l+s+sd}{    \\PYZsq{}\\PYZsq{}\\PYZsq{}}\n",
       "\n",
       "    \\PY{c+c1}{\\PYZsh{}\\PYZsh{} Calculate Log likelihood}\n",
       "    \\PY{n}{ll} \\PY{o}{=} \\PY{o}{\\PYZhy{}}\\PY{l+m+mf}{1e7}\n",
       "    \\PY{n}{parameters} \\PY{o}{=} \\PY{n}{LoadParametersSampler}\\PY{o}{.}\\PY{n}{unflatten\\PYZus{}parameters}\\PY{p}{(}\\PY{n}{par\\PYZus{}values}\\PY{p}{,} \\PY{n}{keys}\\PY{p}{)}\n",
       "    \\PY{k}{for} \\PY{n}{name}\\PY{p}{,} \\PY{n}{value} \\PY{o+ow}{in} \\PY{n}{parameters}\\PY{o}{.}\\PY{n}{items}\\PY{p}{(}\\PY{p}{)}\\PY{p}{:}\n",
       "        \\PY{c+c1}{\\PYZsh{} parameterManager has been pythonized to act like a dictionary}\n",
       "        \\PY{n}{ati}\\PY{o}{.}\\PY{n}{parameterManager}\\PY{p}{(}\\PY{p}{)}\\PY{p}{[}\\PY{n}{name}\\PY{p}{]} \\PY{o}{=} \\PY{n}{value}\n",
       "    \\PY{n}{ll} \\PY{o}{=} \\PY{o}{\\PYZhy{}}\\PY{n}{ati}\\PY{o}{.}\\PY{n}{likelihood}\\PY{p}{(}\\PY{p}{)}\n",
       "\n",
       "    \\PY{c+c1}{\\PYZsh{}\\PYZsh{} Add lasso prior on parameter values we know are small}\n",
       "    \\PY{c+c1}{\\PYZsh{} lasso = 0.1}\n",
       "    \\PY{n}{prior} \\PY{o}{=} \\PY{l+m+mi}{0} \\PY{c+c1}{\\PYZsh{} \\PYZhy{}lasso * np.sum(np.abs(par\\PYZus{}values[PAR\\PYZus{}INDICES \\PYZgt{}= 2]))}\n",
       "\n",
       "    \\PY{n}{log\\PYZus{}prob} \\PY{o}{=} \\PY{n}{ll} \\PY{o}{+} \\PY{n}{prior}\n",
       "    \\PY{c+c1}{\\PYZsh{} print(f\\PYZsq{}LogProb: \\PYZob{}log\\PYZus{}prob\\PYZcb{} = \\PYZob{}ll\\PYZcb{} + \\PYZob{}prior\\PYZcb{}\\PYZsq{})}\n",
       "    \\PY{k}{return} \\PY{n}{log\\PYZus{}prob}\n",
       "\\end{Verbatim}\n"
      ],
      "text/plain": [
       "def LogProb(\n",
       "    par_values,\n",
       "    keys,\n",
       "    ati,\n",
       "    LoadParametersSampler\n",
       "    ):\n",
       "    '''\n",
       "    Definition of the (Log) Posterior distribution\n",
       "\n",
       "    Args:\n",
       "        par_values (float): Flattened (complex-to-Real/Imag) Parameter values. ~ [real1, imag1, real2, imag2, ...]\n",
       "        keys (str): Flattened Parameter names. ~ [amp1,  amp1,  amp2,  amp2, ...]\n",
       "        ati (AmpToolsInterface): AmpToolsInterface instance\n",
       "        LoadParametersSampler (LoadParameters): LoadParameters class to manage parameters\n",
       "\n",
       "    Returns:\n",
       "        log_prob (float): Log posterior probability\n",
       "    '''\n",
       "\n",
       "    ## Calculate Log likelihood\n",
       "    ll = -1e7\n",
       "    parameters = LoadParametersSampler.unflatten_parameters(par_values, keys)\n",
       "    for name, value in parameters.items():\n",
       "        # parameterManager has been pythonized to act like a dictionary\n",
       "        ati.parameterManager()[name] = value\n",
       "    ll = -ati.likelihood()\n",
       "\n",
       "    ## Add lasso prior on parameter values we know are small\n",
       "    # lasso = 0.1\n",
       "    prior = 0 # -lasso * np.sum(np.abs(par_values[PAR_INDICES >= 2]))\n",
       "\n",
       "    log_prob = ll + prior\n",
       "    # print(f'LogProb: {log_prob} = {ll} + {prior}')\n",
       "    return log_prob"
      ]
     },
     "execution_count": 5,
     "metadata": {},
     "output_type": "execute_result"
    }
   ],
   "source": [
    "PrintSourceCode(LogProb)"
   ]
  },
  {
   "cell_type": "code",
   "execution_count": null,
   "metadata": {},
   "outputs": [],
   "source": [
    "############## PREPARE FOR SAMPLER ##############\n",
    "assert( os.path.exists(cfgfile) ), 'Config file does not exist at specified path'\n",
    "if os.path.isfile(f'{ofolder}/{ofile}') and overwrite_ofile:\n",
    "    os.system(f'rm {ofolder}/{ofile}')\n",
    "    print(\"Overwriting existing output file!\")\n",
    "os.system(f'mkdir -p {ofolder}')"
   ]
  },
  {
   "cell_type": "markdown",
   "metadata": {},
   "source": [
    "Lets parse the configuration file and display the contents as we had done in the [fit tutorial](https://lan13005.github.io/PyAmpTools/notebooks/mle.html)."
   ]
  },
  {
   "cell_type": "code",
   "execution_count": null,
   "metadata": {},
   "outputs": [],
   "source": [
    "############## LOAD CONFIGURATION FILE ##############\n",
    "parser = ConfigFileParser(cfgfile)\n",
    "cfgInfo: ConfigurationInfo = parser.getConfigurationInfo()\n",
    "cfgInfo.display()\n",
    "\n",
    "############## REGISTER OBJECTS FOR AMPTOOLS ##############\n",
    "AmpToolsInterface.registerAmplitude( Zlm() )\n",
    "AmpToolsInterface.registerDataReader( DataReader() )\n",
    "\n",
    "ati = AmpToolsInterface( cfgInfo )"
   ]
  },
  {
   "cell_type": "markdown",
   "metadata": {},
   "source": [
    "`AmpTools` uses a `ParameterManager` to manage the fit parameters (amplitudes and production coefficients). Production coefficients are complex numbers and optimization is generally performed on *real* numbers. Complex production coefficients have to be flattened first, splitting them up into their real and imaginary parts. The `LoadParameters` class reads in a [FitResults](https://github.com/mashephe/AmpTools/blob/master/AmpTools/IUAmpTools/FitResults.h) file or a [ConfigurationInfo](https://github.com/mashephe/AmpTools/blob/master/AmpTools/IUAmpTools/ConfigurationInfo.h) object and extracts the free parameters. If a FitResults file is given, the MLE values used instead of the values set with the `initialize` keyword in the cfg file. This class can also perform flattening of complex parameters or unflattening to aggregate real/imaginary components again. "
   ]
  },
  {
   "cell_type": "code",
   "execution_count": null,
   "metadata": {},
   "outputs": [],
   "source": [
    "LoadParametersSampler = LoadParameters()\n",
    "LoadParametersSampler.load_cfg( cfgInfo )"
   ]
  },
  {
   "cell_type": "markdown",
   "metadata": {},
   "source": [
    "We can now run the mcmc sampler. See [perform_mcmc](https://lan13005.github.io/PyAmpTools/api/mcmc.html#mcmc.perform_mcmc) for the API and source code."
   ]
  },
  {
   "cell_type": "code",
   "execution_count": null,
   "metadata": {},
   "outputs": [],
   "source": [
    "############## RUN MCMC ##############\n",
    "np.random.seed(seed)\n",
    "\n",
    "results = perform_mcmc(ati,\n",
    "                        LoadParametersSampler,\n",
    "                        ofolder   = ofolder,\n",
    "                        ofile     = ofile,\n",
    "                        nwalkers  = nwalkers,\n",
    "                        burnIn    = burnIn,\n",
    "                        nsamples  = nsamples,\n",
    "                        sampler_kwargs = {'progress': False},  # turn off progress bar for cleaner output\n",
    "                        )"
   ]
  },
  {
   "cell_type": "markdown",
   "metadata": {},
   "source": [
    "A [corner](https://corner.readthedocs.io/en/latest/) plot shows pair-wise parameter correlations along with the parameter PDFs along the diagonal. Uncertainties can be extracted from the posterior distribution samples. [draw_corner](https://lan13005.github.io/PyAmpTools/api/mcmc.html#mcmc.draw_corner) wraps `corner` for axis formatting and plotting the Maximum a Posterior (MAP) solution (shown as blue lines) and the initial MLE values (shown as green lines).\n",
    "\n",
    "The configuration file has been seeded with the MLE fit (using the *include* keyword at the bottom of the cfg file pointing to the *seed* file outputted by `fit`). By running the `emcee` sampler this way gives an estimate of the local posterior distribution "
   ]
  },
  {
   "cell_type": "code",
   "execution_count": null,
   "metadata": {},
   "outputs": [],
   "source": [
    "draw_corner(results, f'{ofolder}/{corner_ofile}')"
   ]
  },
  {
   "cell_type": "markdown",
   "metadata": {},
   "source": [
    "We can see that the parameters are correlated. In this cfg file `resAmp1` is set to be real while `resAmp2` and `resAmp3` are freely floating complex numbers. It can be seen that resAmp1 is negatively correlated with the other parameters. The other parameters are uniformly positively correlated with each other."
   ]
  },
  {
   "cell_type": "markdown",
   "metadata": {},
   "source": [
    "# Additional arguments to `perform_mcmc`:\n",
    "1. `params_dict` - provides ranges or initial values to initialize the walkers with. If you wish to understand the uncertainties around a MLE value, you can pass a dictionary of values: {parameter: value} and the walkers will be initialized around a N-dimensional Gaussian ball around. If you pass a range of values, then the walkers will be uniformly randomized on these intervals. \n",
    "2. `move_mixture` - The mixture of moves can have a significant effect on the results. Each move has a set of hyperparameters and an associated probability to be performed. In general, these moves attempt to create a balance between exploring the parameter space and exploiting (or local sampling) regions of high probability."
   ]
  },
  {
   "cell_type": "code",
   "execution_count": null,
   "metadata": {},
   "outputs": [],
   "source": [
    "# Lets perform some cleanup again\n",
    "!rm -r mcmc"
   ]
  },
  {
   "cell_type": "markdown",
   "metadata": {},
   "source": []
  }
 ],
 "metadata": {
  "kernelspec": {
   "display_name": "PyAmpTools",
   "language": "python",
   "name": "pyamptools"
  },
  "language_info": {
   "codemirror_mode": {
    "name": "ipython",
    "version": 3
   },
   "file_extension": ".py",
   "mimetype": "text/x-python",
   "name": "python",
   "nbconvert_exporter": "python",
   "pygments_lexer": "ipython3",
   "version": "3.9.18"
  }
 },
 "nbformat": 4,
 "nbformat_minor": 2
}

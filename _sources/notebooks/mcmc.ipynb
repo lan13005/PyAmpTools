{
 "cells": [
  {
   "cell_type": "markdown",
   "metadata": {},
   "source": [
    "# Markov Chain Monte Carlo"
   ]
  },
  {
   "cell_type": "markdown",
   "metadata": {},
   "source": [
    "Markov Chain Monte Carlo (MCMC) is another class of techniques to perform interence by sampling directly from the posterior distribution. In this tutorial we will showcase how to use [emcee](https://emcee.readthedocs.io/en/stable/), an *ensemble sampler*. Ensemble samplers uses a set of walkers that move around the parameter space generally spending more time in high probablity regions. Several types of moves are implemented in `emcee` and can be mixed together to form a probabilistic mixture, see [emcee moves documentation](https://emcee.readthedocs.io/en/stable/user/moves/). Accepting or rejecting the move is based on the [Metropolis algorithm](https://en.wikipedia.org/wiki/Metropolis%E2%80%93Hastings_algorithm). "
   ]
  },
  {
   "cell_type": "code",
   "execution_count": null,
   "metadata": {},
   "outputs": [],
   "source": [
    "\n",
    "parser = argparse.ArgumentParser(description='emcee fitter')\n",
    "parser.add_argument('--cfgfile', type=str, default='', help='Config file name')\n",
    "parser.add_argument('--nwalkers', type=int, default=32, help='Number of walkers. Default 32')\n",
    "parser.add_argument('--burnin', type=int, default=100, help='Number of burn-in steps. Default 100')\n",
    "parser.add_argument('--nsamples', type=int, default=1000, help='Number of samples. Default 1000')\n",
    "parser.add_argument('--overwrite', action='store_true', help='Overwrite existing output file if exists')\n",
    "parser.add_argument('--accelerator', type=str, default='', help='Force use of given \"accelerator\" ~ [gpu, mpi, mpigpu, gpumpi]. Default \"\" = cpu')\n",
    "parser.add_argument('--ofolder', type=str, default='mcmc', help='Output folder name. Default \"mcmc\"')\n",
    "parser.add_argument('--ofile', type=str, default='mcmc.h5', help='Output file name. Default \"mcmc.h5\"')\n",
    "parser.add_argument('--corner_ofile', type=str, default='corner.png', help='Corner plot output file name. Default \"corner.png\"')\n",
    "parser.add_argument('--seed', type=int, default=42, help='RNG seed for consistent walker random initialization. Default 42')\n",
    "parser.add_argument('--yaml_override', type=str, default={}, help='Path to YAML file containing parameter overrides. Default \"\" = no override')\n",
    "\n",
    "cfgfile = f'{REPO_HOME}/tests/samples/SIMPLE_EXAMPLE/fit.cfg'\n",
    "\n",
    "args = parser.parse_args(sys.argv[1:])\n",
    "\n",
    "yaml_override = {}\n",
    "if args.yaml_override != {}:\n",
    "    with open(args.yaml_override, 'r') as f:\n",
    "        yaml_override = yaml.safe_load(f)\n",
    "\n",
    "cfgfile  = args.cfgfile if 'cfgfile' not in yaml_override else yaml_override['cfgfile']\n",
    "ofolder  = args.ofolder if 'ofolder' not in yaml_override else yaml_override['ofolder']\n",
    "ofile    = args.ofile if 'ofile' not in yaml_override else yaml_override['ofile']\n",
    "corner_ofile = args.corner_ofile if 'corner_ofile' not in yaml_override else yaml_override['corner_ofile']\n",
    "nwalkers = args.nwalkers if 'nwalkers' not in yaml_override else yaml_override['nwalkers']\n",
    "burnIn   = args.burnin if 'burnin' not in yaml_override else yaml_override['burnin']\n",
    "nsamples = args.nsamples if 'nsamples' not in yaml_override else yaml_override['nsamples']\n",
    "overwrite_ofile = args.overwrite if 'overwrite' not in yaml_override else yaml_override['overwrite']\n",
    "seed     = args.seed if 'seed' not in yaml_override else yaml_override['seed']\n",
    "params_dict = {} if 'params_dict' not in yaml_override else yaml_override['params_dict']\n",
    "moves_mixture = [ emcee.moves.StretchMove() ] if 'moves_mixture' not in yaml_override else createMovesMixtureFromDict(yaml_override['moves_mixture'])\n",
    "\n",
    "assert( cfgfile != '' ), 'You must specify a config file'\n",
    "\n",
    "print(\"\\n ====================================================================================\")\n",
    "print(f\" cfgfile: {cfgfile}\")\n",
    "print(f\" ofolder: {ofolder}\")\n",
    "print(f\" ofile: {ofile}\")\n",
    "print(f\" corner_ofile: {corner_ofile}\")\n",
    "print(f\" nwalkers: {nwalkers}\")\n",
    "print(f\" burnIn: {burnIn}\")\n",
    "print(f\" nsamples: {nsamples}\")\n",
    "print(f\" overwrite_ofile: {overwrite_ofile}\")\n",
    "print(f\" seed: {seed}\")\n",
    "print(f\" params_dict: {params_dict}\")\n",
    "print(f\" moves_mixture: {moves_mixture}\")\n",
    "print(\" ====================================================================================\\n\")\n",
    "\n",
    "############## PREPARE FOR SAMPLER ##############\n",
    "assert( os.path.exists(cfgfile) ), 'Config file does not exist at specified path'\n",
    "if os.path.isfile(f'{ofolder}/{ofile}') and overwrite_ofile:\n",
    "    os.system(f'rm {ofolder}/{ofile}')\n",
    "    print(\"Overwriting existing output file!\")\n",
    "os.system(f'mkdir -p {ofolder}')\n",
    "\n",
    "############## SET ENVIRONMENT VARIABLES ##############\n",
    "REPO_HOME     = os.environ['REPO_HOME']\n",
    "\n",
    "################### LOAD LIBRARIES ##################\n",
    "USE_MPI, USE_GPU, RANK_MPI = atiSetup.setup(globals(), args.accelerator)\n",
    "\n",
    "############## LOAD CONFIGURATION FILE ##############\n",
    "parser = ConfigFileParser(cfgfile)\n",
    "cfgInfo: ConfigurationInfo = parser.getConfigurationInfo()\n",
    "cfgInfo.display()\n",
    "\n",
    "############## REGISTER OBJECTS FOR AMPTOOLS ##############\n",
    "AmpToolsInterface.registerAmplitude( Zlm() )\n",
    "AmpToolsInterface.registerAmplitude( BreitWigner() )\n",
    "AmpToolsInterface.registerAmplitude( Piecewise() )\n",
    "AmpToolsInterface.registerAmplitude( PhaseOffset() )\n",
    "AmpToolsInterface.registerAmplitude( TwoPiAngles() )\n",
    "AmpToolsInterface.registerDataReader( DataReader() )\n",
    "AmpToolsInterface.registerDataReader( DataReaderFilter() )\n",
    "\n",
    "ati = AmpToolsInterface( cfgInfo )\n",
    "LoadParametersSampler = LoadParameters()\n",
    "LoadParametersSampler.load_cfg( cfgInfo )\n",
    "\n",
    "############## RUN MCMC ##############\n",
    "np.random.seed(seed)\n",
    "\n",
    "results = perform_mcmc(ati,\n",
    "                        LoadParametersSampler,\n",
    "                        ofolder   = ofolder,\n",
    "                        ofile     = ofile,\n",
    "                        nwalkers  = nwalkers,\n",
    "                        burnIn    = burnIn,\n",
    "                        nsamples  = nsamples,\n",
    "                        params_dict   = params_dict,\n",
    "                        moves_mixture = moves_mixture,\n",
    "                        )\n",
    "elapsed_fit_time = results['elapsed_fit_time']\n",
    "draw_corner(results, ofolder, corner_ofile)\n",
    "\n",
    "print(f\"Fit time: {elapsed_fit_time} seconds\")\n",
    "print(f\"Total time: {time.time() - start_time} seconds\")"
   ]
  },
  {
   "cell_type": "code",
   "execution_count": null,
   "metadata": {
    "vscode": {
     "languageId": "plaintext"
    }
   },
   "outputs": [],
   "source": []
  },
  {
   "cell_type": "markdown",
   "metadata": {},
   "source": []
  }
 ],
 "metadata": {
  "language_info": {
   "name": "python"
  }
 },
 "nbformat": 4,
 "nbformat_minor": 2
}

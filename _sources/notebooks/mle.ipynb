{
 "cells": [
  {
   "cell_type": "markdown",
   "metadata": {},
   "source": [
    "# Maximum Likelihood Estimation"
   ]
  },
  {
   "cell_type": "code",
   "execution_count": null,
   "metadata": {},
   "outputs": [],
   "source": [
    "import os\n",
    "import argparse\n",
    "import time\n",
    "from datetime import datetime\n",
    "import random\n",
    "import sys\n",
    "import atiSetup\n",
    "\n",
    "from fit import runFits"
   ]
  },
  {
   "cell_type": "code",
   "execution_count": null,
   "metadata": {},
   "outputs": [],
   "source": [
    "############## SET ENVIRONMENT VARIABLES ##############\n",
    "REPO_HOME = os.environ['REPO_HOME']\n",
    "USE_MPI, USE_GPU, RANK_MPI = atiSetup.setup(globals())\n",
    "\n",
    "cfgfile = f'{REPO_HOME}/tests/samples/SIMPLE_EXAMPLE/fit.cfg'\n",
    "randomSeed = int(time.time())\n",
    "seedfile = f'seed_file'\n",
    "numRnd = 0\n",
    "\n",
    "print(\"\\n\\n === COMMANDLINE ARGUMENTS === \")\n",
    "print(\"Config file:\", cfgfile)\n",
    "print(\"Seed file:\", seedfile)\n",
    "print(\"Number of random fits:\", numRnd)\n",
    "print(\"Random seed:\", randomSeed)\n",
    "print(\" ============================= \\n\\n\")"
   ]
  },
  {
   "cell_type": "markdown",
   "metadata": {},
   "source": [
    "We first load the configuration file by first passing it through a parser. We can display a detailed representation of its contents like so"
   ]
  },
  {
   "cell_type": "code",
   "execution_count": null,
   "metadata": {},
   "outputs": [],
   "source": [
    "parser = ConfigFileParser(cfgfile)\n",
    "cfgInfo: ConfigurationInfo = parser.getConfigurationInfo()\n",
    "cfgInfo.display()"
   ]
  },
  {
   "cell_type": "markdown",
   "metadata": {},
   "source": [
    "The confirguation file specifies a datareader called `ROOTDataReader` and the amplitude called `Zlm`. There are many datareaders (i.e. for `FSRoot` and another for `Bootstrapping`) and amplitudes (i.e. `BreitWigner` and `Piecewise`). Below, `DataReader` is an alias for `ROOTDataReader` or its `MPI` implementation. These aliases are created by `atiSetup`, see [here](library_loading) for more information."
   ]
  },
  {
   "cell_type": "code",
   "execution_count": null,
   "metadata": {},
   "outputs": [],
   "source": [
    "AmpToolsInterface.registerAmplitude( Zlm() )\n",
    "AmpToolsInterface.registerDataReader( DataReader() )\n",
    "# AmpToolsInterface.registerAmplitude( BreitWigner() )\n",
    "# AmpToolsInterface.registerAmplitude( Piecewise() )\n",
    "# AmpToolsInterface.registerDataReader( DataReaderBootstrap() )"
   ]
  },
  {
   "cell_type": "markdown",
   "metadata": {},
   "source": [
    "`AmpToolsInterface` is the primary way to interact with the `AmpTools` minimization library. From this `object` we can access thingss like a `ParameterManager` and a `MinimizationManager`. "
   ]
  },
  {
   "cell_type": "code",
   "execution_count": null,
   "metadata": {},
   "outputs": [],
   "source": [
    "ati = AmpToolsInterface( cfgInfo )\n",
    "AmpToolsInterface.setRandomSeed(randomSeed)"
   ]
  },
  {
   "cell_type": "markdown",
   "metadata": {},
   "source": [
    "A `fit` module is defined in PyAmpTools to run the standard MLE fit. We simply pass the recently created `ati` instance and the number of fits with random initializations to perform as the optimizer could get stuck in unwanted local minima.\n",
    "\n",
    "A single fit is performed without randomization is performed if `numRnd=0`"
   ]
  },
  {
   "cell_type": "code",
   "execution_count": null,
   "metadata": {},
   "outputs": [],
   "source": [
    "nll = runFits(ati, N=numRnd, USE_MPI=USE_MPI)"
   ]
  },
  {
   "cell_type": "code",
   "execution_count": null,
   "metadata": {},
   "outputs": [],
   "source": []
  }
 ],
 "metadata": {
  "kernelspec": {
   "display_name": "PyAmpTools",
   "language": "python",
   "name": "pyamptools"
  },
  "language_info": {
   "codemirror_mode": {
    "name": "ipython",
    "version": 3
   },
   "file_extension": ".py",
   "mimetype": "text/x-python",
   "name": "python",
   "nbconvert_exporter": "python",
   "pygments_lexer": "ipython3",
   "version": "3.9.18"
  }
 },
 "nbformat": 4,
 "nbformat_minor": 2
}

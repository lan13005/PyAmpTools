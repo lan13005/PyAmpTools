{
 "cells": [
  {
   "cell_type": "markdown",
   "metadata": {},
   "source": [
    "# Maximum Likelihood Estimation"
   ]
  },
  {
   "cell_type": "code",
   "execution_count": 1,
   "metadata": {},
   "outputs": [
    {
     "name": "stdout",
     "output_type": "stream",
     "text": [
      "Welcome to JupyROOT 6.28/06\n"
     ]
    }
   ],
   "source": [
    "import os\n",
    "import argparse\n",
    "import time\n",
    "from datetime import datetime\n",
    "import random\n",
    "import sys\n",
    "import atiSetup\n",
    "\n",
    "from fit import runFits"
   ]
  },
  {
   "cell_type": "code",
   "execution_count": 2,
   "metadata": {},
   "outputs": [
    {
     "name": "stdout",
     "output_type": "stream",
     "text": [
      "atiSetup| jupyter-lab called python3.9\n",
      "\n",
      "------------------------------------------------\n",
      "atiSetup| MPI is disabled\n",
      "atiSetup| GPU is disabled\n",
      "------------------------------------------------\n",
      "\n",
      "\n",
      "atiSetup| Loading library libAmpTools.so ..............  ON\n",
      "atiSetup| Loading library libAmpPlotter.so ............  ON\n",
      "atiSetup| Loading library libAmpsDataIO.so ............  ON\n",
      "atiSetup| Loading library libFSRoot.so ................  OFF\n",
      "atiSetup| Loading library libAmpsGen.so ...............  OFF\n",
      "\n",
      "\n",
      "------------------------------------------------\n",
      "------------------------------------------------\n",
      "\n",
      "Initializing AMPTOOLS_AMPS_DATAIO for PyROOT...\n"
     ]
    }
   ],
   "source": [
    "############## SET ENVIRONMENT VARIABLES ##############\n",
    "REPO_HOME = os.environ['REPO_HOME']\n",
    "USE_MPI, USE_GPU, RANK_MPI = atiSetup.setup(globals())\n",
    "\n",
    "cfgfile = f'{REPO_HOME}/tests/samples/SIMPLE_EXAMPLE/fitInit.cfg'\n",
    "randomSeed = int(time.time())\n",
    "seedfile = f'seed_file'\n",
    "numRnd = 0"
   ]
  },
  {
   "cell_type": "code",
   "execution_count": 3,
   "metadata": {},
   "outputs": [
    {
     "name": "stdout",
     "output_type": "stream",
     "text": [
      "\n",
      "\n",
      " === COMMANDLINE ARGUMENTS === \n",
      "Config file: /w/halld-scshelf2101/lng/WORK/PyAmpTools/tests/samples/SIMPLE_EXAMPLE/fitInit.cfg\n",
      "Seed file: seed_file\n",
      "Number of random fits: 0\n",
      "Random seed: 1699218519\n",
      " ============================= \n",
      "\n",
      "\n"
     ]
    }
   ],
   "source": [
    "print(\"\\n\\n === COMMANDLINE ARGUMENTS === \")\n",
    "print(\"Config file:\", cfgfile)\n",
    "print(\"Seed file:\", seedfile)\n",
    "print(\"Number of random fits:\", numRnd)\n",
    "print(\"Random seed:\", randomSeed)\n",
    "print(\" ============================= \\n\\n\")"
   ]
  },
  {
   "cell_type": "markdown",
   "metadata": {},
   "source": [
    "We first load the configuration file by first passing it through a parser. We can display a detailed representation of its contents like so"
   ]
  },
  {
   "cell_type": "code",
   "execution_count": 4,
   "metadata": {},
   "outputs": [
    {
     "name": "stdout",
     "output_type": "stream",
     "text": [
      "   =================================================================\n",
      "   |        ^                                                      |\n",
      "   |       / \\             Version:  v0.15.1-dirty                 |\n",
      "   |      /---\\                                                    |\n",
      "   |     /     \\           GDouble:  8 bytes                       |\n",
      "   |    /       \\ MP           MPI:  NO                            |\n",
      "   |     -------               GPU:  NO                            |\n",
      "   |        |                                                      |\n",
      "   |        |              doi.org/10.5281/zenodo.5039377          |\n",
      "   |        | OOLS                                                 |\n",
      "   =================================================================\n",
      "\n",
      "[ ConfigurationInfo ]:\n",
      "\n",
      "\t## CONFIGURATION INFO DISPLAY ##\n",
      "\t\n",
      "\n",
      "[ ReactionInfo ]:\n",
      "\n",
      "\t############################################\n",
      "\t#############   REACTION INFO  #############\n",
      "\t############################################\n",
      "\t      REACTION NAME:  etapi\n",
      "\t      PARTICLE LIST:  4\n",
      "\t\t\t1.  Beam\n",
      "\t\t\t2.  Proton\n",
      "\t\t\t3.  Eta\n",
      "\t\t\t4.  Pi0\n",
      "\t        DATA READER:  ROOTDataReader\n",
      "\t\t\t\t\t/w/halld-scshelf2101/lng/WORK/PyAmpTools/tests/samples/SIMPLE_EXAMPLE/samples/data_generated_samples.root\n",
      "\t      ACC MC READER:  ROOTDataReader\n",
      "\t\t\t\t\t/w/halld-scshelf2101/lng/WORK/PyAmpTools/tests/samples/SIMPLE_EXAMPLE/samples/flat_generated_samples.root\n",
      "\t      GEN MC READER:  ROOTDataReader\n",
      "\t\t\t\t\t/w/halld-scshelf2101/lng/WORK/PyAmpTools/tests/samples/SIMPLE_EXAMPLE/samples/flat_generated_samples.root\n",
      "\t  NORMALIZATION INTEGRAL FILE: \n",
      "\t\t\t    normint\n",
      "\t      GPU DEVICE NUMBER:  -1\n",
      "\n",
      "[ CoherentSumInfo ]:\n",
      "\n",
      "\t********************************************\n",
      "\t***********  COHERENT SUM INFO  ************\n",
      "\t********************************************\n",
      "\t      REACTION NAME:  etapi\n",
      "\t  COHERENT SUM NAME:  reZ\n",
      "\n",
      "[ AmplitudeInfo ]:\n",
      "\n",
      "\t++++++++++++++++++++++++++++++++++++++++++++\n",
      "\t+++++++++++++  AMPLITUDE INFO  +++++++++++++\n",
      "\t++++++++++++++++++++++++++++++++++++++++++++\n",
      "\t      REACTION NAME:  etapi\n",
      "\t  COHERENT SUM NAME:  reZ\n",
      "\t     AMPLITUDE NAME:  resAmp1\n",
      "\t            FACTORS:  1\n",
      "\t\t\t1.  \t Zlm\t 2\t 0\t +1\t +1\t 0.0\t 1.0\t\n",
      "\t EXTRA PERMUTATIONS:  0\n",
      "\t        CONSTRAINTS:  1\n",
      "\t\t\t1.  etapi::imZ::resAmp1\n",
      "\t         PARAMETERS:  0\n",
      "\t      INITIAL VALUE:  (10,0)\n",
      "\t               REAL?  1\n",
      "\t              FIXED?  0\n",
      "\t              SCALE:  1.0\n",
      "\t++++++++++++++++++++++++++++++++++++++++++++\n",
      "\t+++++++++++++  AMPLITUDE INFO  +++++++++++++\n",
      "\t++++++++++++++++++++++++++++++++++++++++++++\n",
      "\t      REACTION NAME:  etapi\n",
      "\t  COHERENT SUM NAME:  reZ\n",
      "\t     AMPLITUDE NAME:  resAmp2\n",
      "\t            FACTORS:  1\n",
      "\t\t\t1.  \t Zlm\t 2\t 2\t +1\t +1\t 0.0\t 1.0\t\n",
      "\t EXTRA PERMUTATIONS:  0\n",
      "\t        CONSTRAINTS:  1\n",
      "\t\t\t1.  etapi::imZ::resAmp2\n",
      "\t         PARAMETERS:  0\n",
      "\t      INITIAL VALUE:  (10,0)\n",
      "\t               REAL?  0\n",
      "\t              FIXED?  0\n",
      "\t              SCALE:  1.0\n",
      "\t++++++++++++++++++++++++++++++++++++++++++++\n",
      "\t+++++++++++++  AMPLITUDE INFO  +++++++++++++\n",
      "\t++++++++++++++++++++++++++++++++++++++++++++\n",
      "\t      REACTION NAME:  etapi\n",
      "\t  COHERENT SUM NAME:  reZ\n",
      "\t     AMPLITUDE NAME:  resAmp3\n",
      "\t            FACTORS:  1\n",
      "\t\t\t1.  \t Zlm\t 0\t 0\t +1\t +1\t 0.0\t 1.0\t\n",
      "\t EXTRA PERMUTATIONS:  0\n",
      "\t        CONSTRAINTS:  1\n",
      "\t\t\t1.  etapi::imZ::resAmp3\n",
      "\t         PARAMETERS:  0\n",
      "\t      INITIAL VALUE:  (10,0)\n",
      "\t               REAL?  0\n",
      "\t              FIXED?  0\n",
      "\t              SCALE:  1.0\n",
      "\n",
      "[ CoherentSumInfo ]:\n",
      "\n",
      "\t********************************************\n",
      "\t***********  COHERENT SUM INFO  ************\n",
      "\t********************************************\n",
      "\t      REACTION NAME:  etapi\n",
      "\t  COHERENT SUM NAME:  imZ\n",
      "\n",
      "[ AmplitudeInfo ]:\n",
      "\n",
      "\t++++++++++++++++++++++++++++++++++++++++++++\n",
      "\t+++++++++++++  AMPLITUDE INFO  +++++++++++++\n",
      "\t++++++++++++++++++++++++++++++++++++++++++++\n",
      "\t      REACTION NAME:  etapi\n",
      "\t  COHERENT SUM NAME:  imZ\n",
      "\t     AMPLITUDE NAME:  resAmp1\n",
      "\t            FACTORS:  1\n",
      "\t\t\t1.  \t Zlm\t 2\t 0\t -1\t -1\t 0.0\t 1.0\t\n",
      "\t EXTRA PERMUTATIONS:  0\n",
      "\t        CONSTRAINTS:  1\n",
      "\t\t\t1.  etapi::reZ::resAmp1\n",
      "\t         PARAMETERS:  0\n",
      "\t      INITIAL VALUE:  (10,0)\n",
      "\t               REAL?  1\n",
      "\t              FIXED?  0\n",
      "\t              SCALE:  1.0\n",
      "\t++++++++++++++++++++++++++++++++++++++++++++\n",
      "\t+++++++++++++  AMPLITUDE INFO  +++++++++++++\n",
      "\t++++++++++++++++++++++++++++++++++++++++++++\n",
      "\t      REACTION NAME:  etapi\n",
      "\t  COHERENT SUM NAME:  imZ\n",
      "\t     AMPLITUDE NAME:  resAmp2\n",
      "\t            FACTORS:  1\n",
      "\t\t\t1.  \t Zlm\t 2\t 2\t -1\t -1\t 0.0\t 1.0\t\n",
      "\t EXTRA PERMUTATIONS:  0\n",
      "\t        CONSTRAINTS:  1\n",
      "\t\t\t1.  etapi::reZ::resAmp2\n",
      "\t         PARAMETERS:  0\n",
      "\t      INITIAL VALUE:  (10,0)\n",
      "\t               REAL?  0\n",
      "\t              FIXED?  0\n",
      "\t              SCALE:  1.0\n",
      "\t++++++++++++++++++++++++++++++++++++++++++++\n",
      "\t+++++++++++++  AMPLITUDE INFO  +++++++++++++\n",
      "\t++++++++++++++++++++++++++++++++++++++++++++\n",
      "\t      REACTION NAME:  etapi\n",
      "\t  COHERENT SUM NAME:  imZ\n",
      "\t     AMPLITUDE NAME:  resAmp3\n",
      "\t            FACTORS:  1\n",
      "\t\t\t1.  \t Zlm\t 0\t 0\t -1\t -1\t 0.0\t 1.0\t\n",
      "\t EXTRA PERMUTATIONS:  0\n",
      "\t        CONSTRAINTS:  1\n",
      "\t\t\t1.  etapi::reZ::resAmp3\n",
      "\t         PARAMETERS:  0\n",
      "\t      INITIAL VALUE:  (10,0)\n",
      "\t               REAL?  0\n",
      "\t              FIXED?  0\n",
      "\t              SCALE:  1.0\n"
     ]
    }
   ],
   "source": [
    "parser = ConfigFileParser(cfgfile)\n",
    "cfgInfo: ConfigurationInfo = parser.getConfigurationInfo()\n",
    "cfgInfo.display()"
   ]
  },
  {
   "cell_type": "markdown",
   "metadata": {},
   "source": [
    "The confirguation file specifies a datareader called `ROOTDataReader` and the amplitude called `Zlm`. There are many datareaders (i.e. for `FSRoot` and another for `Bootstrapping`) and amplitudes (i.e. `BreitWigner` and `Piecewise`). Below, `DataReader` is an alias for `ROOTDataReader` or its `MPI` implementation. These aliases are created by `atiSetup`."
   ]
  },
  {
   "cell_type": "code",
   "execution_count": 5,
   "metadata": {},
   "outputs": [],
   "source": [
    "AmpToolsInterface.registerAmplitude( Zlm() )\n",
    "AmpToolsInterface.registerDataReader( DataReader() )\n",
    "# AmpToolsInterface.registerAmplitude( BreitWigner() )\n",
    "# AmpToolsInterface.registerAmplitude( Piecewise() )\n",
    "# AmpToolsInterface.registerDataReader( DataReaderBootstrap() )"
   ]
  },
  {
   "cell_type": "markdown",
   "metadata": {},
   "source": [
    "`AmpToolsInterface` is the primary way to interact with the `AmpTools` minimization library. From this `object` we can access things like a `ParameterManager` and a `MinimizationManager`. "
   ]
  },
  {
   "cell_type": "code",
   "execution_count": 6,
   "metadata": {},
   "outputs": [
    {
     "name": "stdout",
     "output_type": "stream",
     "text": [
      "\n",
      "[ Minuit ]:\n",
      "\n",
      "\t**********\n",
      "\t **    1 **SET STRATEGY  1\n",
      "\t**********\n",
      "\t NOW USING STRATEGY  1: TRY TO BALANCE SPEED AGAINST RELIABILITY\n",
      "\n",
      "[ AmplitudeManager ]:\n",
      "\n",
      "\tCreating AmplitudeManager for the reaction:  etapi\n",
      "\t\t particle index assignment:  Beam -> 0\n",
      "\t\t particle index assignment:  Proton -> 1\n",
      "\t\t particle index assignment:  Eta -> 2\n",
      "\t\t particle index assignment:  Pi0 -> 3\n",
      "\n",
      "[ NormIntInterface ]:\n",
      "\n",
      "\tLoading generated Monte Carlo from file...\n",
      "Resetting source kin in /w/halld-scshelf2101/lng/WORK/PyAmpTools/tests/samples/SIMPLE_EXAMPLE/samples/flat_generated_samples.root\n",
      "\tDuplicated Monte Carlo set detected, using previously loaded version\n"
     ]
    }
   ],
   "source": [
    "ati = AmpToolsInterface( cfgInfo )\n",
    "AmpToolsInterface.setRandomSeed(randomSeed)"
   ]
  },
  {
   "cell_type": "markdown",
   "metadata": {},
   "source": [
    "A `fit` module is defined in PyAmpTools to run the standard MLE fit. We simply pass the recently created `ati` instance and the number of fits with random initializations to perform. Randomization is beneficial as the optimizer could get stuck in unwanted local minima.\n",
    "\n",
    "A single fit is performed without randomization is performed if `numRnd=0`\n",
    "\n",
    "See [fit](https://lan13005.github.io/PyAmpTools/api/fit.html) for API and source code, including `runFits` below"
   ]
  },
  {
   "cell_type": "code",
   "execution_count": 7,
   "metadata": {},
   "outputs": [
    {
     "name": "stdout",
     "output_type": "stream",
     "text": [
      "LIKELIHOOD BEFORE MINIMIZATION: 112356.11732090596\n",
      "LIKELIHOOD AFTER MINIMIZATION (NO RANDOMIZATION): 14346.408126566832\n",
      "Resetting source kin in /w/halld-scshelf2101/lng/WORK/PyAmpTools/tests/samples/SIMPLE_EXAMPLE/samples/data_generated_samples.root\n",
      "\n",
      "[ Minuit ]:\n",
      "\n",
      "\t**********\n",
      "\t **    2 **MIGRAD 100000 0.1\n",
      "\t**********\n",
      "\t FIRST CALL TO USER FUNCTION AT NEW START POINT, WITH IFLAG=4.\n",
      "\t START MIGRAD MINIMIZATION.  STRATEGY  1  CONVERGENCE WHEN EDM .LT. 1.00e-04\n",
      "\t FCN=26585.6 FROM MIGRAD     STATUS=INITIATE      162         163 TOTAL\n",
      "\t                     EDM= unknown      STRATEGY= 1      NO ERROR MATRIX       \n",
      "\t  EXT PARAMETER                         CURRENT GUESS       STEP         FIRST   \n",
      "\t  NO.   NAME                  VALUE          ERROR          SIZE      DERIVATIVE \n",
      "\t    1 etapi::reZ::resAmp1_re  -8.24991e+01   1.00000e-01       -92.499        75.351\n",
      "\t    2 etapi::reZ::resAmp2_re   9.26049e+01   1.00000e-01             0        2.0926\n",
      "\t    3 etapi::reZ::resAmp2_im   2.78287e+02   1.00000e-02             0        44.689\n",
      "\t    4 etapi::reZ::resAmp3_re   1.00000e+01   1.00000e-01             0        75.356\n",
      "\t    5 etapi::reZ::resAmp3_im   1.50706e+02   1.00000e-02             0       -41.017\n",
      "\t\n",
      "\t MIGRAD MINIMIZATION HAS CONVERGED.\n",
      "\t FCN=14346.4 FROM MIGRAD     STATUS=CONVERGED     300         301 TOTAL\n",
      "\t                     EDM=2.08018e-06    STRATEGY= 1  ERROR MATRIX UNCERTAINTY 4.7e+00 per cent\n",
      "\t  EXT PARAMETER                                             STEP         FIRST   \n",
      "\t  NO.   NAME                  VALUE          ERROR          SIZE      DERIVATIVE \n",
      "\t    1 etapi::reZ::resAmp1_re  -1.39917e+02   2.44224e+00     -0.012835   -0.00050537\n",
      "\t    2 etapi::reZ::resAmp2_re  -8.07646e+01   6.24080e+00      0.037625   -0.00063901\n",
      "\t    3 etapi::reZ::resAmp2_im   1.34783e+02   4.87638e+00      0.050544   -0.00017916\n",
      "\t    4 etapi::reZ::resAmp3_re  -1.93378e+02   4.03569e+00      0.042951    0.00066661\n",
      "\t    5 etapi::reZ::resAmp3_im   1.06653e+02   4.59293e+00      0.021035   -0.00011554\n",
      "\t\n",
      "\t EXTERNAL ERROR MATRIX.    NDIM= 500    NPAR=  5    ERR DEF=1.00000e+00\n",
      "\t        5.96      -9.78      -7.67      -6.73      -5.68\n",
      "\t       -9.78       38.9       25.2       21.3       22.5\n",
      "\t       -7.67       25.2       23.8       15.5       13.4\n",
      "\t       -6.73       21.3       15.5       16.3       14.6\n",
      "\t       -5.68       22.5       13.4       14.6       21.1\n",
      "\t PARAMETER CORRELATION COEFFICIENTS\n",
      "\t       NO.  GLOBAL      1      2      3      4      5\n",
      "\t      1:     0.708  1.000 -0.641 -0.644 -0.683 -0.506\n",
      "\t      2:     0.911 -0.641  1.000  0.828  0.847  0.786\n",
      "\t      3:     0.862 -0.644  0.828  1.000  0.789  0.600\n",
      "\t      4:     0.900 -0.683  0.847  0.789  1.000  0.787\n",
      "\t      5:     0.837 -0.506  0.786  0.600  0.787  1.000\n",
      "\n",
      "[ MinuitMinimizationManager ]:\n",
      "\n",
      "\tMIGRAD evaluation total wall time:  2.61004e-01 s.\n",
      "\t   average time per function call:  8.64252e-01 ms.\n",
      "\n",
      "[ NormIntInterface ]:\n",
      "\n",
      "\tPerfect acceptance -- generated and accepted MC are the same\n"
     ]
    }
   ],
   "source": [
    "nll = runFits(ati, N=numRnd)"
   ]
  },
  {
   "cell_type": "markdown",
   "metadata": {},
   "source": [
    "After the fit is complete, a `.fit` file will be created with the name defined by the `fit` keyword in the cfg file. This file contains the results of the fit. A tutorial on how to plot the results of these `.fit` files will be shown in "
   ]
  },
  {
   "cell_type": "code",
   "execution_count": 8,
   "metadata": {},
   "outputs": [],
   "source": [
    "!rm -f seed_0.txt\n",
    "!rm -f normint\n",
    "!rm -f result_0.fit"
   ]
  }
 ],
 "metadata": {
  "kernelspec": {
   "display_name": "PyAmpTools",
   "language": "python",
   "name": "pyamptools"
  }
 },
 "nbformat": 4,
 "nbformat_minor": 2
}

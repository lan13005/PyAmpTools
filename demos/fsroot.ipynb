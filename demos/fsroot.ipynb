{
 "cells": [
  {
   "cell_type": "markdown",
   "metadata": {},
   "source": [
    "# FSROOT For Analysis"
   ]
  },
  {
   "cell_type": "markdown",
   "metadata": {},
   "source": [
    "`FSROOT` is an alternative way to process `ROOT` data. It is a `c++` library that is also python bound into the `PyAmpTools` package. This example is a work in progress but it shows a minimal example (thanks to Daniel Barton) of how to make a simple histogram. As I do not personally use `FSROOT` I cannot guarantee all functionality is python bound but in principle (most?) of it should be and is avaible in the global namespace after running `atiSetup.setup(globals(), use_fsroot=True)`."
   ]
  },
  {
   "cell_type": "code",
   "execution_count": null,
   "metadata": {},
   "outputs": [],
   "source": [
    "import ROOT\n",
    "from pyamptools import atiSetup\n",
    "import os\n",
    "from IPython.display import Image"
   ]
  },
  {
   "cell_type": "markdown",
   "metadata": {},
   "source": [
    "As always we need to load the environment. Since we are using `FSROOT`, we need to set `use_fsroot=True`"
   ]
  },
  {
   "cell_type": "code",
   "execution_count": null,
   "metadata": {},
   "outputs": [],
   "source": [
    "PYAMPTOOLS_HOME = os.environ['PYAMPTOOLS_HOME']\n",
    "atiSetup.setup(globals(), use_fsroot=True)"
   ]
  },
  {
   "cell_type": "markdown",
   "metadata": {},
   "source": [
    "We will reuse the test sample and plot the real part of some amplitude since this the only dataset available as part of this package"
   ]
  },
  {
   "cell_type": "code",
   "execution_count": null,
   "metadata": {},
   "outputs": [],
   "source": [
    "### Location of the data\n",
    "fileName = f\"{PYAMPTOOLS_HOME}/tests/samples/SIMPLE_EXAMPLE/samples/data_generated_samples_amps.root\"\n",
    "treeName = 'kin'\n",
    "variable = \"etapi.reZ.resAmp1_re\" # the \"Branch\" name in the ROOT tree\n",
    "\n",
    "### Plotting\n",
    "plotTitle = 'Real[Amplitude]'\n",
    "axisLabel = 'Value'\n",
    "\n",
    "canvas = ROOT.TCanvas('canvas', 'canvas', 800, 600)\n",
    "    \n",
    "h1 = FSHistogram.getTH1F(fileName, treeName, variable, \"(20, 0.0, 1.0)\", \"\")\n",
    "h1.SetStats(False)\n",
    "h1.SetLineColor(ROOT.kBlue)\n",
    "h1.GetXaxis().SetTitle(axisLabel)\n",
    "h1.GetYaxis().SetTitle('Events')\n",
    "h1.Draw()\n",
    "    \n",
    "legend1 = ROOT.TLegend(0.7, 0.9, 0.9, 0.75)\n",
    "legend1.Draw('same')\n",
    "\n",
    "img_path = 'test_etapi_reZ_resAmp1_re.png'\n",
    "canvas.SaveAs(img_path)\n",
    "canvas.Close()\n",
    "display(Image(filename=img_path))\n",
    "\n",
    "# clean up\n",
    "os.remove(img_path)"
   ]
  },
  {
   "cell_type": "code",
   "execution_count": null,
   "metadata": {},
   "outputs": [],
   "source": []
  }
 ],
 "metadata": {
  "kernelspec": {
   "display_name": "Python 3",
   "language": "python",
   "name": "python3"
  },
  "language_info": {
   "codemirror_mode": {
    "name": "ipython",
    "version": 3
   },
   "file_extension": ".py",
   "mimetype": "text/x-python",
   "name": "python",
   "nbconvert_exporter": "python",
   "pygments_lexer": "ipython3",
   "version": "3.9.20"
  }
 },
 "nbformat": 4,
 "nbformat_minor": 2
}

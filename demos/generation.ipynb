{
 "cells": [
  {
   "cell_type": "markdown",
   "metadata": {},
   "source": [
    "# Generating Data"
   ]
  },
  {
   "cell_type": "markdown",
   "metadata": {},
   "source": [
    "In PyAmpTools, `gen_amp` is a class that uses `AmpTools` to generate events based on some set of amplitudes. `gen_amp` is originally a compiled program, [source](https://github.com/JeffersonLab/halld_sim/blob/master/src/programs/Simulation/gen_amp/gen_amp.cc). AmpTools uses a configuration file to specify the model and dataset to be fitted.\n",
    "\n",
    "\n",
    "In order to use `gen_amp` within PyAmpTools you must first build the library. Simply go to `external/AMPTOOLS_GENERATORS` and run `make`"
   ]
  },
  {
   "cell_type": "code",
   "execution_count": null,
   "metadata": {},
   "outputs": [],
   "source": [
    "import ROOT\n",
    "import os\n",
    "\n",
    "############## SET ENVIRONMENT VARIABLES ##############\n",
    "REPO_HOME     = os.environ['REPO_HOME']\n",
    "from pyamptools import atiSetup\n",
    "USE_MPI, USE_GPU, RANK_MPI = atiSetup.setup(globals(), use_genamp=True) # RANK_MPI defaults to 0 even if not using MPI\n",
    "\n",
    "gen_amp = ROOT.gen_amp\n",
    "\n",
    "TFile = ROOT.TFile"
   ]
  },
  {
   "cell_type": "markdown",
   "metadata": {},
   "source": [
    "## Configuration File"
   ]
  },
  {
   "cell_type": "markdown",
   "metadata": {},
   "source": [
    "A configuration file contains the specifications of the model (and data) and contains all the information needed by `AmpTools` to generate Monte Carlo data and to perform fits. \n",
    "\n",
    "In AmpTools, an amplitude belongs in a coherent sum which itself belongs in to reaction. A unique name for an amplitude follows the format ~ `reactionName::sumName::ampName` where double colons are used to separate the terms. \n",
    "\n",
    "If the construction of the amplitudes is complicated with many repeating formats, then a configuration file generator could be used. See [cfgGenerator](https://lan13005.github.io/PyAmpTools/api/cfgGenerator.html) for API and source code.\n",
    "\n",
    "For now, we can use this generated cfg file"
   ]
  },
  {
   "cell_type": "code",
   "execution_count": null,
   "metadata": {},
   "outputs": [],
   "source": [
    "cfgfile = f'{REPO_HOME}/tests/samples/SIMPLE_EXAMPLE/fit.cfg'"
   ]
  },
  {
   "cell_type": "code",
   "execution_count": null,
   "metadata": {},
   "outputs": [],
   "source": [
    "%cat $cfgfile"
   ]
  },
  {
   "cell_type": "markdown",
   "metadata": {},
   "source": [
    "Some things to note. The head of the cfg file contains available keywords that provide some specific functionality. See [AmpTools Documentation](https://github.com/mashephe/AmpTools/blob/master/AmpTools_User_Guide.pdf) for more information. The amplitudes used here are known as the Zlm amplitudes. See here for the [Zlm amplitude implementation](https://halldweb.jlab.org/DocDB/0040/004094/003/amptools_polarization.pdf). These complex parameters are initialized in cartesian coordinates. Polar coordinates are are possible"
   ]
  },
  {
   "cell_type": "markdown",
   "metadata": {},
   "source": [
    "## Generating Events"
   ]
  },
  {
   "cell_type": "markdown",
   "metadata": {},
   "source": [
    "With the configuration file we can request `gen_amp` to make some simulations.  Not all lines in the above cfg file is needed for generation, for instance the dataset locations, but will be used during fitting.\n",
    "\n",
    "Here, `gen_amp` is class, and requires instantiation"
   ]
  },
  {
   "cell_type": "code",
   "execution_count": null,
   "metadata": {},
   "outputs": [],
   "source": [
    "generator = gen_amp()"
   ]
  },
  {
   "cell_type": "markdown",
   "metadata": {},
   "source": [
    "`gen_amp` contains many variables to condition the generator. We can see these attribute below"
   ]
  },
  {
   "cell_type": "code",
   "execution_count": null,
   "metadata": {},
   "outputs": [],
   "source": [
    "generator.print_help()"
   ]
  },
  {
   "cell_type": "markdown",
   "metadata": {},
   "source": [
    "A good way to set these data members is to create a dictionary to store our specifications (and save if we wish for reproducibility/referencing) and condition our generator as follows. \n",
    "\n",
    "These data members requires modification\n",
    "1. configfile\n",
    "2. outname"
   ]
  },
  {
   "cell_type": "code",
   "execution_count": null,
   "metadata": {},
   "outputs": [],
   "source": [
    "outfile = 'test.root'\n",
    "\n",
    "conditions = {\n",
    "    'configfile': cfgfile,\n",
    "    'outname': outfile,\n",
    "    'nEvents': 1000,\n",
    "}\n",
    "\n",
    "for k, v in conditions.items():\n",
    "    setattr(generator, k, v)"
   ]
  },
  {
   "cell_type": "markdown",
   "metadata": {},
   "source": [
    "To see the values of all the datamembers (most contain some default values):"
   ]
  },
  {
   "cell_type": "code",
   "execution_count": null,
   "metadata": {},
   "outputs": [],
   "source": [
    "for member in generator.data_members:\n",
    "    member = str(member)\n",
    "    print(f'{member:<20} {getattr(generator, member )}' )"
   ]
  },
  {
   "cell_type": "markdown",
   "metadata": {},
   "source": [
    "After conditioning the generator, simulations can be performed!"
   ]
  },
  {
   "cell_type": "code",
   "execution_count": null,
   "metadata": {},
   "outputs": [],
   "source": [
    "generator.generate()"
   ]
  },
  {
   "cell_type": "markdown",
   "metadata": {},
   "source": [
    "A `*diagnostic.root` is also created containing a variety of mass and angular histograms. A file called `test.root` should have been created containing the 4-momentum components for all particles. To understand physical data collected by a detector, simulations like this one would have to then be passed through a simulation of detector to produce realistic data. We can use `PyROOT` to quickly glance at the contents of the file."
   ]
  },
  {
   "cell_type": "code",
   "execution_count": null,
   "metadata": {},
   "outputs": [],
   "source": [
    "file = ROOT.TFile(outfile)\n",
    "tree = file.kin"
   ]
  },
  {
   "cell_type": "code",
   "execution_count": null,
   "metadata": {},
   "outputs": [],
   "source": [
    "tree.Print()"
   ]
  },
  {
   "cell_type": "markdown",
   "metadata": {},
   "source": [
    "Lets clean up these generated files as we do not actually need them"
   ]
  },
  {
   "cell_type": "code",
   "execution_count": null,
   "metadata": {},
   "outputs": [],
   "source": [
    "# Free the file handle first so we can clean up\n",
    "del tree\n",
    "del file\n",
    "\n",
    "!rm gen_amp_diagnostic.root\n",
    "!rm test.root\n",
    "!rm local_beam.conf"
   ]
  },
  {
   "cell_type": "code",
   "execution_count": null,
   "metadata": {},
   "outputs": [],
   "source": []
  }
 ],
 "metadata": {
  "kernelspec": {
   "display_name": "pyamptools",
   "language": "python",
   "name": "python3"
  },
  "language_info": {
   "codemirror_mode": {
    "name": "ipython",
    "version": 3
   },
   "file_extension": ".py",
   "mimetype": "text/x-python",
   "name": "python",
   "nbconvert_exporter": "python",
   "pygments_lexer": "ipython3",
   "version": "3.9.18"
  }
 },
 "nbformat": 4,
 "nbformat_minor": 2
}

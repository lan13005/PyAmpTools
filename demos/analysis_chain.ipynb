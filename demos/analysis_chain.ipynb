{
 "cells": [
  {
   "cell_type": "markdown",
   "metadata": {},
   "source": [
    "# Analysis Chain Example"
   ]
  },
  {
   "cell_type": "markdown",
   "metadata": {},
   "source": [
    "This analysis chain is an example of an **input/output** study. \n",
    "\n",
    "1. We draw a sample from the nifty prior distribution\n",
    "2. generate simulations (using `gen_amp` + `halld_sim/Piecewise` amplitude mimicking prior sample)\n",
    "3. fit the simulatisons using binned fits (by `AmpTools`) and `iftpwa`\n",
    "\n",
    "We would like to show a high probability of reconstruction. If this occurs for a wide variety of samples (and we believe our data could be approximately described by the very-flexible nifty prior) then we have successfully demonstrated that inference would be robust. This is in constrast to standard analyses in the field where we come up with ad-hoc models (implicit priors) then perform an I/O study on it. In this case, perhaps only a handful of rigid models are tested which would not necessarily translate to robust inference.\n",
    "\n",
    "```{note}\n",
    "This analysis is just for illustration purposes, optimization was not performed for very long.\n",
    "```"
   ]
  },
  {
   "cell_type": "code",
   "execution_count": null,
   "metadata": {},
   "outputs": [],
   "source": [
    "from pyamptools import atiSetup\n",
    "import os\n",
    "os.environ[\"PYTHONWARNINGS\"] = \"ignore\""
   ]
  },
  {
   "cell_type": "code",
   "execution_count": 2,
   "metadata": {},
   "outputs": [],
   "source": [
    "def run_cmd_list(cmds):\n",
    "    for command in cmds:\n",
    "        print(f\"running: {command}\")\n",
    "        os.system(command)"
   ]
  },
  {
   "cell_type": "code",
   "execution_count": null,
   "metadata": {},
   "outputs": [],
   "source": [
    "atiSetup.setup(globals(), use_fsroot=True, use_genamp=True)"
   ]
  },
  {
   "cell_type": "code",
   "execution_count": null,
   "metadata": {},
   "outputs": [],
   "source": [
    "PYAMPTOOLS_HOME = os.getenv(\"PYAMPTOOLS_HOME\")\n",
    "subdir = f\"{PYAMPTOOLS_HOME}/demos/ift_example/\"\n",
    "print(f\"subdir: {subdir}\")"
   ]
  },
  {
   "cell_type": "code",
   "execution_count": null,
   "metadata": {},
   "outputs": [],
   "source": [
    "# cleanup\n",
    "os.system(f'rm -rf {subdir}/NiftyFits')\n",
    "os.system(f'rm -rf {subdir}/AmpToolsFits')\n",
    "os.system(f'mkdir -p {subdir}/NiftyFits/prior_sim_DATA')\n"
   ]
  },
  {
   "cell_type": "markdown",
   "metadata": {},
   "source": [
    "## Draw prior sample from `iftpwa`"
   ]
  },
  {
   "cell_type": "code",
   "execution_count": null,
   "metadata": {},
   "outputs": [],
   "source": [
    "# Draw from the nifty prior distribution\n",
    "nifty_prior_draw_cmds = [\n",
    "    f'sed -i -E \"s/force_load_normint: true/force_load_normint: false/\" {subdir}/pyamptools.yaml',\n",
    "    f'mkdir -p {subdir}/NiftyFits/prior_sim',\n",
    "    f'pa run_ift {subdir}/pyamptools.yaml --prior_simulation',\n",
    "    f'mv {subdir}/NiftyFits/niftypwa_fit.pkl {subdir}/NiftyFits/prior_sim/niftypwa_fit.pkl',\n",
    "    f'rm -rf {subdir}/NiftyFits/prior_sim/plots; iftPwaPlot --fitResult {subdir}/NiftyFits/prior_sim/niftypwa_fit.pkl --plotFolder {subdir}/NiftyFits/prior_sim/plots --n_prior_samples 1000'\n",
    "]\n",
    "\n",
    "run_cmd_list(nifty_prior_draw_cmds)"
   ]
  },
  {
   "cell_type": "markdown",
   "metadata": {},
   "source": [
    "## Simulate data from the model and phase space MC"
   ]
  },
  {
   "cell_type": "code",
   "execution_count": null,
   "metadata": {},
   "outputs": [],
   "source": [
    "max_mass = 1.72\n",
    "min_mass = 1.04\n",
    "t_slope = 3.0\n",
    "min_ebeam = 8.2\n",
    "max_ebeam = 8.8\n",
    "data_nsamples = 100000\n",
    "gen_nsamples = 500000\n",
    "\n",
    "generation_cmds = [\n",
    "    f'python {subdir}/prior_sim_gen.py', # create the amptools cfg file using halld_sim/Piecewise to model the nifty prior sample\n",
    "    f'pa gen_amp {subdir}/prior_sim_gen.cfg -o {subdir}/NiftyFits/prior_sim_DATA/data000.root -l {min_mass} -u {max_mass} -n {data_nsamples} -a {min_ebeam} -b {max_ebeam} -t {t_slope}',\n",
    "    f'mv gen_amp_diagnostic.root {subdir}/NiftyFits/prior_sim_DATA/gen_amp_diagnostic_data.root 2>/dev/null',\n",
    "    \n",
    "    f'pa gen_amp {subdir}/prior_sim_gen.cfg -o {subdir}/NiftyFits/prior_sim_DATA/accmc000.root -l {min_mass} -u {max_mass} -n {gen_nsamples} -a {min_ebeam} -b {max_ebeam} -t {t_slope} -f ',\n",
    "    f'cp {subdir}/NiftyFits/prior_sim_DATA/accmc000.root {subdir}/NiftyFits/prior_sim_DATA/genmc000.root', # uniform acceptance example\n",
    "    f'mv gen_amp_diagnostic.root {subdir}/NiftyFits/prior_sim_DATA/gen_amp_diagnostic_ps.root 2>/dev/null',\n",
    "]\n",
    "\n",
    "run_cmd_list(generation_cmds)"
   ]
  },
  {
   "cell_type": "markdown",
   "metadata": {},
   "source": [
    "## Run the MLE fits using `AmpTools`"
   ]
  },
  {
   "cell_type": "code",
   "execution_count": null,
   "metadata": {},
   "outputs": [],
   "source": [
    "mle_cmds = [\n",
    "    f'pa run_cfgGen {subdir}/pyamptools.yaml',\n",
    "    f'pa run_divideData {subdir}/pyamptools.yaml',\n",
    "    f'pa run_mle {subdir}/pyamptools.yaml',\n",
    "    f'pa run_processEvents {subdir}/pyamptools.yaml',\n",
    "]\n",
    "\n",
    "run_cmd_list(mle_cmds)"
   ]
  },
  {
   "cell_type": "markdown",
   "metadata": {},
   "source": [
    "## Run the `iftpwa` fits"
   ]
  },
  {
   "cell_type": "code",
   "execution_count": null,
   "metadata": {},
   "outputs": [],
   "source": [
    "ift_cmds = [\n",
    "    f'sed -i -E \"s/force_load_normint: false/force_load_normint: true/\" {subdir}/pyamptools.yaml',\n",
    "    f'rm -rf {subdir}/NiftyFits/.nifty_expanded.yaml', # trash previous expanded yaml which might not have the right IFT_MODEL.scale since \\'auto\\' could be overwritten\n",
    "    f'pa run_ift {subdir}/pyamptools.yaml',\n",
    "    f\"rm -rf {subdir}/NiftyFits/plots\",\n",
    "    f\"iftPwaPlot --fitResult {subdir}/NiftyFits/niftypwa_fit.pkl --plotFolder {subdir}/NiftyFits/plots  --massIndepFit {subdir}/NiftyFits/.nifty_expanded.yaml --n_prior_samples 1000\",\n",
    "    f\"plotConvergence --inputFolder {subdir}/NiftyFits/fit_parameter_history --plotFolder {subdir}/NiftyFits/convergence_plots\",\n",
    "]\n",
    "\n",
    "run_cmd_list(ift_cmds)"
   ]
  },
  {
   "cell_type": "markdown",
   "metadata": {},
   "source": [
    "## Plot the moments and dump all results to a csv file"
   ]
  },
  {
   "cell_type": "code",
   "execution_count": null,
   "metadata": {},
   "outputs": [],
   "source": [
    "aux_cmds = [\n",
    "    f'pa run_momentPlotter {subdir}/pyamptools.yaml -n 10',\n",
    "    f'pa run_resultDump {subdir}/pyamptools.yaml -n 10',\n",
    "]\n",
    "\n",
    "run_cmd_list(aux_cmds)"
   ]
  },
  {
   "cell_type": "markdown",
   "metadata": {},
   "source": [
    "## Save copies for the gallery"
   ]
  },
  {
   "cell_type": "code",
   "execution_count": 11,
   "metadata": {},
   "outputs": [],
   "source": [
    "# # copy some select plots to be used in the gallery and perform cleanup\n",
    "# copy_cmds = [\n",
    "#     f'cp {subdir}/NiftyFits/plots/moments/H0\\(0,0\\)_t0.5.pdf {PYAMPTOOLS_HOME}/assets/images/H0_0_0.pdf',\n",
    "#     f'cp {subdir}/NiftyFits/plots/moments/H0\\(2,0\\)_t0.5.pdf {PYAMPTOOLS_HOME}/assets/images/H0_2_0.pdf',\n",
    "#     f'cp \"{subdir}/NiftyFits/plots/parameters/m_{{a_2(1320)}}.pdf\" \"{PYAMPTOOLS_HOME}/assets/images/m_a2_1320_kde.pdf\"',\n",
    "#     f'cp \"{subdir}/NiftyFits/plots/parameters/m_{{a_0(980)}}.pdf\" \"{PYAMPTOOLS_HOME}/assets/images/m_a0_980_kde.pdf\"',\n",
    "#     f'cp \"{subdir}/NiftyFits/convergence_plots/m_{{a_2(1320)}}.pdf\" \"{PYAMPTOOLS_HOME}/assets/images/m_a2_1320_convergence.pdf\"',\n",
    "#     f'cp \"{subdir}/NiftyFits/convergence_plots/m_{{a_0(980)}}.pdf\" \"{PYAMPTOOLS_HOME}/assets/images/m_a0_980_convergence.pdf\"',\n",
    "# ]\n",
    "\n",
    "# run_cmd_list(copy_cmds)\n",
    "\n",
    "# # Copy all pdfs to assets/images and convert to png to be rendered in gallery page\n",
    "# os.chdir(f'{PYAMPTOOLS_HOME}/assets/images')\n",
    "# os.system('for f in *.pdf; do convert -density 300 \"$f\" \"${f%.pdf}.png\"; done')\n",
    "# os.system('rm *.pdf')"
   ]
  },
  {
   "cell_type": "markdown",
   "metadata": {},
   "source": [
    "## Cleanup"
   ]
  },
  {
   "cell_type": "code",
   "execution_count": null,
   "metadata": {},
   "outputs": [],
   "source": [
    "# clean up \n",
    "os.system('rm *.pdf')\n",
    "os.system(f'rm -f {subdir}/../local_beam.conf')\n",
    "os.system(f'rm -rf {subdir}/AmpToolsFits')\n",
    "os.system(f'rm -rf {subdir}/NiftyFits')\n",
    "os.system(f'rm -rf {subdir}/*pkl')\n",
    "os.system(f'rm -rf {subdir}/*cfg')\n",
    "os.system(f'rm -rf {subdir}/*csv')"
   ]
  },
  {
   "cell_type": "code",
   "execution_count": null,
   "metadata": {},
   "outputs": [],
   "source": []
  }
 ],
 "metadata": {
  "kernelspec": {
   "display_name": "Python 3",
   "language": "python",
   "name": "python3"
  },
  "language_info": {
   "codemirror_mode": {
    "name": "ipython",
    "version": 3
   },
   "file_extension": ".py",
   "mimetype": "text/x-python",
   "name": "python",
   "nbconvert_exporter": "python",
   "pygments_lexer": "ipython3",
   "version": "3.9.20"
  }
 },
 "nbformat": 4,
 "nbformat_minor": 2
}

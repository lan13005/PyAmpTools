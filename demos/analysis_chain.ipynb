{
 "cells": [
  {
   "cell_type": "markdown",
   "metadata": {},
   "source": [
    "# Analysis Workflow"
   ]
  },
  {
   "cell_type": "markdown",
   "metadata": {},
   "source": [
    "# Motivation\n",
    "- Partial wave analysis can be complicated (fitting, bookkeeping, result handling, ...)\n",
    "- PyAmpTools sacrifices flexibility for ease of use and focuses on Python as the core language\n",
    "- **Features:**\n",
    "    - Scientific Python ecosystem is massive (achieve most of the benefits of low level languages without the hassle)\n",
    "    - Optimization uses gradients provided by JAX automatic differentiation (scales better than numerical diff.)\n",
    "    - Hooks into several optimization frameworks spanning MLE, MCMC, to Variational Inference\n",
    "        - iminuit, scipy, numpyro, iftpwa\n",
    "    - YAML file is used to configure the analysis for consistency and automation\n",
    "    - Fitting is generally done through the command line"
   ]
  },
  {
   "cell_type": "markdown",
   "metadata": {},
   "source": [
    "# Workflow Example\n",
    "\n",
    "The following analysis chain is an example of an **input/output** study. If you have data then you can skip you basically skip the first two steps.\n",
    "\n",
    "1. We draw a sample from the nifty prior distribution\n",
    "2. generate simulations (using `gen_amp` + `halld_sim/Piecewise` amplitude mimicking prior sample)\n",
    "3. bin the data\n",
    "4. fit the simulated data using:\n",
    "    - Maximum Likelihood Estimation (MLE)\n",
    "    - Markov Chain Monte Carlo (MCMC)\n",
    "    - Information Field Theory (IFT)\n",
    "5. plot the results\n",
    "\n",
    "We would like to show a high probability of reconstruction. If this occurs for a wide variety of samples (and we believe our data could be approximately described by the very-flexible nifty prior) then we have successfully demonstrated that inference would be robust."
   ]
  },
  {
   "cell_type": "markdown",
   "metadata": {},
   "source": [
    "![alt text](optimization_mermaid.png)"
   ]
  },
  {
   "cell_type": "code",
   "execution_count": null,
   "metadata": {},
   "outputs": [],
   "source": [
    "import os\n",
    "import subprocess\n",
    "from pyamptools.utility.resultManager import ResultManager\n",
    "from pyamptools.utility.resultManager import (\n",
    "    plot_binned_intensities, \n",
    "    plot_binned_complex_plane, \n",
    "    plot_overview_across_bins, \n",
    "    plot_moments_across_bins, \n",
    "    plot_gen_curves,\n",
    "    montage_and_gif_select_plots\n",
    ")\n",
    "from pdf2image import convert_from_path\n",
    "\n",
    "def run_command(command):\n",
    "    \"\"\"Captures output so we do not have to dump everything to the terminal\"\"\"\n",
    "    result = subprocess.run(command, capture_output=True, shell=True, text=True)\n",
    "    return result.stdout, result.stderr\n",
    "\n",
    "def show_pdf(pdf_path, dpi=150):\n",
    "    \"\"\"\n",
    "    Show a PDF in the notebook cell, rasterized since vscode jupyter cannot render PDFs\n",
    "    \n",
    "    \"\"\"\n",
    "    img = convert_from_path(pdf_path, dpi=dpi)[0]\n",
    "    display(img)\n",
    "\n",
    "PYAMPTOOLS_HOME = os.getenv(\"PYAMPTOOLS_HOME\")\n",
    "BASE_DIRECTORY = \"RESULTS_TEST\""
   ]
  },
  {
   "cell_type": "code",
   "execution_count": null,
   "metadata": {},
   "outputs": [],
   "source": [
    "print(\"Doing some pre-run cleanup...\")\n",
    "os.system('rm -rf main.yaml local_beam.conf *.lock')\n",
    "os.system(f'rm -rf {BASE_DIRECTORY}')"
   ]
  },
  {
   "cell_type": "markdown",
   "metadata": {},
   "source": [
    "## Default YAML file\n",
    "\n",
    "First we create a copy of the default YAML file which contains comments that explain each key/knob in the analysis"
   ]
  },
  {
   "cell_type": "code",
   "execution_count": null,
   "metadata": {},
   "outputs": [],
   "source": [
    "main_yaml = \"main.yaml\"\n",
    "\n",
    "print(\"Generating default YAML file...\")\n",
    "stdout, stderr = run_command(f\"pa from_default -o {main_yaml} -t twops -c\") # -c for starting clean slate\n",
    "\n",
    "# Update required fields the user is supposed to update manually for testing\n",
    "cwd = os.getcwd()\n",
    "update_required_fields = [\n",
    "    f\"sed -i 's|_BASE_DIRECTORY_|{cwd}/{BASE_DIRECTORY}|g' {main_yaml}\",\n",
    "    f\"sed -i 's|_DATA_SOURCES_|DATA_SOURCES|g' {main_yaml}\",\n",
    "]\n",
    "for cmd in update_required_fields:\n",
    "    os.system(cmd)\n",
    "print(\"Updated required fields in YAML file...\")"
   ]
  },
  {
   "cell_type": "markdown",
   "metadata": {},
   "source": [
    "### Print contents of yaml file"
   ]
  },
  {
   "cell_type": "code",
   "execution_count": null,
   "metadata": {},
   "outputs": [],
   "source": [
    "from rich.console import Console\n",
    "from rich.syntax import Syntax\n",
    "\n",
    "with open(main_yaml, 'r') as f:\n",
    "    yaml_content = f.read()\n",
    "\n",
    "console = Console()\n",
    "console.print(Syntax(yaml_content, \"yaml\", theme='default'))"
   ]
  },
  {
   "cell_type": "markdown",
   "metadata": {},
   "source": [
    "## Processing the event sample\n",
    "\n",
    "### Have Data?\n",
    "\n",
    "**If you already have a data sample:**\n",
    "You obviously will not need to draw a sample from the prior. You will need to update the YAML file to properly use your data sample. Most of the keys you need to modify are top level keys. These keys specify your dataset, reaction, and kinematic binning. Once that is done, you can run the following commands and you will be ready to perform fits. Depending on your dataset size and model, the default settings for the optimization schemes may not be appropriate.\n",
    "\n",
    "```bash\n",
    "# Update <main_yaml> to use your data sample, reaction, kinematic binning, etc.\n",
    "# In your shell, run the following commands\n",
    "pa run_cfgGen <main_yaml>\n",
    "pa run_divideData <main_yaml>\n",
    "pa run_processEvents <main_yaml>\n",
    "```\n",
    "\n",
    "### Drawing Simulations\n",
    "\n",
    "Draw a sample from the iftpwa prior model then simulate data from the model and phase space MC. Then divide the data into kinematic bins."
   ]
  },
  {
   "cell_type": "code",
   "execution_count": null,
   "metadata": {},
   "outputs": [],
   "source": [
    "seed = 42 # rng seed for reproducibility\n",
    "t_slope = 3.0 # slope of the momentum transfer (exponentially distributed)\n",
    "min_ebeam = 8.2 # minimum energy of the photon beam\n",
    "max_ebeam = 8.8 # maximum energy of the photon beam\n",
    "n_data = 10000 # number of data samples to generate\n",
    "n_ps = 50000   # number of phase space samples to generate\n",
    "\n",
    "# -c for starting clean\n",
    "print(\"Running prior simulation...\")\n",
    "stdout, stderr = run_command(f\"pa run_priorSim {main_yaml} -s {seed} -emin {min_ebeam} -emax {max_ebeam} -t {t_slope} -nd {n_data} -np {n_ps} -c\")"
   ]
  },
  {
   "cell_type": "code",
   "execution_count": null,
   "metadata": {},
   "outputs": [],
   "source": [
    "print(\"Prior simulation complete, drawing results...\")\n",
    "resultManager = ResultManager(main_yaml, silence=True)\n",
    "resultManager.attempt_load_all()\n",
    "plot_gen_curves(resultManager, file_type='pdf')\n",
    "show_pdf(f\"{BASE_DIRECTORY}/PLOTS/gen_curves.pdf\")\n",
    "del resultManager"
   ]
  },
  {
   "cell_type": "markdown",
   "metadata": {},
   "source": [
    "## Run the MLE fits using iminuit"
   ]
  },
  {
   "cell_type": "markdown",
   "metadata": {},
   "source": [
    "We begin by running a set of maximum likelihood fits on the generated data and compare the results to the generated amplitudes. The specifications for this optimization are specified in the YAML file under the `mle` key. \n",
    "\n",
    "The **ResultManager** class, when initialized with the path to the YAML file, will automatically attempt to load all results into memory. Each result (from MLE, MCMC, IFT) is stored a separate directory for unique access. All results (complex amplitude values, intensities, and metadata like mass, likelihood, etc.) are pulled into a flat pandas dataframe for efficient plotting and analysis.\n",
    "\n",
    "The main \"money\" plot (intensity and relative phases of all partial waves) can be generated with the default plotting function, **plot_overview_across_bins**. The MLE results a slightly jittered to avoid too much overlap. The **dashed lines** are the generated amplitudes"
   ]
  },
  {
   "cell_type": "code",
   "execution_count": null,
   "metadata": {},
   "outputs": [],
   "source": [
    "print(\"Running MLE fits...\")\n",
    "stdout, stderr = run_command(f\"pa run_mle {main_yaml}\")"
   ]
  },
  {
   "cell_type": "code",
   "execution_count": null,
   "metadata": {},
   "outputs": [],
   "source": [
    "print(\"MLE fits complete, plotting results...\")\n",
    "resultManager = ResultManager(main_yaml, silence=True) # Silence all the helpful output for clean documentation\n",
    "resultManager.attempt_load_all()\n",
    "plot_overview_across_bins(resultManager, file_type='pdf')\n",
    "montage_and_gif_select_plots(resultManager, file_type='pdf')\n",
    "show_pdf(f\"{BASE_DIRECTORY}/PLOTS/intensity_and_phases/montage_output.pdf\")\n",
    "del resultManager"
   ]
  },
  {
   "cell_type": "markdown",
   "metadata": {},
   "source": [
    "## Run MCMC fits using NUTS algorithm"
   ]
  },
  {
   "cell_type": "markdown",
   "metadata": {},
   "source": [
    "MCMC is a set of techniques that draws samples from the posterior distribution. This framework uses Hamiltonian Monte Carlo (HMC) implemented in the No U-Turn Sampler (NUTS) algorithm. For this study, we choose 8 independent chains (each starting off in a different region of parameter space, traverses and draws samples from the posterior). **n_warmup** designates the number of samples to discard as the chains move toward a posterior mode and is used to adapt internal NUTS parameters. **n_samples** is the number of samples to draw for each chain. **n_chains** is drawn for each mass bin independently and the work is pooled across all **n_processes** processes\n",
    "\n",
    "The newly created MCMC results is automatically loaded by the **ResultManager** class and the same plotting calls are made"
   ]
  },
  {
   "cell_type": "code",
   "execution_count": null,
   "metadata": {},
   "outputs": [],
   "source": [
    "# We can also explicitly overwrite the options in the YAML file using these command line args\n",
    "n_processes = 17\n",
    "n_chains = 8\n",
    "n_warmup = 500\n",
    "n_samples = 100\n",
    "print(\"Running MCMC fits...\")\n",
    "stdout, stderr = run_command(f\"pa run_mcmc {main_yaml} -np {n_processes} -nc {n_chains} -nw {n_warmup} -ns {n_samples}\")"
   ]
  },
  {
   "cell_type": "code",
   "execution_count": null,
   "metadata": {},
   "outputs": [],
   "source": [
    "print(\"MCMC fits complete, plotting results...\")\n",
    "resultManager = ResultManager(main_yaml, silence=True)\n",
    "resultManager.attempt_load_all()\n",
    "plot_overview_across_bins(resultManager, file_type='pdf')\n",
    "montage_and_gif_select_plots(resultManager, file_type='pdf')\n",
    "show_pdf(f\"{BASE_DIRECTORY}/PLOTS/intensity_and_phases/montage_output.pdf\")\n",
    "del resultManager"
   ]
  },
  {
   "cell_type": "markdown",
   "metadata": {},
   "source": [
    "## Run `iftpwa` fit"
   ]
  },
  {
   "cell_type": "markdown",
   "metadata": {},
   "source": [
    "Finally we run a IFT analysis with the same prior model used to generate the synthetic data to obtain a posterior estimate. These are shown in the **solid lines**. The settings for the IFT model are specified in the YAML file under the `nifty` key."
   ]
  },
  {
   "cell_type": "code",
   "execution_count": null,
   "metadata": {},
   "outputs": [],
   "source": [
    "print(\"Running IFT fit...\")\n",
    "stdout, stderr = run_command(f\"pa run_ift {main_yaml}\")"
   ]
  },
  {
   "cell_type": "code",
   "execution_count": null,
   "metadata": {},
   "outputs": [],
   "source": [
    "print(\"IFT fit complete, plotting results...\")\n",
    "resultManager = ResultManager(main_yaml, silence=True)\n",
    "resultManager.attempt_load_all()\n",
    "plot_overview_across_bins(resultManager, file_type='pdf')\n",
    "montage_and_gif_select_plots(resultManager, file_type='pdf')\n",
    "show_pdf(f\"{BASE_DIRECTORY}/PLOTS/intensity_and_phases/montage_output.pdf\")\n",
    "del resultManager"
   ]
  },
  {
   "cell_type": "markdown",
   "metadata": {},
   "source": [
    "# Additional Plots\n",
    "\n",
    "This sections contains a few additional default plots that highlight different aspects of the analysis: \n",
    "1. Plot projected moments\n",
    "2. Plot inferred amplitudes in the complex plane\n",
    "3. Plot intensity distributions\n",
    "\n",
    "We first need to create the plots which also requires projecting the amplitudes onto the moment basis."
   ]
  },
  {
   "cell_type": "code",
   "execution_count": null,
   "metadata": {},
   "outputs": [],
   "source": [
    "print(\"Plotting additional results...\")\n",
    "resultManager = ResultManager(main_yaml, silence=True)\n",
    "resultManager.attempt_load_all()\n",
    "resultManager.attempt_project_moments(normalization_scheme=0, pool_size=4, batch_size=200)\n",
    "plot_binned_complex_plane(resultManager, file_type='pdf', silence=True)\n",
    "plot_binned_intensities(resultManager, file_type='pdf', silence=True)\n",
    "plot_moments_across_bins(resultManager, file_type='pdf')\n",
    "montage_and_gif_select_plots(resultManager, file_type='pdf')\n",
    "del resultManager"
   ]
  },
  {
   "cell_type": "markdown",
   "metadata": {},
   "source": [
    "## Plot projected moments\n",
    "\n",
    "We can project the inferred amplitudes into moments to understand whether the scatter in the amplitude basis collapses onto a tighter space in the moment basis. This allows one to answer questions related to ambiguities and stability of the inference in the amplitude basis. \n",
    "\n",
    "Here, we only plot the non-zero moments (given the set of inferred partial waves). The moments are normalized to the zeroth moment. The MLE point estimates are only shown (errors not propagated)"
   ]
  },
  {
   "cell_type": "code",
   "execution_count": null,
   "metadata": {},
   "outputs": [],
   "source": [
    "show_pdf(f\"{BASE_DIRECTORY}/PLOTS/moments/montage_output.pdf\")"
   ]
  },
  {
   "cell_type": "markdown",
   "metadata": {},
   "source": [
    "## Plots of the complex plane:\n",
    "\n",
    "The inferred amplitudes live in the complex plane. We can scatter the inferred amplitudes and compare the results from the different techniques to see how they compare. A comparison is only shown for one bin. The reference waves are shown as histograms since they have no imaginary component. The color of the scattered points in the non-reference waves is mapped to the intensity of the corresponding reference wave. In this example, the MLE and MCMC results agree and that the MLE errors track the MCMC samples. The band of MCMC solutions is from the smaller reference wave intensity not locking in a well defined phase"
   ]
  },
  {
   "cell_type": "code",
   "execution_count": null,
   "metadata": {},
   "outputs": [],
   "source": [
    "show_pdf(f\"{BASE_DIRECTORY}/PLOTS/complex_plane/bin3_complex_plane.pdf\")"
   ]
  },
  {
   "cell_type": "markdown",
   "metadata": {},
   "source": [
    "## Plots of the intensity distributions:\n",
    "\n",
    "The overview plot (intensity and relative phases as a function of mass) gives a qualitative description of the results. This plot shows the intensity distribution of the results from the various techniques in a single bin. The $D_2^-$ wave in this bin is small. The estimated MLE uncertainties are bad in this case and covers negative values. The MCMC results shows a highly skewed distribution. \n"
   ]
  },
  {
   "cell_type": "code",
   "execution_count": null,
   "metadata": {},
   "outputs": [],
   "source": [
    "show_pdf(f\"{BASE_DIRECTORY}/PLOTS/intensity/bin1_intensities.pdf\")"
   ]
  },
  {
   "cell_type": "markdown",
   "metadata": {},
   "source": [
    "# Cleanup"
   ]
  },
  {
   "cell_type": "code",
   "execution_count": null,
   "metadata": {},
   "outputs": [],
   "source": [
    "print(\"Cleaning up...\")\n",
    "os.system('rm -rf main.yaml local_beam.conf *.lock')\n",
    "os.system(f'rm -r {BASE_DIRECTORY}')"
   ]
  }
 ],
 "metadata": {
  "kernelspec": {
   "display_name": "Python 3",
   "language": "python",
   "name": "python3"
  },
  "language_info": {
   "codemirror_mode": {
    "name": "ipython",
    "version": 3
   },
   "file_extension": ".py",
   "mimetype": "text/x-python",
   "name": "python",
   "nbconvert_exporter": "python",
   "pygments_lexer": "ipython3",
   "version": "3.9.23"
  }
 },
 "nbformat": 4,
 "nbformat_minor": 4
}
